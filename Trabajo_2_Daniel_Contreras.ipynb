{
  "cells": [
    {
      "cell_type": "markdown",
      "metadata": {
        "id": "view-in-github",
        "colab_type": "text"
      },
      "source": [
        "<a href=\"https://colab.research.google.com/github/dcontrerascaballol/inventos/blob/main/Trabajo_2_Daniel_Contreras.ipynb\" target=\"_parent\"><img src=\"https://colab.research.google.com/assets/colab-badge.svg\" alt=\"Open In Colab\"/></a>"
      ]
    },
    {
      "cell_type": "markdown",
      "metadata": {
        "id": "o2GZogtpMgPp"
      },
      "source": [
        "### Tarea N° 2 Curso Análisis y Limpieza de datos.\n",
        "\n",
        "#### Posgrado en Data Science UDD\n",
        "\n",
        "#### Profesor responsable: Jorge Alexis Castillo Sepúlveda\n",
        "\n",
        "#### Alumno: Daniel Contreras Caballol"
      ]
    },
    {
      "cell_type": "code",
      "execution_count": null,
      "metadata": {
        "id": "MvfWTGgOMgPp"
      },
      "outputs": [],
      "source": [
        "# Importación de librerías\n",
        "\n",
        "import numpy as np\n",
        "import pandas as pd\n",
        "import datetime\n",
        "import matplotlib.pyplot as plt\n",
        "import seaborn as sns"
      ]
    },
    {
      "cell_type": "markdown",
      "metadata": {
        "id": "8D43XaP6MgPq"
      },
      "source": [
        "### Preguntas"
      ]
    },
    {
      "cell_type": "markdown",
      "metadata": {
        "id": "cwIcX5x9MgPq"
      },
      "source": [
        "#### 1) Juntar todos los archivos de todos los años en un solo dataframe global para efectuar los análisis posteriores."
      ]
    },
    {
      "cell_type": "code",
      "execution_count": null,
      "metadata": {
        "id": "0ppMAnQiMgPr"
      },
      "outputs": [],
      "source": [
        "data_2008=pd.read_csv(\"NAC_2008.csv\", sep=\";\",encoding=\"latin-1\")\n",
        "data_2009=pd.read_csv(\"NAC_2009.csv\", sep=\";\",encoding=\"latin-1\")\n",
        "data_2010=pd.read_csv(\"NAC_2010.csv\", sep=\";\",encoding=\"latin-1\")\n",
        "data_2011=pd.read_csv(\"NAC_2011.csv\", sep=\";\",encoding=\"latin-1\")\n",
        "data_2012=pd.read_csv(\"NAC_2012.csv\", sep=\";\",encoding=\"latin-1\")\n",
        "data_2013=pd.read_csv(\"NAC_2013.csv\", sep=\";\",encoding=\"latin-1\")\n",
        "data_2014=pd.read_csv(\"NAC_2014.csv\", sep=\";\",encoding=\"latin-1\")\n",
        "data_2015=pd.read_csv(\"NAC_2015.csv\", sep=\";\",encoding=\"latin-1\")\n",
        "data_2016=pd.read_csv(\"NAC_2016.csv\", sep=\";\",encoding=\"latin-1\")\n",
        "data_2017=pd.read_csv(\"NAC_2017.csv\", sep=\";\",encoding=\"latin-1\")"
      ]
    },
    {
      "cell_type": "code",
      "execution_count": null,
      "metadata": {
        "id": "hmhZx8pUMgPr"
      },
      "outputs": [],
      "source": [
        "data=[data_2008,data_2009,data_2010,data_2011,data_2012,data_2013,\n",
        "     data_2014,data_2015,data_2016,data_2017]"
      ]
    },
    {
      "cell_type": "code",
      "execution_count": null,
      "metadata": {
        "id": "EKktFqGBMgPr",
        "outputId": "97103816-c054-479c-a2ce-96bde8b0c377"
      },
      "outputs": [
        {
          "data": {
            "text/html": [
              "<div>\n",
              "<style scoped>\n",
              "    .dataframe tbody tr th:only-of-type {\n",
              "        vertical-align: middle;\n",
              "    }\n",
              "\n",
              "    .dataframe tbody tr th {\n",
              "        vertical-align: top;\n",
              "    }\n",
              "\n",
              "    .dataframe thead th {\n",
              "        text-align: right;\n",
              "    }\n",
              "</style>\n",
              "<table border=\"1\" class=\"dataframe\">\n",
              "  <thead>\n",
              "    <tr style=\"text-align: right;\">\n",
              "      <th></th>\n",
              "      <th>SEXO</th>\n",
              "      <th>DIA_NAC</th>\n",
              "      <th>MES_NAC</th>\n",
              "      <th>ANO_NAC</th>\n",
              "      <th>TIPO_PARTO</th>\n",
              "      <th>ATENC_PART</th>\n",
              "      <th>LOCAL_PART</th>\n",
              "      <th>SEMANAS</th>\n",
              "      <th>PESO</th>\n",
              "      <th>TALLA</th>\n",
              "      <th>...</th>\n",
              "      <th>COMUNA</th>\n",
              "      <th>URBA_RURAL</th>\n",
              "      <th>HIJ_VIVOS</th>\n",
              "      <th>HIJ_FALL</th>\n",
              "      <th>HIJ_MORT</th>\n",
              "      <th>HIJ_TOTAL</th>\n",
              "      <th>REG_RES</th>\n",
              "      <th>SERV_RES</th>\n",
              "      <th>ESTAB</th>\n",
              "      <th>NAC_MA</th>\n",
              "    </tr>\n",
              "  </thead>\n",
              "  <tbody>\n",
              "    <tr>\n",
              "      <th>0</th>\n",
              "      <td>1</td>\n",
              "      <td>4</td>\n",
              "      <td>1</td>\n",
              "      <td>2008</td>\n",
              "      <td>1</td>\n",
              "      <td>2</td>\n",
              "      <td>1</td>\n",
              "      <td>36</td>\n",
              "      <td>2930</td>\n",
              "      <td>47</td>\n",
              "      <td>...</td>\n",
              "      <td>13401</td>\n",
              "      <td>1</td>\n",
              "      <td>1</td>\n",
              "      <td>0.0</td>\n",
              "      <td>0.0</td>\n",
              "      <td>1</td>\n",
              "      <td>13</td>\n",
              "      <td>13</td>\n",
              "      <td>HOSPITAL EL PINO</td>\n",
              "      <td>NaN</td>\n",
              "    </tr>\n",
              "    <tr>\n",
              "      <th>1</th>\n",
              "      <td>1</td>\n",
              "      <td>5</td>\n",
              "      <td>1</td>\n",
              "      <td>2008</td>\n",
              "      <td>1</td>\n",
              "      <td>2</td>\n",
              "      <td>1</td>\n",
              "      <td>37</td>\n",
              "      <td>3945</td>\n",
              "      <td>51</td>\n",
              "      <td>...</td>\n",
              "      <td>13115</td>\n",
              "      <td>1</td>\n",
              "      <td>4</td>\n",
              "      <td>0.0</td>\n",
              "      <td>0.0</td>\n",
              "      <td>4</td>\n",
              "      <td>13</td>\n",
              "      <td>12</td>\n",
              "      <td>CLINICA ALEMANA</td>\n",
              "      <td>NaN</td>\n",
              "    </tr>\n",
              "    <tr>\n",
              "      <th>2</th>\n",
              "      <td>1</td>\n",
              "      <td>1</td>\n",
              "      <td>1</td>\n",
              "      <td>2008</td>\n",
              "      <td>1</td>\n",
              "      <td>1</td>\n",
              "      <td>1</td>\n",
              "      <td>41</td>\n",
              "      <td>2940</td>\n",
              "      <td>49</td>\n",
              "      <td>...</td>\n",
              "      <td>5101</td>\n",
              "      <td>1</td>\n",
              "      <td>1</td>\n",
              "      <td>0.0</td>\n",
              "      <td>0.0</td>\n",
              "      <td>1</td>\n",
              "      <td>5</td>\n",
              "      <td>6</td>\n",
              "      <td>HOSPITAL CARLOS VAN BUREN</td>\n",
              "      <td>NaN</td>\n",
              "    </tr>\n",
              "    <tr>\n",
              "      <th>3</th>\n",
              "      <td>1</td>\n",
              "      <td>4</td>\n",
              "      <td>1</td>\n",
              "      <td>2008</td>\n",
              "      <td>1</td>\n",
              "      <td>2</td>\n",
              "      <td>1</td>\n",
              "      <td>39</td>\n",
              "      <td>2950</td>\n",
              "      <td>49</td>\n",
              "      <td>...</td>\n",
              "      <td>5106</td>\n",
              "      <td>1</td>\n",
              "      <td>1</td>\n",
              "      <td>0.0</td>\n",
              "      <td>0.0</td>\n",
              "      <td>1</td>\n",
              "      <td>5</td>\n",
              "      <td>7</td>\n",
              "      <td>HOSPITAL DE QUILPUE</td>\n",
              "      <td>NaN</td>\n",
              "    </tr>\n",
              "    <tr>\n",
              "      <th>4</th>\n",
              "      <td>2</td>\n",
              "      <td>4</td>\n",
              "      <td>1</td>\n",
              "      <td>2008</td>\n",
              "      <td>1</td>\n",
              "      <td>2</td>\n",
              "      <td>1</td>\n",
              "      <td>37</td>\n",
              "      <td>3070</td>\n",
              "      <td>48</td>\n",
              "      <td>...</td>\n",
              "      <td>2101</td>\n",
              "      <td>1</td>\n",
              "      <td>2</td>\n",
              "      <td>0.0</td>\n",
              "      <td>0.0</td>\n",
              "      <td>2</td>\n",
              "      <td>2</td>\n",
              "      <td>3</td>\n",
              "      <td>Clinica de la Mujer</td>\n",
              "      <td>NaN</td>\n",
              "    </tr>\n",
              "  </tbody>\n",
              "</table>\n",
              "<p>5 rows × 33 columns</p>\n",
              "</div>"
            ],
            "text/plain": [
              "   SEXO  DIA_NAC  MES_NAC  ANO_NAC  TIPO_PARTO  ATENC_PART  LOCAL_PART  \\\n",
              "0     1        4        1     2008           1           2           1   \n",
              "1     1        5        1     2008           1           2           1   \n",
              "2     1        1        1     2008           1           1           1   \n",
              "3     1        4        1     2008           1           2           1   \n",
              "4     2        4        1     2008           1           2           1   \n",
              "\n",
              "   SEMANAS  PESO  TALLA  ...  COMUNA  URBA_RURAL  HIJ_VIVOS  HIJ_FALL  \\\n",
              "0       36  2930     47  ...   13401           1          1       0.0   \n",
              "1       37  3945     51  ...   13115           1          4       0.0   \n",
              "2       41  2940     49  ...    5101           1          1       0.0   \n",
              "3       39  2950     49  ...    5106           1          1       0.0   \n",
              "4       37  3070     48  ...    2101           1          2       0.0   \n",
              "\n",
              "  HIJ_MORT  HIJ_TOTAL  REG_RES  SERV_RES                      ESTAB  NAC_MA  \n",
              "0      0.0          1       13        13           HOSPITAL EL PINO     NaN  \n",
              "1      0.0          4       13        12            CLINICA ALEMANA     NaN  \n",
              "2      0.0          1        5         6  HOSPITAL CARLOS VAN BUREN     NaN  \n",
              "3      0.0          1        5         7        HOSPITAL DE QUILPUE     NaN  \n",
              "4      0.0          2        2         3        Clinica de la Mujer     NaN  \n",
              "\n",
              "[5 rows x 33 columns]"
            ]
          },
          "execution_count": 159,
          "metadata": {},
          "output_type": "execute_result"
        }
      ],
      "source": [
        "data=pd.concat(data)\n",
        "data.head(5)"
      ]
    },
    {
      "cell_type": "code",
      "execution_count": null,
      "metadata": {
        "scrolled": true,
        "id": "HpBPCZlfMgPs",
        "outputId": "bd8a28e6-0674-400c-c464-1b83035d344d"
      },
      "outputs": [
        {
          "name": "stdout",
          "output_type": "stream",
          "text": [
            "<class 'pandas.core.frame.DataFrame'>\n",
            "Int64Index: 2429064 entries, 0 to 219185\n",
            "Data columns (total 33 columns):\n",
            " #   Column      Dtype  \n",
            "---  ------      -----  \n",
            " 0   SEXO        int64  \n",
            " 1   DIA_NAC     int64  \n",
            " 2   MES_NAC     int64  \n",
            " 3   ANO_NAC     int64  \n",
            " 4   TIPO_PARTO  int64  \n",
            " 5   ATENC_PART  int64  \n",
            " 6   LOCAL_PART  int64  \n",
            " 7   SEMANAS     int64  \n",
            " 8   PESO        int64  \n",
            " 9   TALLA       int64  \n",
            " 10  EDAD_P      float64\n",
            " 11  CURSO_P     float64\n",
            " 12  NIVEL_P     float64\n",
            " 13  ACTIV_P     int64  \n",
            " 14  OCUPA_P     object \n",
            " 15  CATEG_P     int64  \n",
            " 16  EDAD_M      int64  \n",
            " 17  EST_CIVI_M  int64  \n",
            " 18  CURSO_M     int64  \n",
            " 19  NIVEL_M     int64  \n",
            " 20  ACTIV_M     int64  \n",
            " 21  OCUPA_M     object \n",
            " 22  CATEG_M     int64  \n",
            " 23  COMUNA      int64  \n",
            " 24  URBA_RURAL  int64  \n",
            " 25  HIJ_VIVOS   int64  \n",
            " 26  HIJ_FALL    float64\n",
            " 27  HIJ_MORT    float64\n",
            " 28  HIJ_TOTAL   int64  \n",
            " 29  REG_RES     int64  \n",
            " 30  SERV_RES    int64  \n",
            " 31  ESTAB       object \n",
            " 32  NAC_MA      object \n",
            "dtypes: float64(5), int64(24), object(4)\n",
            "memory usage: 630.1+ MB\n"
          ]
        }
      ],
      "source": [
        "data.info()"
      ]
    },
    {
      "cell_type": "code",
      "execution_count": null,
      "metadata": {
        "id": "R2kO_TV7MgPs",
        "outputId": "9c2c4b08-3be3-48a0-da12-fafac89e3eaf"
      },
      "outputs": [
        {
          "data": {
            "text/plain": [
              "(2429064, 33)"
            ]
          },
          "execution_count": 12,
          "metadata": {},
          "output_type": "execute_result"
        }
      ],
      "source": [
        "data.shape"
      ]
    },
    {
      "cell_type": "code",
      "execution_count": null,
      "metadata": {
        "id": "n_5V0XlaMgPs",
        "outputId": "d829c6cc-e9bc-4ce9-ac4a-178d748cb0cf"
      },
      "outputs": [
        {
          "data": {
            "text/plain": [
              "int64      24\n",
              "float64     5\n",
              "object      4\n",
              "dtype: int64"
            ]
          },
          "execution_count": 127,
          "metadata": {},
          "output_type": "execute_result"
        }
      ],
      "source": [
        "data.dtypes.value_counts()"
      ]
    },
    {
      "cell_type": "code",
      "execution_count": null,
      "metadata": {
        "id": "wyYP4iGXMgPs",
        "outputId": "aefcdde3-dee0-4083-e8fc-3eee0311f36f"
      },
      "outputs": [
        {
          "data": {
            "text/plain": [
              "Index(['SEXO', 'DIA_NAC', 'MES_NAC', 'ANO_NAC', 'TIPO_PARTO', 'ATENC_PART',\n",
              "       'LOCAL_PART', 'SEMANAS', 'PESO', 'TALLA', 'EDAD_P', 'CURSO_P',\n",
              "       'NIVEL_P', 'ACTIV_P', 'OCUPA_P', 'CATEG_P', 'EDAD_M', 'EST_CIVI_M',\n",
              "       'CURSO_M', 'NIVEL_M', 'ACTIV_M', 'OCUPA_M', 'CATEG_M', 'COMUNA',\n",
              "       'URBA_RURAL', 'HIJ_VIVOS', 'HIJ_FALL', 'HIJ_MORT', 'HIJ_TOTAL',\n",
              "       'REG_RES', 'SERV_RES', 'ESTAB', 'NAC_MA'],\n",
              "      dtype='object')"
            ]
          },
          "execution_count": 13,
          "metadata": {},
          "output_type": "execute_result"
        }
      ],
      "source": [
        "data.columns"
      ]
    },
    {
      "cell_type": "code",
      "execution_count": null,
      "metadata": {
        "id": "DJg9bxSpMgPs",
        "outputId": "23e8f641-35e8-468c-b78f-3e8f9be32452"
      },
      "outputs": [
        {
          "data": {
            "text/plain": [
              "Index(['SEXO', 'DIA_NAC', 'MES_NAC', 'ANO_NAC', 'TIPO_PARTO', 'ATENC_PART',\n",
              "       'LOCAL_PART', 'SEMANAS', 'PESO', 'TALLA', 'ACTIV_P', 'CATEG_P',\n",
              "       'EDAD_M', 'EST_CIVI_M', 'CURSO_M', 'NIVEL_M', 'ACTIV_M', 'CATEG_M',\n",
              "       'COMUNA', 'URBA_RURAL', 'HIJ_VIVOS', 'HIJ_TOTAL', 'REG_RES',\n",
              "       'SERV_RES'],\n",
              "      dtype='object')"
            ]
          },
          "execution_count": 128,
          "metadata": {},
          "output_type": "execute_result"
        }
      ],
      "source": [
        "data.select_dtypes(include=['int64']).columns"
      ]
    },
    {
      "cell_type": "code",
      "execution_count": null,
      "metadata": {
        "scrolled": true,
        "id": "Whi2q4JyMgPt",
        "outputId": "ee9a4aeb-2317-40f6-b03d-f0209f6eba13"
      },
      "outputs": [
        {
          "data": {
            "text/html": [
              "<div>\n",
              "<style scoped>\n",
              "    .dataframe tbody tr th:only-of-type {\n",
              "        vertical-align: middle;\n",
              "    }\n",
              "\n",
              "    .dataframe tbody tr th {\n",
              "        vertical-align: top;\n",
              "    }\n",
              "\n",
              "    .dataframe thead th {\n",
              "        text-align: right;\n",
              "    }\n",
              "</style>\n",
              "<table border=\"1\" class=\"dataframe\">\n",
              "  <thead>\n",
              "    <tr style=\"text-align: right;\">\n",
              "      <th></th>\n",
              "      <th>SEXO</th>\n",
              "      <th>DIA_NAC</th>\n",
              "      <th>MES_NAC</th>\n",
              "      <th>ANO_NAC</th>\n",
              "      <th>TIPO_PARTO</th>\n",
              "      <th>ATENC_PART</th>\n",
              "      <th>LOCAL_PART</th>\n",
              "      <th>SEMANAS</th>\n",
              "      <th>PESO</th>\n",
              "      <th>TALLA</th>\n",
              "      <th>...</th>\n",
              "      <th>ACTIV_M</th>\n",
              "      <th>CATEG_M</th>\n",
              "      <th>COMUNA</th>\n",
              "      <th>URBA_RURAL</th>\n",
              "      <th>HIJ_VIVOS</th>\n",
              "      <th>HIJ_FALL</th>\n",
              "      <th>HIJ_MORT</th>\n",
              "      <th>HIJ_TOTAL</th>\n",
              "      <th>REG_RES</th>\n",
              "      <th>SERV_RES</th>\n",
              "    </tr>\n",
              "  </thead>\n",
              "  <tbody>\n",
              "    <tr>\n",
              "      <th>count</th>\n",
              "      <td>2429064.000000</td>\n",
              "      <td>2429064.000000</td>\n",
              "      <td>2429064.000000</td>\n",
              "      <td>2429064.000000</td>\n",
              "      <td>2429064.000000</td>\n",
              "      <td>2429064.000000</td>\n",
              "      <td>2429064.000000</td>\n",
              "      <td>2429064.000000</td>\n",
              "      <td>2429064.000000</td>\n",
              "      <td>2429064.000000</td>\n",
              "      <td>...</td>\n",
              "      <td>2429064.000000</td>\n",
              "      <td>2429064.000000</td>\n",
              "      <td>2429064.000000</td>\n",
              "      <td>2429064.000000</td>\n",
              "      <td>2429064.000000</td>\n",
              "      <td>2429062.000000</td>\n",
              "      <td>2429062.000000</td>\n",
              "      <td>2429064.000000</td>\n",
              "      <td>2429064.000000</td>\n",
              "      <td>2429064.000000</td>\n",
              "    </tr>\n",
              "    <tr>\n",
              "      <th>mean</th>\n",
              "      <td>1.490413</td>\n",
              "      <td>15.693748</td>\n",
              "      <td>6.471338</td>\n",
              "      <td>2012.415488</td>\n",
              "      <td>1.033552</td>\n",
              "      <td>1.560977</td>\n",
              "      <td>1.013168</td>\n",
              "      <td>38.543038</td>\n",
              "      <td>3326.726021</td>\n",
              "      <td>49.366253</td>\n",
              "      <td>...</td>\n",
              "      <td>0.498389</td>\n",
              "      <td>1.044437</td>\n",
              "      <td>9552.694158</td>\n",
              "      <td>1.091264</td>\n",
              "      <td>2.256430</td>\n",
              "      <td>0.401802</td>\n",
              "      <td>0.409900</td>\n",
              "      <td>1.923566</td>\n",
              "      <td>9.355577</td>\n",
              "      <td>12.957405</td>\n",
              "    </tr>\n",
              "    <tr>\n",
              "      <th>std</th>\n",
              "      <td>0.502438</td>\n",
              "      <td>8.771658</td>\n",
              "      <td>3.456707</td>\n",
              "      <td>2.846506</td>\n",
              "      <td>0.348812</td>\n",
              "      <td>0.574076</td>\n",
              "      <td>0.283411</td>\n",
              "      <td>3.096772</td>\n",
              "      <td>614.848048</td>\n",
              "      <td>3.269136</td>\n",
              "      <td>...</td>\n",
              "      <td>0.844763</td>\n",
              "      <td>1.347180</td>\n",
              "      <td>3877.509526</td>\n",
              "      <td>0.287985</td>\n",
              "      <td>6.110205</td>\n",
              "      <td>6.219168</td>\n",
              "      <td>6.219600</td>\n",
              "      <td>1.471580</td>\n",
              "      <td>3.893450</td>\n",
              "      <td>6.508941</td>\n",
              "    </tr>\n",
              "    <tr>\n",
              "      <th>min</th>\n",
              "      <td>1.000000</td>\n",
              "      <td>1.000000</td>\n",
              "      <td>1.000000</td>\n",
              "      <td>2008.000000</td>\n",
              "      <td>1.000000</td>\n",
              "      <td>1.000000</td>\n",
              "      <td>1.000000</td>\n",
              "      <td>15.000000</td>\n",
              "      <td>110.000000</td>\n",
              "      <td>16.000000</td>\n",
              "      <td>...</td>\n",
              "      <td>0.000000</td>\n",
              "      <td>0.000000</td>\n",
              "      <td>1101.000000</td>\n",
              "      <td>1.000000</td>\n",
              "      <td>0.000000</td>\n",
              "      <td>0.000000</td>\n",
              "      <td>0.000000</td>\n",
              "      <td>0.000000</td>\n",
              "      <td>1.000000</td>\n",
              "      <td>1.000000</td>\n",
              "    </tr>\n",
              "    <tr>\n",
              "      <th>25%</th>\n",
              "      <td>1.000000</td>\n",
              "      <td>8.000000</td>\n",
              "      <td>3.000000</td>\n",
              "      <td>2010.000000</td>\n",
              "      <td>1.000000</td>\n",
              "      <td>1.000000</td>\n",
              "      <td>1.000000</td>\n",
              "      <td>38.000000</td>\n",
              "      <td>3040.000000</td>\n",
              "      <td>48.000000</td>\n",
              "      <td>...</td>\n",
              "      <td>0.000000</td>\n",
              "      <td>0.000000</td>\n",
              "      <td>6113.000000</td>\n",
              "      <td>1.000000</td>\n",
              "      <td>1.000000</td>\n",
              "      <td>0.000000</td>\n",
              "      <td>0.000000</td>\n",
              "      <td>1.000000</td>\n",
              "      <td>6.000000</td>\n",
              "      <td>9.000000</td>\n",
              "    </tr>\n",
              "    <tr>\n",
              "      <th>50%</th>\n",
              "      <td>1.000000</td>\n",
              "      <td>16.000000</td>\n",
              "      <td>6.000000</td>\n",
              "      <td>2012.000000</td>\n",
              "      <td>1.000000</td>\n",
              "      <td>2.000000</td>\n",
              "      <td>1.000000</td>\n",
              "      <td>39.000000</td>\n",
              "      <td>3350.000000</td>\n",
              "      <td>50.000000</td>\n",
              "      <td>...</td>\n",
              "      <td>0.000000</td>\n",
              "      <td>0.000000</td>\n",
              "      <td>10101.000000</td>\n",
              "      <td>1.000000</td>\n",
              "      <td>2.000000</td>\n",
              "      <td>0.000000</td>\n",
              "      <td>0.000000</td>\n",
              "      <td>2.000000</td>\n",
              "      <td>10.000000</td>\n",
              "      <td>13.000000</td>\n",
              "    </tr>\n",
              "    <tr>\n",
              "      <th>75%</th>\n",
              "      <td>2.000000</td>\n",
              "      <td>23.000000</td>\n",
              "      <td>9.000000</td>\n",
              "      <td>2015.000000</td>\n",
              "      <td>1.000000</td>\n",
              "      <td>2.000000</td>\n",
              "      <td>1.000000</td>\n",
              "      <td>40.000000</td>\n",
              "      <td>3660.000000</td>\n",
              "      <td>51.000000</td>\n",
              "      <td>...</td>\n",
              "      <td>1.000000</td>\n",
              "      <td>2.000000</td>\n",
              "      <td>13120.000000</td>\n",
              "      <td>1.000000</td>\n",
              "      <td>2.000000</td>\n",
              "      <td>0.000000</td>\n",
              "      <td>0.000000</td>\n",
              "      <td>2.000000</td>\n",
              "      <td>13.000000</td>\n",
              "      <td>16.000000</td>\n",
              "    </tr>\n",
              "    <tr>\n",
              "      <th>max</th>\n",
              "      <td>9.000000</td>\n",
              "      <td>39.000000</td>\n",
              "      <td>12.000000</td>\n",
              "      <td>2017.000000</td>\n",
              "      <td>9.000000</td>\n",
              "      <td>9.000000</td>\n",
              "      <td>9.000000</td>\n",
              "      <td>99.000000</td>\n",
              "      <td>9999.000000</td>\n",
              "      <td>99.000000</td>\n",
              "      <td>...</td>\n",
              "      <td>9.000000</td>\n",
              "      <td>9.000000</td>\n",
              "      <td>15202.000000</td>\n",
              "      <td>2.000000</td>\n",
              "      <td>99.000000</td>\n",
              "      <td>99.000000</td>\n",
              "      <td>99.000000</td>\n",
              "      <td>99.000000</td>\n",
              "      <td>15.000000</td>\n",
              "      <td>33.000000</td>\n",
              "    </tr>\n",
              "  </tbody>\n",
              "</table>\n",
              "<p>8 rows × 29 columns</p>\n",
              "</div>"
            ],
            "text/plain": [
              "                 SEXO         DIA_NAC         MES_NAC         ANO_NAC  \\\n",
              "count  2429064.000000  2429064.000000  2429064.000000  2429064.000000   \n",
              "mean         1.490413       15.693748        6.471338     2012.415488   \n",
              "std          0.502438        8.771658        3.456707        2.846506   \n",
              "min          1.000000        1.000000        1.000000     2008.000000   \n",
              "25%          1.000000        8.000000        3.000000     2010.000000   \n",
              "50%          1.000000       16.000000        6.000000     2012.000000   \n",
              "75%          2.000000       23.000000        9.000000     2015.000000   \n",
              "max          9.000000       39.000000       12.000000     2017.000000   \n",
              "\n",
              "           TIPO_PARTO      ATENC_PART      LOCAL_PART         SEMANAS  \\\n",
              "count  2429064.000000  2429064.000000  2429064.000000  2429064.000000   \n",
              "mean         1.033552        1.560977        1.013168       38.543038   \n",
              "std          0.348812        0.574076        0.283411        3.096772   \n",
              "min          1.000000        1.000000        1.000000       15.000000   \n",
              "25%          1.000000        1.000000        1.000000       38.000000   \n",
              "50%          1.000000        2.000000        1.000000       39.000000   \n",
              "75%          1.000000        2.000000        1.000000       40.000000   \n",
              "max          9.000000        9.000000        9.000000       99.000000   \n",
              "\n",
              "                 PESO           TALLA  ...         ACTIV_M         CATEG_M  \\\n",
              "count  2429064.000000  2429064.000000  ...  2429064.000000  2429064.000000   \n",
              "mean      3326.726021       49.366253  ...        0.498389        1.044437   \n",
              "std        614.848048        3.269136  ...        0.844763        1.347180   \n",
              "min        110.000000       16.000000  ...        0.000000        0.000000   \n",
              "25%       3040.000000       48.000000  ...        0.000000        0.000000   \n",
              "50%       3350.000000       50.000000  ...        0.000000        0.000000   \n",
              "75%       3660.000000       51.000000  ...        1.000000        2.000000   \n",
              "max       9999.000000       99.000000  ...        9.000000        9.000000   \n",
              "\n",
              "               COMUNA      URBA_RURAL       HIJ_VIVOS        HIJ_FALL  \\\n",
              "count  2429064.000000  2429064.000000  2429064.000000  2429062.000000   \n",
              "mean      9552.694158        1.091264        2.256430        0.401802   \n",
              "std       3877.509526        0.287985        6.110205        6.219168   \n",
              "min       1101.000000        1.000000        0.000000        0.000000   \n",
              "25%       6113.000000        1.000000        1.000000        0.000000   \n",
              "50%      10101.000000        1.000000        2.000000        0.000000   \n",
              "75%      13120.000000        1.000000        2.000000        0.000000   \n",
              "max      15202.000000        2.000000       99.000000       99.000000   \n",
              "\n",
              "             HIJ_MORT       HIJ_TOTAL         REG_RES        SERV_RES  \n",
              "count  2429062.000000  2429064.000000  2429064.000000  2429064.000000  \n",
              "mean         0.409900        1.923566        9.355577       12.957405  \n",
              "std          6.219600        1.471580        3.893450        6.508941  \n",
              "min          0.000000        0.000000        1.000000        1.000000  \n",
              "25%          0.000000        1.000000        6.000000        9.000000  \n",
              "50%          0.000000        2.000000       10.000000       13.000000  \n",
              "75%          0.000000        2.000000       13.000000       16.000000  \n",
              "max         99.000000       99.000000       15.000000       33.000000  \n",
              "\n",
              "[8 rows x 29 columns]"
            ]
          },
          "execution_count": 26,
          "metadata": {},
          "output_type": "execute_result"
        }
      ],
      "source": [
        "data.describe().apply(lambda s: s.apply(lambda x: format(x, 'f')))"
      ]
    },
    {
      "cell_type": "code",
      "execution_count": null,
      "metadata": {
        "scrolled": true,
        "id": "PE-ncsvNMgPt",
        "outputId": "3553189b-4fdc-4b5b-b408-2adae2ffaf05"
      },
      "outputs": [
        {
          "data": {
            "text/plain": [
              "SEXO                0\n",
              "DIA_NAC             0\n",
              "MES_NAC             0\n",
              "ANO_NAC             0\n",
              "TIPO_PARTO          0\n",
              "ATENC_PART          0\n",
              "LOCAL_PART          0\n",
              "SEMANAS             0\n",
              "PESO                0\n",
              "TALLA               0\n",
              "EDAD_P              2\n",
              "CURSO_P             1\n",
              "NIVEL_P             1\n",
              "ACTIV_P             0\n",
              "OCUPA_P             0\n",
              "CATEG_P             0\n",
              "EDAD_M              0\n",
              "EST_CIVI_M          0\n",
              "CURSO_M             0\n",
              "NIVEL_M             0\n",
              "ACTIV_M             0\n",
              "OCUPA_M          2823\n",
              "CATEG_M             0\n",
              "COMUNA              0\n",
              "URBA_RURAL          0\n",
              "HIJ_VIVOS           0\n",
              "HIJ_FALL            2\n",
              "HIJ_MORT            2\n",
              "HIJ_TOTAL           0\n",
              "REG_RES             0\n",
              "SERV_RES            0\n",
              "ESTAB           25723\n",
              "NAC_MA        2209878\n",
              "dtype: int64"
            ]
          },
          "execution_count": 23,
          "metadata": {},
          "output_type": "execute_result"
        }
      ],
      "source": [
        "data.isnull().sum()"
      ]
    },
    {
      "cell_type": "code",
      "execution_count": null,
      "metadata": {
        "scrolled": true,
        "id": "pC082ca_MgPt",
        "outputId": "df73c426-59de-4779-ab21-6652fd9838fb"
      },
      "outputs": [
        {
          "data": {
            "image/png": "[encoded data removed]",
            "text/plain": [
              "<Figure size 1080x1080 with 30 Axes>"
            ]
          },
          "metadata": {
            "needs_background": "light"
          },
          "output_type": "display_data"
        }
      ],
      "source": [
        "data.hist(figsize=(15,15))\n",
        "plt.tight_layout()\n",
        "plt.show()"
      ]
    },
    {
      "cell_type": "markdown",
      "metadata": {
        "id": "SGscAZbZMgPt"
      },
      "source": [
        "-----------------------------------------------------------------------------"
      ]
    },
    {
      "cell_type": "markdown",
      "metadata": {
        "id": "ppSTaizoMgPt"
      },
      "source": [
        "##### 2. ¿Cuál es el mes más frecuente de nacimientos en Chile? Comentar al respecto."
      ]
    },
    {
      "cell_type": "markdown",
      "metadata": {
        "id": "5ttwB-7XMgPt"
      },
      "source": [
        "##### Para obtener los datos requeridos, se utiliza el método groupby, donde nos permite reconocer que las observaciones del mes de enero son mayores que las de los otros meses.\n",
        "\n",
        "##### Por lo anterior, complemento con el estadístico moda, que nos ratifica que el mes de enero es que tiene mayor frecuencia de nacimientos. Lo mismo, con el método value_counts(), que permite conocer rápidamente los N de cada posibilidad.\n",
        "\n",
        "##### Teniendo en consideación los 9 meses de gestación, se puede observar, el verano que le precede (hasta marzo del año anterior) pudiese incidir en una mayor tendencia a la concepción (faltan datos para ser más concluyentes)"
      ]
    },
    {
      "cell_type": "code",
      "execution_count": null,
      "metadata": {
        "id": "u7P4qDfiMgPt",
        "outputId": "74d99b5f-d977-4737-9375-04c051b7e704"
      },
      "outputs": [
        {
          "data": {
            "text/html": [
              "<div>\n",
              "<style scoped>\n",
              "    .dataframe tbody tr th:only-of-type {\n",
              "        vertical-align: middle;\n",
              "    }\n",
              "\n",
              "    .dataframe tbody tr th {\n",
              "        vertical-align: top;\n",
              "    }\n",
              "\n",
              "    .dataframe thead th {\n",
              "        text-align: right;\n",
              "    }\n",
              "</style>\n",
              "<table border=\"1\" class=\"dataframe\">\n",
              "  <thead>\n",
              "    <tr style=\"text-align: right;\">\n",
              "      <th></th>\n",
              "      <th>SEXO</th>\n",
              "      <th>DIA_NAC</th>\n",
              "      <th>ANO_NAC</th>\n",
              "      <th>TIPO_PARTO</th>\n",
              "      <th>ATENC_PART</th>\n",
              "      <th>LOCAL_PART</th>\n",
              "      <th>SEMANAS</th>\n",
              "      <th>PESO</th>\n",
              "      <th>TALLA</th>\n",
              "      <th>EDAD_P</th>\n",
              "      <th>...</th>\n",
              "      <th>ACTIV_M</th>\n",
              "      <th>CATEG_M</th>\n",
              "      <th>COMUNA</th>\n",
              "      <th>URBA_RURAL</th>\n",
              "      <th>HIJ_VIVOS</th>\n",
              "      <th>HIJ_FALL</th>\n",
              "      <th>HIJ_MORT</th>\n",
              "      <th>HIJ_TOTAL</th>\n",
              "      <th>REG_RES</th>\n",
              "      <th>SERV_RES</th>\n",
              "    </tr>\n",
              "    <tr>\n",
              "      <th>MES_NAC</th>\n",
              "      <th></th>\n",
              "      <th></th>\n",
              "      <th></th>\n",
              "      <th></th>\n",
              "      <th></th>\n",
              "      <th></th>\n",
              "      <th></th>\n",
              "      <th></th>\n",
              "      <th></th>\n",
              "      <th></th>\n",
              "      <th></th>\n",
              "      <th></th>\n",
              "      <th></th>\n",
              "      <th></th>\n",
              "      <th></th>\n",
              "      <th></th>\n",
              "      <th></th>\n",
              "      <th></th>\n",
              "      <th></th>\n",
              "      <th></th>\n",
              "      <th></th>\n",
              "    </tr>\n",
              "  </thead>\n",
              "  <tbody>\n",
              "    <tr>\n",
              "      <th>1</th>\n",
              "      <td>317656</td>\n",
              "      <td>3445075</td>\n",
              "      <td>429257867</td>\n",
              "      <td>220928</td>\n",
              "      <td>335309</td>\n",
              "      <td>216203</td>\n",
              "      <td>8223993</td>\n",
              "      <td>710083301</td>\n",
              "      <td>10537106</td>\n",
              "      <td>7775158.0</td>\n",
              "      <td>...</td>\n",
              "      <td>104380</td>\n",
              "      <td>219787</td>\n",
              "      <td>2040405591</td>\n",
              "      <td>233320</td>\n",
              "      <td>494423</td>\n",
              "      <td>95486.0</td>\n",
              "      <td>98298.0</td>\n",
              "      <td>416584</td>\n",
              "      <td>1998219</td>\n",
              "      <td>2769340</td>\n",
              "    </tr>\n",
              "    <tr>\n",
              "      <th>2</th>\n",
              "      <td>284114</td>\n",
              "      <td>2776977</td>\n",
              "      <td>383515915</td>\n",
              "      <td>196991</td>\n",
              "      <td>299449</td>\n",
              "      <td>193183</td>\n",
              "      <td>7349279</td>\n",
              "      <td>634529391</td>\n",
              "      <td>9416406</td>\n",
              "      <td>6953803.0</td>\n",
              "      <td>...</td>\n",
              "      <td>92730</td>\n",
              "      <td>195460</td>\n",
              "      <td>1822425523</td>\n",
              "      <td>208229</td>\n",
              "      <td>442114</td>\n",
              "      <td>86933.0</td>\n",
              "      <td>89197.0</td>\n",
              "      <td>370848</td>\n",
              "      <td>1784762</td>\n",
              "      <td>2468371</td>\n",
              "    </tr>\n",
              "    <tr>\n",
              "      <th>3</th>\n",
              "      <td>317368</td>\n",
              "      <td>3394971</td>\n",
              "      <td>428267626</td>\n",
              "      <td>220072</td>\n",
              "      <td>332633</td>\n",
              "      <td>215613</td>\n",
              "      <td>8206609</td>\n",
              "      <td>708255545</td>\n",
              "      <td>10512218</td>\n",
              "      <td>7727984.0</td>\n",
              "      <td>...</td>\n",
              "      <td>105517</td>\n",
              "      <td>222419</td>\n",
              "      <td>2036877173</td>\n",
              "      <td>231955</td>\n",
              "      <td>484152</td>\n",
              "      <td>86619.0</td>\n",
              "      <td>88910.0</td>\n",
              "      <td>410769</td>\n",
              "      <td>1994977</td>\n",
              "      <td>2748323</td>\n",
              "    </tr>\n",
              "    <tr>\n",
              "      <th>4</th>\n",
              "      <td>301021</td>\n",
              "      <td>3134371</td>\n",
              "      <td>406290276</td>\n",
              "      <td>208351</td>\n",
              "      <td>315206</td>\n",
              "      <td>204189</td>\n",
              "      <td>7780038</td>\n",
              "      <td>671183220</td>\n",
              "      <td>9965731</td>\n",
              "      <td>7341783.0</td>\n",
              "      <td>...</td>\n",
              "      <td>99461</td>\n",
              "      <td>209909</td>\n",
              "      <td>1928291833</td>\n",
              "      <td>220089</td>\n",
              "      <td>457802</td>\n",
              "      <td>82458.0</td>\n",
              "      <td>84391.0</td>\n",
              "      <td>390344</td>\n",
              "      <td>1888560</td>\n",
              "      <td>2605191</td>\n",
              "    </tr>\n",
              "    <tr>\n",
              "      <th>5</th>\n",
              "      <td>302234</td>\n",
              "      <td>3260139</td>\n",
              "      <td>407959705</td>\n",
              "      <td>209725</td>\n",
              "      <td>316542</td>\n",
              "      <td>205606</td>\n",
              "      <td>7813323</td>\n",
              "      <td>674040189</td>\n",
              "      <td>10006284</td>\n",
              "      <td>7344661.0</td>\n",
              "      <td>...</td>\n",
              "      <td>100359</td>\n",
              "      <td>210105</td>\n",
              "      <td>1935556980</td>\n",
              "      <td>220654</td>\n",
              "      <td>452969</td>\n",
              "      <td>74787.0</td>\n",
              "      <td>76602.0</td>\n",
              "      <td>390548</td>\n",
              "      <td>1895573</td>\n",
              "      <td>2611763</td>\n",
              "    </tr>\n",
              "    <tr>\n",
              "      <th>6</th>\n",
              "      <td>298062</td>\n",
              "      <td>3055042</td>\n",
              "      <td>402080404</td>\n",
              "      <td>206947</td>\n",
              "      <td>312184</td>\n",
              "      <td>202746</td>\n",
              "      <td>7703632</td>\n",
              "      <td>664736879</td>\n",
              "      <td>9861878</td>\n",
              "      <td>7247561.0</td>\n",
              "      <td>...</td>\n",
              "      <td>98252</td>\n",
              "      <td>205816</td>\n",
              "      <td>1907949535</td>\n",
              "      <td>217698</td>\n",
              "      <td>445207</td>\n",
              "      <td>75215.0</td>\n",
              "      <td>76698.0</td>\n",
              "      <td>382948</td>\n",
              "      <td>1868565</td>\n",
              "      <td>2582022</td>\n",
              "    </tr>\n",
              "    <tr>\n",
              "      <th>7</th>\n",
              "      <td>301658</td>\n",
              "      <td>3210314</td>\n",
              "      <td>407086233</td>\n",
              "      <td>209455</td>\n",
              "      <td>315398</td>\n",
              "      <td>205188</td>\n",
              "      <td>7797189</td>\n",
              "      <td>672142593</td>\n",
              "      <td>9981841</td>\n",
              "      <td>7373069.0</td>\n",
              "      <td>...</td>\n",
              "      <td>101465</td>\n",
              "      <td>212061</td>\n",
              "      <td>1932814569</td>\n",
              "      <td>220690</td>\n",
              "      <td>459645</td>\n",
              "      <td>86568.0</td>\n",
              "      <td>88082.0</td>\n",
              "      <td>388275</td>\n",
              "      <td>1892925</td>\n",
              "      <td>2618996</td>\n",
              "    </tr>\n",
              "    <tr>\n",
              "      <th>8</th>\n",
              "      <td>298307</td>\n",
              "      <td>3203530</td>\n",
              "      <td>403242446</td>\n",
              "      <td>207024</td>\n",
              "      <td>312351</td>\n",
              "      <td>203034</td>\n",
              "      <td>7720252</td>\n",
              "      <td>666524967</td>\n",
              "      <td>9886897</td>\n",
              "      <td>7310456.0</td>\n",
              "      <td>...</td>\n",
              "      <td>100423</td>\n",
              "      <td>209499</td>\n",
              "      <td>1911749643</td>\n",
              "      <td>218565</td>\n",
              "      <td>451841</td>\n",
              "      <td>82433.0</td>\n",
              "      <td>83673.0</td>\n",
              "      <td>383755</td>\n",
              "      <td>1872341</td>\n",
              "      <td>2595731</td>\n",
              "    </tr>\n",
              "    <tr>\n",
              "      <th>9</th>\n",
              "      <td>307001</td>\n",
              "      <td>3167615</td>\n",
              "      <td>414941759</td>\n",
              "      <td>212946</td>\n",
              "      <td>321114</td>\n",
              "      <td>208745</td>\n",
              "      <td>7948023</td>\n",
              "      <td>686864217</td>\n",
              "      <td>10179287</td>\n",
              "      <td>7557155.0</td>\n",
              "      <td>...</td>\n",
              "      <td>104148</td>\n",
              "      <td>216931</td>\n",
              "      <td>1968394187</td>\n",
              "      <td>224856</td>\n",
              "      <td>453708</td>\n",
              "      <td>74892.0</td>\n",
              "      <td>76096.0</td>\n",
              "      <td>392265</td>\n",
              "      <td>1927766</td>\n",
              "      <td>2677843</td>\n",
              "    </tr>\n",
              "    <tr>\n",
              "      <th>10</th>\n",
              "      <td>300811</td>\n",
              "      <td>3223789</td>\n",
              "      <td>406063144</td>\n",
              "      <td>207829</td>\n",
              "      <td>313126</td>\n",
              "      <td>204243</td>\n",
              "      <td>7777133</td>\n",
              "      <td>671636832</td>\n",
              "      <td>9959282</td>\n",
              "      <td>7453972.0</td>\n",
              "      <td>...</td>\n",
              "      <td>102093</td>\n",
              "      <td>213317</td>\n",
              "      <td>1923545380</td>\n",
              "      <td>220385</td>\n",
              "      <td>449207</td>\n",
              "      <td>77106.0</td>\n",
              "      <td>78307.0</td>\n",
              "      <td>385141</td>\n",
              "      <td>1883974</td>\n",
              "      <td>2625253</td>\n",
              "    </tr>\n",
              "    <tr>\n",
              "      <th>11</th>\n",
              "      <td>289388</td>\n",
              "      <td>3010643</td>\n",
              "      <td>390613235</td>\n",
              "      <td>200333</td>\n",
              "      <td>302049</td>\n",
              "      <td>196423</td>\n",
              "      <td>7479701</td>\n",
              "      <td>646115029</td>\n",
              "      <td>9581565</td>\n",
              "      <td>7143359.0</td>\n",
              "      <td>...</td>\n",
              "      <td>97821</td>\n",
              "      <td>204543</td>\n",
              "      <td>1854405908</td>\n",
              "      <td>212408</td>\n",
              "      <td>435501</td>\n",
              "      <td>77207.0</td>\n",
              "      <td>78292.0</td>\n",
              "      <td>370981</td>\n",
              "      <td>1816092</td>\n",
              "      <td>2528211</td>\n",
              "    </tr>\n",
              "    <tr>\n",
              "      <th>12</th>\n",
              "      <td>302688</td>\n",
              "      <td>3238653</td>\n",
              "      <td>408967405</td>\n",
              "      <td>209963</td>\n",
              "      <td>316351</td>\n",
              "      <td>205877</td>\n",
              "      <td>7824334</td>\n",
              "      <td>674718252</td>\n",
              "      <td>10025293</td>\n",
              "      <td>7455908.0</td>\n",
              "      <td>...</td>\n",
              "      <td>103970</td>\n",
              "      <td>217158</td>\n",
              "      <td>1941689161</td>\n",
              "      <td>221902</td>\n",
              "      <td>454445</td>\n",
              "      <td>76298.0</td>\n",
              "      <td>77127.0</td>\n",
              "      <td>390006</td>\n",
              "      <td>1901541</td>\n",
              "      <td>2643322</td>\n",
              "    </tr>\n",
              "  </tbody>\n",
              "</table>\n",
              "<p>12 rows × 28 columns</p>\n",
              "</div>"
            ],
            "text/plain": [
              "           SEXO  DIA_NAC    ANO_NAC  TIPO_PARTO  ATENC_PART  LOCAL_PART  \\\n",
              "MES_NAC                                                                   \n",
              "1        317656  3445075  429257867      220928      335309      216203   \n",
              "2        284114  2776977  383515915      196991      299449      193183   \n",
              "3        317368  3394971  428267626      220072      332633      215613   \n",
              "4        301021  3134371  406290276      208351      315206      204189   \n",
              "5        302234  3260139  407959705      209725      316542      205606   \n",
              "6        298062  3055042  402080404      206947      312184      202746   \n",
              "7        301658  3210314  407086233      209455      315398      205188   \n",
              "8        298307  3203530  403242446      207024      312351      203034   \n",
              "9        307001  3167615  414941759      212946      321114      208745   \n",
              "10       300811  3223789  406063144      207829      313126      204243   \n",
              "11       289388  3010643  390613235      200333      302049      196423   \n",
              "12       302688  3238653  408967405      209963      316351      205877   \n",
              "\n",
              "         SEMANAS       PESO     TALLA     EDAD_P  ...  ACTIV_M  CATEG_M  \\\n",
              "MES_NAC                                           ...                     \n",
              "1        8223993  710083301  10537106  7775158.0  ...   104380   219787   \n",
              "2        7349279  634529391   9416406  6953803.0  ...    92730   195460   \n",
              "3        8206609  708255545  10512218  7727984.0  ...   105517   222419   \n",
              "4        7780038  671183220   9965731  7341783.0  ...    99461   209909   \n",
              "5        7813323  674040189  10006284  7344661.0  ...   100359   210105   \n",
              "6        7703632  664736879   9861878  7247561.0  ...    98252   205816   \n",
              "7        7797189  672142593   9981841  7373069.0  ...   101465   212061   \n",
              "8        7720252  666524967   9886897  7310456.0  ...   100423   209499   \n",
              "9        7948023  686864217  10179287  7557155.0  ...   104148   216931   \n",
              "10       7777133  671636832   9959282  7453972.0  ...   102093   213317   \n",
              "11       7479701  646115029   9581565  7143359.0  ...    97821   204543   \n",
              "12       7824334  674718252  10025293  7455908.0  ...   103970   217158   \n",
              "\n",
              "             COMUNA  URBA_RURAL  HIJ_VIVOS  HIJ_FALL  HIJ_MORT  HIJ_TOTAL  \\\n",
              "MES_NAC                                                                     \n",
              "1        2040405591      233320     494423   95486.0   98298.0     416584   \n",
              "2        1822425523      208229     442114   86933.0   89197.0     370848   \n",
              "3        2036877173      231955     484152   86619.0   88910.0     410769   \n",
              "4        1928291833      220089     457802   82458.0   84391.0     390344   \n",
              "5        1935556980      220654     452969   74787.0   76602.0     390548   \n",
              "6        1907949535      217698     445207   75215.0   76698.0     382948   \n",
              "7        1932814569      220690     459645   86568.0   88082.0     388275   \n",
              "8        1911749643      218565     451841   82433.0   83673.0     383755   \n",
              "9        1968394187      224856     453708   74892.0   76096.0     392265   \n",
              "10       1923545380      220385     449207   77106.0   78307.0     385141   \n",
              "11       1854405908      212408     435501   77207.0   78292.0     370981   \n",
              "12       1941689161      221902     454445   76298.0   77127.0     390006   \n",
              "\n",
              "         REG_RES  SERV_RES  \n",
              "MES_NAC                     \n",
              "1        1998219   2769340  \n",
              "2        1784762   2468371  \n",
              "3        1994977   2748323  \n",
              "4        1888560   2605191  \n",
              "5        1895573   2611763  \n",
              "6        1868565   2582022  \n",
              "7        1892925   2618996  \n",
              "8        1872341   2595731  \n",
              "9        1927766   2677843  \n",
              "10       1883974   2625253  \n",
              "11       1816092   2528211  \n",
              "12       1901541   2643322  \n",
              "\n",
              "[12 rows x 28 columns]"
            ]
          },
          "execution_count": 105,
          "metadata": {},
          "output_type": "execute_result"
        }
      ],
      "source": [
        "data.groupby('MES_NAC').sum()"
      ]
    },
    {
      "cell_type": "code",
      "execution_count": null,
      "metadata": {
        "id": "1S-phrTOMgPu",
        "outputId": "5ac42891-9aca-4ea8-b7cf-f04e472e5ad8"
      },
      "outputs": [
        {
          "data": {
            "text/plain": [
              "0    1\n",
              "dtype: int32"
            ]
          },
          "execution_count": 106,
          "metadata": {},
          "output_type": "execute_result"
        }
      ],
      "source": [
        "data['MES_NAC'].mode().astype(int)"
      ]
    },
    {
      "cell_type": "code",
      "execution_count": null,
      "metadata": {
        "id": "LDJmL9zyMgPu",
        "outputId": "917824b5-fdda-4857-d04f-7912513efe83"
      },
      "outputs": [
        {
          "data": {
            "text/plain": [
              "ModeResult(mode=array([1], dtype=int64), count=array([213303]))"
            ]
          },
          "execution_count": 107,
          "metadata": {},
          "output_type": "execute_result"
        }
      ],
      "source": [
        "from scipy import stats\n",
        "Mes= stats.mode(data['MES_NAC'])\n",
        "Mes"
      ]
    },
    {
      "cell_type": "code",
      "execution_count": null,
      "metadata": {
        "id": "OZDaGNRqMgPu",
        "outputId": "2cc1b785-6d47-4914-86bc-7c79f495919c"
      },
      "outputs": [
        {
          "data": {
            "text/plain": [
              "1    213303\n",
              "3    212808\n",
              "9    206195\n",
              "Name: MES_NAC, dtype: int64"
            ]
          },
          "execution_count": 135,
          "metadata": {},
          "output_type": "execute_result"
        }
      ],
      "source": [
        "data['MES_NAC'].value_counts().head(3)"
      ]
    },
    {
      "cell_type": "markdown",
      "metadata": {
        "id": "-v_2fsxXMgPu"
      },
      "source": [
        "__________________________________________________________________________"
      ]
    },
    {
      "cell_type": "markdown",
      "metadata": {
        "id": "2noD9NPPMgPu"
      },
      "source": [
        "#### 3. ¿Cuál es el día del año más común en el que la gente en Chile está de cumpleaños?"
      ]
    },
    {
      "cell_type": "markdown",
      "metadata": {
        "id": "ftEDmWgoMgPu"
      },
      "source": [
        "\n",
        "######  El mecanismo utilizado para obtener los resultos requeridos es el estadístico moda, el que nos permite saber que es el 14 el día con mayor nivel de cumpleaños en Chile, ello condicionado por la temporalidad de las bases analizadas.\n",
        "\n",
        "##### El método value_counts() permite ratificar el argumento realizado."
      ]
    },
    {
      "cell_type": "code",
      "execution_count": null,
      "metadata": {
        "id": "biTRPt2KMgPu",
        "outputId": "9299a0e3-7df2-4e27-b953-f114231f45c4"
      },
      "outputs": [
        {
          "data": {
            "text/plain": [
              "0    14\n",
              "dtype: int32"
            ]
          },
          "execution_count": 103,
          "metadata": {},
          "output_type": "execute_result"
        }
      ],
      "source": [
        "data['DIA_NAC'].mode().astype(int)\n"
      ]
    },
    {
      "cell_type": "code",
      "execution_count": null,
      "metadata": {
        "id": "oJYcV20XMgPu",
        "outputId": "af117fd1-0f9f-44ee-c85f-e216128a70a5"
      },
      "outputs": [
        {
          "data": {
            "text/plain": [
              "ModeResult(mode=array([14], dtype=int64), count=array([82414]))"
            ]
          },
          "execution_count": 104,
          "metadata": {},
          "output_type": "execute_result"
        }
      ],
      "source": [
        "from scipy import stats\n",
        "Dia= stats.mode(data['DIA_NAC'])\n",
        "Dia"
      ]
    },
    {
      "cell_type": "code",
      "execution_count": null,
      "metadata": {
        "id": "D1vJndWxMgPu",
        "outputId": "c32009f7-15e9-4ee1-d893-f9e745f6422f"
      },
      "outputs": [
        {
          "data": {
            "text/plain": [
              "14    82414\n",
              "7     82139\n",
              "4     81989\n",
              "Name: DIA_NAC, dtype: int64"
            ]
          },
          "execution_count": 134,
          "metadata": {},
          "output_type": "execute_result"
        }
      ],
      "source": [
        "data['DIA_NAC'].value_counts().head(3)"
      ]
    },
    {
      "cell_type": "markdown",
      "metadata": {
        "id": "HMMKdlrFMgPv"
      },
      "source": [
        "----------------------------------------------------------"
      ]
    },
    {
      "cell_type": "markdown",
      "metadata": {
        "id": "0C-_A09oMgPv"
      },
      "source": [
        "#### 4. Calcular covarianza y correlación entre peso y talla a nivel general (tomando toda la base). Luego hacerlo por año.\n",
        "#### ¿Cambia con el paso de los años?"
      ]
    },
    {
      "cell_type": "markdown",
      "metadata": {
        "id": "KksYJ36nMgPv"
      },
      "source": [
        "##### En primera instancia utiliza el método describe () para conocer los antecedentes de las variasbles, posteriormente los métodos corr () y cov (), sobre la base general, también se agrega un heatmap para tener una interpreción visual de los registros"
      ]
    },
    {
      "cell_type": "code",
      "execution_count": null,
      "metadata": {
        "scrolled": true,
        "id": "4DPPY6SUMgPv",
        "outputId": "5fb47090-11b7-49df-bced-ab499158d746"
      },
      "outputs": [
        {
          "data": {
            "text/plain": [
              "count    2.429064e+06\n",
              "mean     3.326726e+03\n",
              "std      6.148480e+02\n",
              "min      1.100000e+02\n",
              "25%      3.040000e+03\n",
              "50%      3.350000e+03\n",
              "75%      3.660000e+03\n",
              "max      9.999000e+03\n",
              "Name: PESO, dtype: float64"
            ]
          },
          "execution_count": 38,
          "metadata": {},
          "output_type": "execute_result"
        }
      ],
      "source": [
        "data[\"PESO\"].describe()"
      ]
    },
    {
      "cell_type": "code",
      "execution_count": null,
      "metadata": {
        "id": "xRPmuxCLMgPv",
        "outputId": "f944ffff-ac55-46bd-f272-08df5abb9e85"
      },
      "outputs": [
        {
          "data": {
            "text/plain": [
              "count    2.429064e+06\n",
              "mean     4.936625e+01\n",
              "std      3.269136e+00\n",
              "min      1.600000e+01\n",
              "25%      4.800000e+01\n",
              "50%      5.000000e+01\n",
              "75%      5.100000e+01\n",
              "max      9.900000e+01\n",
              "Name: TALLA, dtype: float64"
            ]
          },
          "execution_count": 160,
          "metadata": {},
          "output_type": "execute_result"
        }
      ],
      "source": [
        "data[\"TALLA\"].describe()"
      ]
    },
    {
      "cell_type": "code",
      "execution_count": null,
      "metadata": {
        "id": "6YIwdkaEMgPv",
        "outputId": "b870ca80-c22a-4beb-a62b-349f7abb6fc0"
      },
      "outputs": [
        {
          "data": {
            "text/html": [
              "<div>\n",
              "<style scoped>\n",
              "    .dataframe tbody tr th:only-of-type {\n",
              "        vertical-align: middle;\n",
              "    }\n",
              "\n",
              "    .dataframe tbody tr th {\n",
              "        vertical-align: top;\n",
              "    }\n",
              "\n",
              "    .dataframe thead th {\n",
              "        text-align: right;\n",
              "    }\n",
              "</style>\n",
              "<table border=\"1\" class=\"dataframe\">\n",
              "  <thead>\n",
              "    <tr style=\"text-align: right;\">\n",
              "      <th></th>\n",
              "      <th>TALLA</th>\n",
              "      <th>PESO</th>\n",
              "    </tr>\n",
              "  </thead>\n",
              "  <tbody>\n",
              "    <tr>\n",
              "      <th>TALLA</th>\n",
              "      <td>1.000000</td>\n",
              "      <td>0.852488</td>\n",
              "    </tr>\n",
              "    <tr>\n",
              "      <th>PESO</th>\n",
              "      <td>0.852488</td>\n",
              "      <td>1.000000</td>\n",
              "    </tr>\n",
              "  </tbody>\n",
              "</table>\n",
              "</div>"
            ],
            "text/plain": [
              "          TALLA      PESO\n",
              "TALLA  1.000000  0.852488\n",
              "PESO   0.852488  1.000000"
            ]
          },
          "execution_count": 159,
          "metadata": {},
          "output_type": "execute_result"
        }
      ],
      "source": [
        "data[['TALLA','PESO']].corr()"
      ]
    },
    {
      "cell_type": "code",
      "execution_count": null,
      "metadata": {
        "id": "KsTsH5qeMgPv",
        "outputId": "f31f092d-b4ae-44f6-cbdd-61d41687a515"
      },
      "outputs": [
        {
          "data": {
            "image/png": "[encoded data removed]",
            "text/plain": [
              "<Figure size 432x288 with 2 Axes>"
            ]
          },
          "metadata": {
            "needs_background": "light"
          },
          "output_type": "display_data"
        }
      ],
      "source": [
        "sns.heatmap(data[['TALLA','PESO']].corr(), annot=True, cmap = 'Reds')\n",
        "plt.show()"
      ]
    },
    {
      "cell_type": "code",
      "execution_count": null,
      "metadata": {
        "scrolled": true,
        "id": "Xhh9sYTZMgPw",
        "outputId": "109843bb-fc43-40c9-d4d6-61dbe5af81ae"
      },
      "outputs": [
        {
          "data": {
            "image/png": "[encoded data removed]",
            "text/plain": [
              "<Figure size 360x360 with 6 Axes>"
            ]
          },
          "metadata": {
            "needs_background": "light"
          },
          "output_type": "display_data"
        }
      ],
      "source": [
        "sns.pairplot(data = data, vars=['TALLA','PESO'])\n",
        "plt.show()"
      ]
    },
    {
      "cell_type": "code",
      "execution_count": null,
      "metadata": {
        "id": "7PUtZIWWMgPw",
        "outputId": "7f5a93d9-39c2-4fdb-d74e-3b6706ceaf7c"
      },
      "outputs": [
        {
          "data": {
            "image/png": "[encoded data removed]",
            "text/plain": [
              "<Figure size 432x288 with 1 Axes>"
            ]
          },
          "metadata": {
            "needs_background": "light"
          },
          "output_type": "display_data"
        }
      ],
      "source": [
        "plt.scatter(data['TALLA'],data['PESO'])\n",
        "plt.xlabel('TALLA')\n",
        "plt.ylabel('PESO')\n",
        "plt.show()"
      ]
    },
    {
      "cell_type": "code",
      "execution_count": null,
      "metadata": {
        "id": "C17Lun7UMgPw",
        "outputId": "ca43ca1b-aaa7-476e-b2ba-98c2718159d7"
      },
      "outputs": [
        {
          "data": {
            "text/plain": [
              "<matplotlib.axes._subplots.AxesSubplot at 0x20ec6970880>"
            ]
          },
          "execution_count": 161,
          "metadata": {},
          "output_type": "execute_result"
        },
        {
          "data": {
            "image/png": "[encoded data removed]",
            "text/plain": [
              "<Figure size 432x288 with 1 Axes>"
            ]
          },
          "metadata": {
            "needs_background": "light"
          },
          "output_type": "display_data"
        }
      ],
      "source": [
        "sns.regplot(x='TALLA',y='PESO',data=data)"
      ]
    },
    {
      "cell_type": "code",
      "execution_count": null,
      "metadata": {
        "scrolled": true,
        "id": "HYfMJ_EjMgPw",
        "outputId": "fca1eccb-1af3-43a7-9402-1897ea8913ac"
      },
      "outputs": [
        {
          "data": {
            "text/html": [
              "<div>\n",
              "<style scoped>\n",
              "    .dataframe tbody tr th:only-of-type {\n",
              "        vertical-align: middle;\n",
              "    }\n",
              "\n",
              "    .dataframe tbody tr th {\n",
              "        vertical-align: top;\n",
              "    }\n",
              "\n",
              "    .dataframe thead th {\n",
              "        text-align: right;\n",
              "    }\n",
              "</style>\n",
              "<table border=\"1\" class=\"dataframe\">\n",
              "  <thead>\n",
              "    <tr style=\"text-align: right;\">\n",
              "      <th></th>\n",
              "      <th>TALLA</th>\n",
              "      <th>PESO</th>\n",
              "    </tr>\n",
              "  </thead>\n",
              "  <tbody>\n",
              "    <tr>\n",
              "      <th>TALLA</th>\n",
              "      <td>10.687249</td>\n",
              "      <td>1713.520425</td>\n",
              "    </tr>\n",
              "    <tr>\n",
              "      <th>PESO</th>\n",
              "      <td>1713.520425</td>\n",
              "      <td>378038.122419</td>\n",
              "    </tr>\n",
              "  </tbody>\n",
              "</table>\n",
              "</div>"
            ],
            "text/plain": [
              "             TALLA           PESO\n",
              "TALLA    10.687249    1713.520425\n",
              "PESO   1713.520425  378038.122419"
            ]
          },
          "execution_count": 155,
          "metadata": {},
          "output_type": "execute_result"
        }
      ],
      "source": [
        "data[['TALLA','PESO']].cov()"
      ]
    },
    {
      "cell_type": "code",
      "execution_count": null,
      "metadata": {
        "id": "UK4q9L7eMgPz",
        "outputId": "ed12b110-4088-4030-d2c5-f788fa785165"
      },
      "outputs": [
        {
          "data": {
            "image/png": "[encoded data removed]",
            "text/plain": [
              "<Figure size 432x288 with 2 Axes>"
            ]
          },
          "metadata": {
            "needs_background": "light"
          },
          "output_type": "display_data"
        }
      ],
      "source": [
        "sns.heatmap(data[['TALLA','PESO']].cov(), annot=True, cmap = 'Reds')\n",
        "plt.show()"
      ]
    },
    {
      "cell_type": "markdown",
      "metadata": {
        "id": "UyeyrUUoMgPz"
      },
      "source": [
        "##### Vemos ahora la relación directa entre peso y talla en primera instancia general"
      ]
    },
    {
      "cell_type": "markdown",
      "metadata": {
        "id": "PjDOy8WaMgPz"
      },
      "source": [
        "##### Al mirar el método aplicado de corr(), se observa un nivel de correlación de 0.85, lo que es un alto nivel, este dado considerando la base completa.\n",
        "\n",
        "##### Al mismo tiempo la covarianza (cov()) con la base completa alcanza un valor de 1713.52, entre ambas variables (peso y talla)\n",
        "\n",
        "##### A continuación se realizaran los procesos por años para identificar si hay diferencias"
      ]
    },
    {
      "cell_type": "code",
      "execution_count": null,
      "metadata": {
        "id": "ofoXGvtwMgPz"
      },
      "outputs": [],
      "source": [
        "data_2008 = data[data['ANO_NAC'] == 2008]\n",
        "data_2009 = data[data['ANO_NAC'] == 2009]\n",
        "data_2010 = data[data['ANO_NAC'] == 2010]\n",
        "data_2011 = data[data['ANO_NAC'] == 2011]\n",
        "data_2012 = data[data['ANO_NAC'] == 2012]\n",
        "data_2013 = data[data['ANO_NAC'] == 2013]\n",
        "data_2014 = data[data['ANO_NAC'] == 2014]\n",
        "data_2015 = data[data['ANO_NAC'] == 2015]\n",
        "data_2016 = data[data['ANO_NAC'] == 2016]\n",
        "data_2017 = data[data['ANO_NAC'] == 2017]"
      ]
    },
    {
      "cell_type": "code",
      "execution_count": null,
      "metadata": {
        "id": "hl05yXPUMgPz",
        "outputId": "d499d1ad-715f-422d-8b01-601209a1a4a6"
      },
      "outputs": [
        {
          "data": {
            "text/html": [
              "<div>\n",
              "<style scoped>\n",
              "    .dataframe tbody tr th:only-of-type {\n",
              "        vertical-align: middle;\n",
              "    }\n",
              "\n",
              "    .dataframe tbody tr th {\n",
              "        vertical-align: top;\n",
              "    }\n",
              "\n",
              "    .dataframe thead th {\n",
              "        text-align: right;\n",
              "    }\n",
              "</style>\n",
              "<table border=\"1\" class=\"dataframe\">\n",
              "  <thead>\n",
              "    <tr style=\"text-align: right;\">\n",
              "      <th></th>\n",
              "      <th>TALLA</th>\n",
              "      <th>PESO</th>\n",
              "    </tr>\n",
              "  </thead>\n",
              "  <tbody>\n",
              "    <tr>\n",
              "      <th>TALLA</th>\n",
              "      <td>1.000000</td>\n",
              "      <td>0.860293</td>\n",
              "    </tr>\n",
              "    <tr>\n",
              "      <th>PESO</th>\n",
              "      <td>0.860293</td>\n",
              "      <td>1.000000</td>\n",
              "    </tr>\n",
              "  </tbody>\n",
              "</table>\n",
              "</div>"
            ],
            "text/plain": [
              "          TALLA      PESO\n",
              "TALLA  1.000000  0.860293\n",
              "PESO   0.860293  1.000000"
            ]
          },
          "execution_count": 11,
          "metadata": {},
          "output_type": "execute_result"
        }
      ],
      "source": [
        "data_2008[['TALLA','PESO']].corr()\n"
      ]
    },
    {
      "cell_type": "code",
      "execution_count": null,
      "metadata": {
        "id": "7v0yyRh7MgPz",
        "outputId": "1387e889-bd09-4c6a-a291-a1cfa3d56e74"
      },
      "outputs": [
        {
          "data": {
            "text/html": [
              "<div>\n",
              "<style scoped>\n",
              "    .dataframe tbody tr th:only-of-type {\n",
              "        vertical-align: middle;\n",
              "    }\n",
              "\n",
              "    .dataframe tbody tr th {\n",
              "        vertical-align: top;\n",
              "    }\n",
              "\n",
              "    .dataframe thead th {\n",
              "        text-align: right;\n",
              "    }\n",
              "</style>\n",
              "<table border=\"1\" class=\"dataframe\">\n",
              "  <thead>\n",
              "    <tr style=\"text-align: right;\">\n",
              "      <th></th>\n",
              "      <th>TALLA</th>\n",
              "      <th>PESO</th>\n",
              "    </tr>\n",
              "  </thead>\n",
              "  <tbody>\n",
              "    <tr>\n",
              "      <th>TALLA</th>\n",
              "      <td>1.000000</td>\n",
              "      <td>0.857576</td>\n",
              "    </tr>\n",
              "    <tr>\n",
              "      <th>PESO</th>\n",
              "      <td>0.857576</td>\n",
              "      <td>1.000000</td>\n",
              "    </tr>\n",
              "  </tbody>\n",
              "</table>\n",
              "</div>"
            ],
            "text/plain": [
              "          TALLA      PESO\n",
              "TALLA  1.000000  0.857576\n",
              "PESO   0.857576  1.000000"
            ]
          },
          "execution_count": 12,
          "metadata": {},
          "output_type": "execute_result"
        }
      ],
      "source": [
        "data_2009[['TALLA','PESO']].corr()"
      ]
    },
    {
      "cell_type": "code",
      "execution_count": null,
      "metadata": {
        "id": "exwaFMF2MgP0",
        "outputId": "f035d941-6fae-4cfb-a56d-283093e02f9a"
      },
      "outputs": [
        {
          "data": {
            "text/html": [
              "<div>\n",
              "<style scoped>\n",
              "    .dataframe tbody tr th:only-of-type {\n",
              "        vertical-align: middle;\n",
              "    }\n",
              "\n",
              "    .dataframe tbody tr th {\n",
              "        vertical-align: top;\n",
              "    }\n",
              "\n",
              "    .dataframe thead th {\n",
              "        text-align: right;\n",
              "    }\n",
              "</style>\n",
              "<table border=\"1\" class=\"dataframe\">\n",
              "  <thead>\n",
              "    <tr style=\"text-align: right;\">\n",
              "      <th></th>\n",
              "      <th>TALLA</th>\n",
              "      <th>PESO</th>\n",
              "    </tr>\n",
              "  </thead>\n",
              "  <tbody>\n",
              "    <tr>\n",
              "      <th>TALLA</th>\n",
              "      <td>1.00000</td>\n",
              "      <td>0.87629</td>\n",
              "    </tr>\n",
              "    <tr>\n",
              "      <th>PESO</th>\n",
              "      <td>0.87629</td>\n",
              "      <td>1.00000</td>\n",
              "    </tr>\n",
              "  </tbody>\n",
              "</table>\n",
              "</div>"
            ],
            "text/plain": [
              "         TALLA     PESO\n",
              "TALLA  1.00000  0.87629\n",
              "PESO   0.87629  1.00000"
            ]
          },
          "execution_count": 13,
          "metadata": {},
          "output_type": "execute_result"
        }
      ],
      "source": [
        "data_2010[['TALLA','PESO']].corr()\n"
      ]
    },
    {
      "cell_type": "code",
      "execution_count": null,
      "metadata": {
        "id": "K2WwVIfhMgP0",
        "outputId": "c0ec8acf-6579-4947-9e2a-00dca3244678"
      },
      "outputs": [
        {
          "data": {
            "text/html": [
              "<div>\n",
              "<style scoped>\n",
              "    .dataframe tbody tr th:only-of-type {\n",
              "        vertical-align: middle;\n",
              "    }\n",
              "\n",
              "    .dataframe tbody tr th {\n",
              "        vertical-align: top;\n",
              "    }\n",
              "\n",
              "    .dataframe thead th {\n",
              "        text-align: right;\n",
              "    }\n",
              "</style>\n",
              "<table border=\"1\" class=\"dataframe\">\n",
              "  <thead>\n",
              "    <tr style=\"text-align: right;\">\n",
              "      <th></th>\n",
              "      <th>TALLA</th>\n",
              "      <th>PESO</th>\n",
              "    </tr>\n",
              "  </thead>\n",
              "  <tbody>\n",
              "    <tr>\n",
              "      <th>TALLA</th>\n",
              "      <td>1.000000</td>\n",
              "      <td>0.876887</td>\n",
              "    </tr>\n",
              "    <tr>\n",
              "      <th>PESO</th>\n",
              "      <td>0.876887</td>\n",
              "      <td>1.000000</td>\n",
              "    </tr>\n",
              "  </tbody>\n",
              "</table>\n",
              "</div>"
            ],
            "text/plain": [
              "          TALLA      PESO\n",
              "TALLA  1.000000  0.876887\n",
              "PESO   0.876887  1.000000"
            ]
          },
          "execution_count": 14,
          "metadata": {},
          "output_type": "execute_result"
        }
      ],
      "source": [
        "data_2011[['TALLA','PESO']].corr()"
      ]
    },
    {
      "cell_type": "code",
      "execution_count": null,
      "metadata": {
        "id": "Vx6tcuwyMgP0",
        "outputId": "75fb1fe1-eb5e-41c0-ed24-c7637c73f18c"
      },
      "outputs": [
        {
          "data": {
            "text/html": [
              "<div>\n",
              "<style scoped>\n",
              "    .dataframe tbody tr th:only-of-type {\n",
              "        vertical-align: middle;\n",
              "    }\n",
              "\n",
              "    .dataframe tbody tr th {\n",
              "        vertical-align: top;\n",
              "    }\n",
              "\n",
              "    .dataframe thead th {\n",
              "        text-align: right;\n",
              "    }\n",
              "</style>\n",
              "<table border=\"1\" class=\"dataframe\">\n",
              "  <thead>\n",
              "    <tr style=\"text-align: right;\">\n",
              "      <th></th>\n",
              "      <th>TALLA</th>\n",
              "      <th>PESO</th>\n",
              "    </tr>\n",
              "  </thead>\n",
              "  <tbody>\n",
              "    <tr>\n",
              "      <th>TALLA</th>\n",
              "      <td>1.000000</td>\n",
              "      <td>0.863294</td>\n",
              "    </tr>\n",
              "    <tr>\n",
              "      <th>PESO</th>\n",
              "      <td>0.863294</td>\n",
              "      <td>1.000000</td>\n",
              "    </tr>\n",
              "  </tbody>\n",
              "</table>\n",
              "</div>"
            ],
            "text/plain": [
              "          TALLA      PESO\n",
              "TALLA  1.000000  0.863294\n",
              "PESO   0.863294  1.000000"
            ]
          },
          "execution_count": 15,
          "metadata": {},
          "output_type": "execute_result"
        }
      ],
      "source": [
        "data_2012[['TALLA','PESO']].corr()"
      ]
    },
    {
      "cell_type": "code",
      "execution_count": null,
      "metadata": {
        "id": "bwENixo9MgP0",
        "outputId": "8f9a28ab-fddc-43e2-ae26-bc60bf3c32cc"
      },
      "outputs": [
        {
          "data": {
            "text/html": [
              "<div>\n",
              "<style scoped>\n",
              "    .dataframe tbody tr th:only-of-type {\n",
              "        vertical-align: middle;\n",
              "    }\n",
              "\n",
              "    .dataframe tbody tr th {\n",
              "        vertical-align: top;\n",
              "    }\n",
              "\n",
              "    .dataframe thead th {\n",
              "        text-align: right;\n",
              "    }\n",
              "</style>\n",
              "<table border=\"1\" class=\"dataframe\">\n",
              "  <thead>\n",
              "    <tr style=\"text-align: right;\">\n",
              "      <th></th>\n",
              "      <th>TALLA</th>\n",
              "      <th>PESO</th>\n",
              "    </tr>\n",
              "  </thead>\n",
              "  <tbody>\n",
              "    <tr>\n",
              "      <th>TALLA</th>\n",
              "      <td>1.000000</td>\n",
              "      <td>0.863962</td>\n",
              "    </tr>\n",
              "    <tr>\n",
              "      <th>PESO</th>\n",
              "      <td>0.863962</td>\n",
              "      <td>1.000000</td>\n",
              "    </tr>\n",
              "  </tbody>\n",
              "</table>\n",
              "</div>"
            ],
            "text/plain": [
              "          TALLA      PESO\n",
              "TALLA  1.000000  0.863962\n",
              "PESO   0.863962  1.000000"
            ]
          },
          "execution_count": 16,
          "metadata": {},
          "output_type": "execute_result"
        }
      ],
      "source": [
        "data_2013[['TALLA','PESO']].corr()"
      ]
    },
    {
      "cell_type": "code",
      "execution_count": null,
      "metadata": {
        "id": "682CWIhjMgP0",
        "outputId": "ee24c1dd-b873-4330-e3a3-a20a6c756085"
      },
      "outputs": [
        {
          "data": {
            "text/html": [
              "<div>\n",
              "<style scoped>\n",
              "    .dataframe tbody tr th:only-of-type {\n",
              "        vertical-align: middle;\n",
              "    }\n",
              "\n",
              "    .dataframe tbody tr th {\n",
              "        vertical-align: top;\n",
              "    }\n",
              "\n",
              "    .dataframe thead th {\n",
              "        text-align: right;\n",
              "    }\n",
              "</style>\n",
              "<table border=\"1\" class=\"dataframe\">\n",
              "  <thead>\n",
              "    <tr style=\"text-align: right;\">\n",
              "      <th></th>\n",
              "      <th>TALLA</th>\n",
              "      <th>PESO</th>\n",
              "    </tr>\n",
              "  </thead>\n",
              "  <tbody>\n",
              "    <tr>\n",
              "      <th>TALLA</th>\n",
              "      <td>1.000000</td>\n",
              "      <td>0.841003</td>\n",
              "    </tr>\n",
              "    <tr>\n",
              "      <th>PESO</th>\n",
              "      <td>0.841003</td>\n",
              "      <td>1.000000</td>\n",
              "    </tr>\n",
              "  </tbody>\n",
              "</table>\n",
              "</div>"
            ],
            "text/plain": [
              "          TALLA      PESO\n",
              "TALLA  1.000000  0.841003\n",
              "PESO   0.841003  1.000000"
            ]
          },
          "execution_count": 17,
          "metadata": {},
          "output_type": "execute_result"
        }
      ],
      "source": [
        "data_2014[['TALLA','PESO']].corr()"
      ]
    },
    {
      "cell_type": "code",
      "execution_count": null,
      "metadata": {
        "id": "vO_VR-SYMgP0",
        "outputId": "8bf1d331-6309-477f-9efd-ae072623b70a"
      },
      "outputs": [
        {
          "data": {
            "text/html": [
              "<div>\n",
              "<style scoped>\n",
              "    .dataframe tbody tr th:only-of-type {\n",
              "        vertical-align: middle;\n",
              "    }\n",
              "\n",
              "    .dataframe tbody tr th {\n",
              "        vertical-align: top;\n",
              "    }\n",
              "\n",
              "    .dataframe thead th {\n",
              "        text-align: right;\n",
              "    }\n",
              "</style>\n",
              "<table border=\"1\" class=\"dataframe\">\n",
              "  <thead>\n",
              "    <tr style=\"text-align: right;\">\n",
              "      <th></th>\n",
              "      <th>TALLA</th>\n",
              "      <th>PESO</th>\n",
              "    </tr>\n",
              "  </thead>\n",
              "  <tbody>\n",
              "    <tr>\n",
              "      <th>TALLA</th>\n",
              "      <td>1.000000</td>\n",
              "      <td>0.852095</td>\n",
              "    </tr>\n",
              "    <tr>\n",
              "      <th>PESO</th>\n",
              "      <td>0.852095</td>\n",
              "      <td>1.000000</td>\n",
              "    </tr>\n",
              "  </tbody>\n",
              "</table>\n",
              "</div>"
            ],
            "text/plain": [
              "          TALLA      PESO\n",
              "TALLA  1.000000  0.852095\n",
              "PESO   0.852095  1.000000"
            ]
          },
          "execution_count": 18,
          "metadata": {},
          "output_type": "execute_result"
        }
      ],
      "source": [
        "data_2015[['TALLA','PESO']].corr()"
      ]
    },
    {
      "cell_type": "code",
      "execution_count": null,
      "metadata": {
        "id": "YZG_7tWyMgP0",
        "outputId": "ee920d54-d669-4bc9-aefd-511d8748aa73"
      },
      "outputs": [
        {
          "data": {
            "text/html": [
              "<div>\n",
              "<style scoped>\n",
              "    .dataframe tbody tr th:only-of-type {\n",
              "        vertical-align: middle;\n",
              "    }\n",
              "\n",
              "    .dataframe tbody tr th {\n",
              "        vertical-align: top;\n",
              "    }\n",
              "\n",
              "    .dataframe thead th {\n",
              "        text-align: right;\n",
              "    }\n",
              "</style>\n",
              "<table border=\"1\" class=\"dataframe\">\n",
              "  <thead>\n",
              "    <tr style=\"text-align: right;\">\n",
              "      <th></th>\n",
              "      <th>TALLA</th>\n",
              "      <th>PESO</th>\n",
              "    </tr>\n",
              "  </thead>\n",
              "  <tbody>\n",
              "    <tr>\n",
              "      <th>TALLA</th>\n",
              "      <td>1.000000</td>\n",
              "      <td>0.837318</td>\n",
              "    </tr>\n",
              "    <tr>\n",
              "      <th>PESO</th>\n",
              "      <td>0.837318</td>\n",
              "      <td>1.000000</td>\n",
              "    </tr>\n",
              "  </tbody>\n",
              "</table>\n",
              "</div>"
            ],
            "text/plain": [
              "          TALLA      PESO\n",
              "TALLA  1.000000  0.837318\n",
              "PESO   0.837318  1.000000"
            ]
          },
          "execution_count": 19,
          "metadata": {},
          "output_type": "execute_result"
        }
      ],
      "source": [
        "data_2016[['TALLA','PESO']].corr()"
      ]
    },
    {
      "cell_type": "code",
      "execution_count": null,
      "metadata": {
        "id": "o4HN2DL6MgP0",
        "outputId": "199e6d0c-d45d-4c22-b9a3-567e646affed"
      },
      "outputs": [
        {
          "data": {
            "text/html": [
              "<div>\n",
              "<style scoped>\n",
              "    .dataframe tbody tr th:only-of-type {\n",
              "        vertical-align: middle;\n",
              "    }\n",
              "\n",
              "    .dataframe tbody tr th {\n",
              "        vertical-align: top;\n",
              "    }\n",
              "\n",
              "    .dataframe thead th {\n",
              "        text-align: right;\n",
              "    }\n",
              "</style>\n",
              "<table border=\"1\" class=\"dataframe\">\n",
              "  <thead>\n",
              "    <tr style=\"text-align: right;\">\n",
              "      <th></th>\n",
              "      <th>TALLA</th>\n",
              "      <th>PESO</th>\n",
              "    </tr>\n",
              "  </thead>\n",
              "  <tbody>\n",
              "    <tr>\n",
              "      <th>TALLA</th>\n",
              "      <td>1.000000</td>\n",
              "      <td>0.860293</td>\n",
              "    </tr>\n",
              "    <tr>\n",
              "      <th>PESO</th>\n",
              "      <td>0.860293</td>\n",
              "      <td>1.000000</td>\n",
              "    </tr>\n",
              "  </tbody>\n",
              "</table>\n",
              "</div>"
            ],
            "text/plain": [
              "          TALLA      PESO\n",
              "TALLA  1.000000  0.860293\n",
              "PESO   0.860293  1.000000"
            ]
          },
          "execution_count": 20,
          "metadata": {},
          "output_type": "execute_result"
        }
      ],
      "source": [
        "data_2017[['TALLA','PESO']].corr()"
      ]
    },
    {
      "cell_type": "markdown",
      "metadata": {
        "id": "OJbgWRJuMgP0"
      },
      "source": [
        "##### Se  puede observar que la correlalción entre las variables talla y peso, no desciende de 0.8, incluso alcanza 0.87 los años 2010 y 2011"
      ]
    },
    {
      "cell_type": "code",
      "execution_count": null,
      "metadata": {
        "id": "OCCkAfEBMgP1",
        "outputId": "84f17ffa-5295-47ea-f7ca-cb74ad7a8eb3"
      },
      "outputs": [
        {
          "data": {
            "text/html": [
              "<div>\n",
              "<style scoped>\n",
              "    .dataframe tbody tr th:only-of-type {\n",
              "        vertical-align: middle;\n",
              "    }\n",
              "\n",
              "    .dataframe tbody tr th {\n",
              "        vertical-align: top;\n",
              "    }\n",
              "\n",
              "    .dataframe thead th {\n",
              "        text-align: right;\n",
              "    }\n",
              "</style>\n",
              "<table border=\"1\" class=\"dataframe\">\n",
              "  <thead>\n",
              "    <tr style=\"text-align: right;\">\n",
              "      <th></th>\n",
              "      <th>TALLA</th>\n",
              "      <th>PESO</th>\n",
              "    </tr>\n",
              "  </thead>\n",
              "  <tbody>\n",
              "    <tr>\n",
              "      <th>TALLA</th>\n",
              "      <td>8.282141</td>\n",
              "      <td>1401.877499</td>\n",
              "    </tr>\n",
              "    <tr>\n",
              "      <th>PESO</th>\n",
              "      <td>1401.877499</td>\n",
              "      <td>338767.176400</td>\n",
              "    </tr>\n",
              "  </tbody>\n",
              "</table>\n",
              "</div>"
            ],
            "text/plain": [
              "             TALLA           PESO\n",
              "TALLA     8.282141    1401.877499\n",
              "PESO   1401.877499  338767.176400"
            ]
          },
          "execution_count": 21,
          "metadata": {},
          "output_type": "execute_result"
        }
      ],
      "source": [
        "data_2008[['TALLA','PESO']].cov()\n"
      ]
    },
    {
      "cell_type": "code",
      "execution_count": null,
      "metadata": {
        "id": "kLHOA1H4MgP1",
        "outputId": "575f21fd-8439-4583-a4c3-2e36144f5bad"
      },
      "outputs": [
        {
          "data": {
            "text/html": [
              "<div>\n",
              "<style scoped>\n",
              "    .dataframe tbody tr th:only-of-type {\n",
              "        vertical-align: middle;\n",
              "    }\n",
              "\n",
              "    .dataframe tbody tr th {\n",
              "        vertical-align: top;\n",
              "    }\n",
              "\n",
              "    .dataframe thead th {\n",
              "        text-align: right;\n",
              "    }\n",
              "</style>\n",
              "<table border=\"1\" class=\"dataframe\">\n",
              "  <thead>\n",
              "    <tr style=\"text-align: right;\">\n",
              "      <th></th>\n",
              "      <th>TALLA</th>\n",
              "      <th>PESO</th>\n",
              "    </tr>\n",
              "  </thead>\n",
              "  <tbody>\n",
              "    <tr>\n",
              "      <th>TALLA</th>\n",
              "      <td>10.745975</td>\n",
              "      <td>1750.969411</td>\n",
              "    </tr>\n",
              "    <tr>\n",
              "      <th>PESO</th>\n",
              "      <td>1750.969411</td>\n",
              "      <td>387941.648751</td>\n",
              "    </tr>\n",
              "  </tbody>\n",
              "</table>\n",
              "</div>"
            ],
            "text/plain": [
              "             TALLA           PESO\n",
              "TALLA    10.745975    1750.969411\n",
              "PESO   1750.969411  387941.648751"
            ]
          },
          "execution_count": 23,
          "metadata": {},
          "output_type": "execute_result"
        }
      ],
      "source": [
        "data_2009[['TALLA','PESO']].cov()\n"
      ]
    },
    {
      "cell_type": "code",
      "execution_count": null,
      "metadata": {
        "id": "vi-ovNpnMgP1",
        "outputId": "9f1c5868-0590-48d0-98ee-c3f73329e077"
      },
      "outputs": [
        {
          "data": {
            "text/html": [
              "<div>\n",
              "<style scoped>\n",
              "    .dataframe tbody tr th:only-of-type {\n",
              "        vertical-align: middle;\n",
              "    }\n",
              "\n",
              "    .dataframe tbody tr th {\n",
              "        vertical-align: top;\n",
              "    }\n",
              "\n",
              "    .dataframe thead th {\n",
              "        text-align: right;\n",
              "    }\n",
              "</style>\n",
              "<table border=\"1\" class=\"dataframe\">\n",
              "  <thead>\n",
              "    <tr style=\"text-align: right;\">\n",
              "      <th></th>\n",
              "      <th>TALLA</th>\n",
              "      <th>PESO</th>\n",
              "    </tr>\n",
              "  </thead>\n",
              "  <tbody>\n",
              "    <tr>\n",
              "      <th>TALLA</th>\n",
              "      <td>8.598333</td>\n",
              "      <td>1543.489951</td>\n",
              "    </tr>\n",
              "    <tr>\n",
              "      <th>PESO</th>\n",
              "      <td>1543.489951</td>\n",
              "      <td>360825.816377</td>\n",
              "    </tr>\n",
              "  </tbody>\n",
              "</table>\n",
              "</div>"
            ],
            "text/plain": [
              "             TALLA           PESO\n",
              "TALLA     8.598333    1543.489951\n",
              "PESO   1543.489951  360825.816377"
            ]
          },
          "execution_count": 24,
          "metadata": {},
          "output_type": "execute_result"
        }
      ],
      "source": [
        "data_2010[['TALLA','PESO']].cov()\n"
      ]
    },
    {
      "cell_type": "code",
      "execution_count": null,
      "metadata": {
        "id": "rBRnmNUtMgP1",
        "outputId": "1c59cf5b-ca1a-4336-cee9-b19e13ac91d8"
      },
      "outputs": [
        {
          "data": {
            "text/html": [
              "<div>\n",
              "<style scoped>\n",
              "    .dataframe tbody tr th:only-of-type {\n",
              "        vertical-align: middle;\n",
              "    }\n",
              "\n",
              "    .dataframe tbody tr th {\n",
              "        vertical-align: top;\n",
              "    }\n",
              "\n",
              "    .dataframe thead th {\n",
              "        text-align: right;\n",
              "    }\n",
              "</style>\n",
              "<table border=\"1\" class=\"dataframe\">\n",
              "  <thead>\n",
              "    <tr style=\"text-align: right;\">\n",
              "      <th></th>\n",
              "      <th>TALLA</th>\n",
              "      <th>PESO</th>\n",
              "    </tr>\n",
              "  </thead>\n",
              "  <tbody>\n",
              "    <tr>\n",
              "      <th>TALLA</th>\n",
              "      <td>9.560016</td>\n",
              "      <td>1647.849752</td>\n",
              "    </tr>\n",
              "    <tr>\n",
              "      <th>PESO</th>\n",
              "      <td>1647.849752</td>\n",
              "      <td>369393.255109</td>\n",
              "    </tr>\n",
              "  </tbody>\n",
              "</table>\n",
              "</div>"
            ],
            "text/plain": [
              "             TALLA           PESO\n",
              "TALLA     9.560016    1647.849752\n",
              "PESO   1647.849752  369393.255109"
            ]
          },
          "execution_count": 25,
          "metadata": {},
          "output_type": "execute_result"
        }
      ],
      "source": [
        "data_2011[['TALLA','PESO']].cov()\n"
      ]
    },
    {
      "cell_type": "code",
      "execution_count": null,
      "metadata": {
        "id": "FfjbwS9NMgP1",
        "outputId": "374b2343-5d78-4804-8da1-ed8bb37e3b87"
      },
      "outputs": [
        {
          "data": {
            "text/html": [
              "<div>\n",
              "<style scoped>\n",
              "    .dataframe tbody tr th:only-of-type {\n",
              "        vertical-align: middle;\n",
              "    }\n",
              "\n",
              "    .dataframe tbody tr th {\n",
              "        vertical-align: top;\n",
              "    }\n",
              "\n",
              "    .dataframe thead th {\n",
              "        text-align: right;\n",
              "    }\n",
              "</style>\n",
              "<table border=\"1\" class=\"dataframe\">\n",
              "  <thead>\n",
              "    <tr style=\"text-align: right;\">\n",
              "      <th></th>\n",
              "      <th>TALLA</th>\n",
              "      <th>PESO</th>\n",
              "    </tr>\n",
              "  </thead>\n",
              "  <tbody>\n",
              "    <tr>\n",
              "      <th>TALLA</th>\n",
              "      <td>9.677812</td>\n",
              "      <td>1625.551747</td>\n",
              "    </tr>\n",
              "    <tr>\n",
              "      <th>PESO</th>\n",
              "      <td>1625.551747</td>\n",
              "      <td>366359.490131</td>\n",
              "    </tr>\n",
              "  </tbody>\n",
              "</table>\n",
              "</div>"
            ],
            "text/plain": [
              "             TALLA           PESO\n",
              "TALLA     9.677812    1625.551747\n",
              "PESO   1625.551747  366359.490131"
            ]
          },
          "execution_count": 27,
          "metadata": {},
          "output_type": "execute_result"
        }
      ],
      "source": [
        "data_2012[['TALLA','PESO']].cov()\n"
      ]
    },
    {
      "cell_type": "code",
      "execution_count": null,
      "metadata": {
        "id": "NGrL54pbMgP1",
        "outputId": "7dee8562-9501-450f-ae0c-3781473a3cab"
      },
      "outputs": [
        {
          "data": {
            "text/html": [
              "<div>\n",
              "<style scoped>\n",
              "    .dataframe tbody tr th:only-of-type {\n",
              "        vertical-align: middle;\n",
              "    }\n",
              "\n",
              "    .dataframe tbody tr th {\n",
              "        vertical-align: top;\n",
              "    }\n",
              "\n",
              "    .dataframe thead th {\n",
              "        text-align: right;\n",
              "    }\n",
              "</style>\n",
              "<table border=\"1\" class=\"dataframe\">\n",
              "  <thead>\n",
              "    <tr style=\"text-align: right;\">\n",
              "      <th></th>\n",
              "      <th>TALLA</th>\n",
              "      <th>PESO</th>\n",
              "    </tr>\n",
              "  </thead>\n",
              "  <tbody>\n",
              "    <tr>\n",
              "      <th>TALLA</th>\n",
              "      <td>10.104700</td>\n",
              "      <td>1682.337026</td>\n",
              "    </tr>\n",
              "    <tr>\n",
              "      <th>PESO</th>\n",
              "      <td>1682.337026</td>\n",
              "      <td>375243.926160</td>\n",
              "    </tr>\n",
              "  </tbody>\n",
              "</table>\n",
              "</div>"
            ],
            "text/plain": [
              "             TALLA           PESO\n",
              "TALLA    10.104700    1682.337026\n",
              "PESO   1682.337026  375243.926160"
            ]
          },
          "execution_count": 28,
          "metadata": {},
          "output_type": "execute_result"
        }
      ],
      "source": [
        "data_2013[['TALLA','PESO']].cov()\n"
      ]
    },
    {
      "cell_type": "code",
      "execution_count": null,
      "metadata": {
        "id": "ccU6WpG9MgP1",
        "outputId": "eef0576b-70d3-4d7a-acca-9c8c49c9f907"
      },
      "outputs": [
        {
          "data": {
            "text/html": [
              "<div>\n",
              "<style scoped>\n",
              "    .dataframe tbody tr th:only-of-type {\n",
              "        vertical-align: middle;\n",
              "    }\n",
              "\n",
              "    .dataframe tbody tr th {\n",
              "        vertical-align: top;\n",
              "    }\n",
              "\n",
              "    .dataframe thead th {\n",
              "        text-align: right;\n",
              "    }\n",
              "</style>\n",
              "<table border=\"1\" class=\"dataframe\">\n",
              "  <thead>\n",
              "    <tr style=\"text-align: right;\">\n",
              "      <th></th>\n",
              "      <th>TALLA</th>\n",
              "      <th>PESO</th>\n",
              "    </tr>\n",
              "  </thead>\n",
              "  <tbody>\n",
              "    <tr>\n",
              "      <th>TALLA</th>\n",
              "      <td>12.608091</td>\n",
              "      <td>1895.742424</td>\n",
              "    </tr>\n",
              "    <tr>\n",
              "      <th>PESO</th>\n",
              "      <td>1895.742424</td>\n",
              "      <td>403008.379573</td>\n",
              "    </tr>\n",
              "  </tbody>\n",
              "</table>\n",
              "</div>"
            ],
            "text/plain": [
              "             TALLA           PESO\n",
              "TALLA    12.608091    1895.742424\n",
              "PESO   1895.742424  403008.379573"
            ]
          },
          "execution_count": 30,
          "metadata": {},
          "output_type": "execute_result"
        }
      ],
      "source": [
        "data_2014[['TALLA','PESO']].cov()\n"
      ]
    },
    {
      "cell_type": "code",
      "execution_count": null,
      "metadata": {
        "id": "n3v-mZSBMgP1",
        "outputId": "7fb8a86a-1f0c-4ec5-f4ac-5d9ccfba6023"
      },
      "outputs": [
        {
          "data": {
            "text/html": [
              "<div>\n",
              "<style scoped>\n",
              "    .dataframe tbody tr th:only-of-type {\n",
              "        vertical-align: middle;\n",
              "    }\n",
              "\n",
              "    .dataframe tbody tr th {\n",
              "        vertical-align: top;\n",
              "    }\n",
              "\n",
              "    .dataframe thead th {\n",
              "        text-align: right;\n",
              "    }\n",
              "</style>\n",
              "<table border=\"1\" class=\"dataframe\">\n",
              "  <thead>\n",
              "    <tr style=\"text-align: right;\">\n",
              "      <th></th>\n",
              "      <th>TALLA</th>\n",
              "      <th>PESO</th>\n",
              "    </tr>\n",
              "  </thead>\n",
              "  <tbody>\n",
              "    <tr>\n",
              "      <th>TALLA</th>\n",
              "      <td>12.203466</td>\n",
              "      <td>1860.608625</td>\n",
              "    </tr>\n",
              "    <tr>\n",
              "      <th>PESO</th>\n",
              "      <td>1860.608625</td>\n",
              "      <td>390706.471052</td>\n",
              "    </tr>\n",
              "  </tbody>\n",
              "</table>\n",
              "</div>"
            ],
            "text/plain": [
              "             TALLA           PESO\n",
              "TALLA    12.203466    1860.608625\n",
              "PESO   1860.608625  390706.471052"
            ]
          },
          "execution_count": 31,
          "metadata": {},
          "output_type": "execute_result"
        }
      ],
      "source": [
        "data_2015[['TALLA','PESO']].cov()\n"
      ]
    },
    {
      "cell_type": "code",
      "execution_count": null,
      "metadata": {
        "id": "EdkPECSTMgP2",
        "outputId": "642769b7-e4b9-4ef6-af17-a7c5a1c53d60"
      },
      "outputs": [
        {
          "data": {
            "text/html": [
              "<div>\n",
              "<style scoped>\n",
              "    .dataframe tbody tr th:only-of-type {\n",
              "        vertical-align: middle;\n",
              "    }\n",
              "\n",
              "    .dataframe tbody tr th {\n",
              "        vertical-align: top;\n",
              "    }\n",
              "\n",
              "    .dataframe thead th {\n",
              "        text-align: right;\n",
              "    }\n",
              "</style>\n",
              "<table border=\"1\" class=\"dataframe\">\n",
              "  <thead>\n",
              "    <tr style=\"text-align: right;\">\n",
              "      <th></th>\n",
              "      <th>TALLA</th>\n",
              "      <th>PESO</th>\n",
              "    </tr>\n",
              "  </thead>\n",
              "  <tbody>\n",
              "    <tr>\n",
              "      <th>TALLA</th>\n",
              "      <td>13.262913</td>\n",
              "      <td>1941.534022</td>\n",
              "    </tr>\n",
              "    <tr>\n",
              "      <th>PESO</th>\n",
              "      <td>1941.534022</td>\n",
              "      <td>405387.317686</td>\n",
              "    </tr>\n",
              "  </tbody>\n",
              "</table>\n",
              "</div>"
            ],
            "text/plain": [
              "             TALLA           PESO\n",
              "TALLA    13.262913    1941.534022\n",
              "PESO   1941.534022  405387.317686"
            ]
          },
          "execution_count": 32,
          "metadata": {},
          "output_type": "execute_result"
        }
      ],
      "source": [
        "data_2016[['TALLA','PESO']].cov()\n"
      ]
    },
    {
      "cell_type": "code",
      "execution_count": null,
      "metadata": {
        "id": "bQPgDRHBMgP2",
        "outputId": "39a7b812-c06f-4171-f4c7-b2ea69a82432"
      },
      "outputs": [
        {
          "data": {
            "text/html": [
              "<div>\n",
              "<style scoped>\n",
              "    .dataframe tbody tr th:only-of-type {\n",
              "        vertical-align: middle;\n",
              "    }\n",
              "\n",
              "    .dataframe tbody tr th {\n",
              "        vertical-align: top;\n",
              "    }\n",
              "\n",
              "    .dataframe thead th {\n",
              "        text-align: right;\n",
              "    }\n",
              "</style>\n",
              "<table border=\"1\" class=\"dataframe\">\n",
              "  <thead>\n",
              "    <tr style=\"text-align: right;\">\n",
              "      <th></th>\n",
              "      <th>TALLA</th>\n",
              "      <th>PESO</th>\n",
              "    </tr>\n",
              "  </thead>\n",
              "  <tbody>\n",
              "    <tr>\n",
              "      <th>TALLA</th>\n",
              "      <td>11.297661</td>\n",
              "      <td>1791.252917</td>\n",
              "    </tr>\n",
              "    <tr>\n",
              "      <th>PESO</th>\n",
              "      <td>1791.252917</td>\n",
              "      <td>383735.626577</td>\n",
              "    </tr>\n",
              "  </tbody>\n",
              "</table>\n",
              "</div>"
            ],
            "text/plain": [
              "             TALLA           PESO\n",
              "TALLA    11.297661    1791.252917\n",
              "PESO   1791.252917  383735.626577"
            ]
          },
          "execution_count": 33,
          "metadata": {},
          "output_type": "execute_result"
        }
      ],
      "source": [
        "data_2017[['TALLA','PESO']].cov()\n"
      ]
    },
    {
      "cell_type": "markdown",
      "metadata": {
        "id": "Cz6IvOheMgP2"
      },
      "source": [
        "##### Con respecto a la covarianza se ven modificaciones a través de los años el menor nivel se presenta en el 2008, y el mayor en el año 2016."
      ]
    },
    {
      "cell_type": "markdown",
      "metadata": {
        "id": "fDyfgjy8MgP2"
      },
      "source": [
        "----------------------------------------------------------------------------"
      ]
    },
    {
      "cell_type": "markdown",
      "metadata": {
        "id": "uBQxoaELMgP2"
      },
      "source": [
        "##### 5. Calcular covarianza  y correlación entre la edad del padre  y la  edad de  la  madre, a  nivel general (tomando toda la base). Luego hacerlo por año. ¿Cambia con el paso de los años?"
      ]
    },
    {
      "cell_type": "markdown",
      "metadata": {
        "id": "t4PEzlDxMgP2"
      },
      "source": [
        "##### Para comenzar se realiza una observación de las variables a analizar con el método describe()"
      ]
    },
    {
      "cell_type": "code",
      "execution_count": null,
      "metadata": {
        "id": "5iZDl5JqMgP2",
        "outputId": "8f6565ac-3a5c-402a-8bd3-029e752c23b5"
      },
      "outputs": [
        {
          "data": {
            "text/plain": [
              "count    2.429062e+06\n",
              "mean     3.650992e+01\n",
              "std      2.127764e+01\n",
              "min      0.000000e+00\n",
              "25%      2.500000e+01\n",
              "50%      3.100000e+01\n",
              "75%      3.800000e+01\n",
              "max      9.900000e+01\n",
              "Name: EDAD_P, dtype: float64"
            ]
          },
          "execution_count": 34,
          "metadata": {},
          "output_type": "execute_result"
        }
      ],
      "source": [
        "data[\"EDAD_P\"].describe()"
      ]
    },
    {
      "cell_type": "code",
      "execution_count": null,
      "metadata": {
        "id": "MhJ63dALMgP2",
        "outputId": "18d5c318-403d-4f3a-fdc9-f7405e6b20f8"
      },
      "outputs": [
        {
          "data": {
            "text/plain": [
              "count    2.429064e+06\n",
              "mean     2.754267e+01\n",
              "std      6.808610e+00\n",
              "min      1.100000e+01\n",
              "25%      2.200000e+01\n",
              "50%      2.700000e+01\n",
              "75%      3.300000e+01\n",
              "max      9.900000e+01\n",
              "Name: EDAD_M, dtype: float64"
            ]
          },
          "execution_count": 36,
          "metadata": {},
          "output_type": "execute_result"
        }
      ],
      "source": [
        "data[\"EDAD_M\"].describe()"
      ]
    },
    {
      "cell_type": "markdown",
      "metadata": {
        "id": "8qRtL_EWMgP2"
      },
      "source": [
        "###### Se observa que la media de la edad de los padres es superior a la de las madres, 36.5 versus 27.5 años (se observan edades que pueden ser valores erroneos, pero que no se expluyen dado a que no se ha solicitado, y son parte de la documentación del respectivo registro)"
      ]
    },
    {
      "cell_type": "markdown",
      "metadata": {
        "id": "4HriqFsWMgP3"
      },
      "source": [
        "###### Ahora se procede a ver mediante los métodos corr() y cov(), lo requerido"
      ]
    },
    {
      "cell_type": "code",
      "execution_count": null,
      "metadata": {
        "id": "XfrG8lf1MgP3",
        "outputId": "d24ca7c1-965e-4e04-ce11-b9ad86878659"
      },
      "outputs": [
        {
          "data": {
            "text/html": [
              "<div>\n",
              "<style scoped>\n",
              "    .dataframe tbody tr th:only-of-type {\n",
              "        vertical-align: middle;\n",
              "    }\n",
              "\n",
              "    .dataframe tbody tr th {\n",
              "        vertical-align: top;\n",
              "    }\n",
              "\n",
              "    .dataframe thead th {\n",
              "        text-align: right;\n",
              "    }\n",
              "</style>\n",
              "<table border=\"1\" class=\"dataframe\">\n",
              "  <thead>\n",
              "    <tr style=\"text-align: right;\">\n",
              "      <th></th>\n",
              "      <th>EDAD_P</th>\n",
              "      <th>EDAD_M</th>\n",
              "    </tr>\n",
              "  </thead>\n",
              "  <tbody>\n",
              "    <tr>\n",
              "      <th>EDAD_P</th>\n",
              "      <td>1.000000</td>\n",
              "      <td>0.134225</td>\n",
              "    </tr>\n",
              "    <tr>\n",
              "      <th>EDAD_M</th>\n",
              "      <td>0.134225</td>\n",
              "      <td>1.000000</td>\n",
              "    </tr>\n",
              "  </tbody>\n",
              "</table>\n",
              "</div>"
            ],
            "text/plain": [
              "          EDAD_P    EDAD_M\n",
              "EDAD_P  1.000000  0.134225\n",
              "EDAD_M  0.134225  1.000000"
            ]
          },
          "execution_count": 35,
          "metadata": {},
          "output_type": "execute_result"
        }
      ],
      "source": [
        "data[['EDAD_P','EDAD_M']].corr()"
      ]
    },
    {
      "cell_type": "code",
      "execution_count": null,
      "metadata": {
        "scrolled": true,
        "id": "ZWec3pA2MgP3",
        "outputId": "917b6564-9e4e-4b7f-d27f-002c7650fb81"
      },
      "outputs": [
        {
          "data": {
            "image/png": "[encoded data removed]",
            "text/plain": [
              "<Figure size 432x288 with 2 Axes>"
            ]
          },
          "metadata": {
            "needs_background": "light"
          },
          "output_type": "display_data"
        }
      ],
      "source": [
        "sns.heatmap(data[['EDAD_P','EDAD_M']].corr(), annot=True, cmap = 'Reds')\n",
        "plt.show()"
      ]
    },
    {
      "cell_type": "code",
      "execution_count": null,
      "metadata": {
        "scrolled": true,
        "id": "ScaCdiORMgP3",
        "outputId": "65729d73-f8a9-4361-902b-96a9c95ca80a"
      },
      "outputs": [
        {
          "data": {
            "image/png": "[encoded data removed]",
            "text/plain": [
              "<Figure size 360x360 with 6 Axes>"
            ]
          },
          "metadata": {
            "needs_background": "light"
          },
          "output_type": "display_data"
        }
      ],
      "source": [
        "sns.pairplot(data = data, vars=['EDAD_P','EDAD_M'])\n",
        "plt.show()"
      ]
    },
    {
      "cell_type": "code",
      "execution_count": null,
      "metadata": {
        "id": "U4u7sD8pMgP3",
        "outputId": "4c390296-07ce-40fa-b3cf-32d806c47017"
      },
      "outputs": [
        {
          "data": {
            "text/html": [
              "<div>\n",
              "<style scoped>\n",
              "    .dataframe tbody tr th:only-of-type {\n",
              "        vertical-align: middle;\n",
              "    }\n",
              "\n",
              "    .dataframe tbody tr th {\n",
              "        vertical-align: top;\n",
              "    }\n",
              "\n",
              "    .dataframe thead th {\n",
              "        text-align: right;\n",
              "    }\n",
              "</style>\n",
              "<table border=\"1\" class=\"dataframe\">\n",
              "  <thead>\n",
              "    <tr style=\"text-align: right;\">\n",
              "      <th></th>\n",
              "      <th>EDAD_P</th>\n",
              "      <th>EDAD_M</th>\n",
              "    </tr>\n",
              "  </thead>\n",
              "  <tbody>\n",
              "    <tr>\n",
              "      <th>EDAD_P</th>\n",
              "      <td>452.738105</td>\n",
              "      <td>19.444422</td>\n",
              "    </tr>\n",
              "    <tr>\n",
              "      <th>EDAD_M</th>\n",
              "      <td>19.444422</td>\n",
              "      <td>46.357177</td>\n",
              "    </tr>\n",
              "  </tbody>\n",
              "</table>\n",
              "</div>"
            ],
            "text/plain": [
              "            EDAD_P     EDAD_M\n",
              "EDAD_P  452.738105  19.444422\n",
              "EDAD_M   19.444422  46.357177"
            ]
          },
          "execution_count": 40,
          "metadata": {},
          "output_type": "execute_result"
        }
      ],
      "source": [
        "data[['EDAD_P','EDAD_M']].cov()"
      ]
    },
    {
      "cell_type": "code",
      "execution_count": null,
      "metadata": {
        "scrolled": true,
        "id": "y_j0BwfoMgP3",
        "outputId": "5695435c-b266-4f43-c051-a45256436ff4"
      },
      "outputs": [
        {
          "data": {
            "image/png": "[encoded data removed]",
            "text/plain": [
              "<Figure size 432x288 with 2 Axes>"
            ]
          },
          "metadata": {
            "needs_background": "light"
          },
          "output_type": "display_data"
        }
      ],
      "source": [
        "sns.heatmap(data[['EDAD_P','EDAD_M']].cov(), annot=True, cmap = 'Reds')\n",
        "plt.show()"
      ]
    },
    {
      "cell_type": "markdown",
      "metadata": {
        "id": "kEq8idbwMgP3"
      },
      "source": [
        "###### Se observa que la correlación es baja alcanzando un 0.13, por su parte la covarianza 19.4"
      ]
    },
    {
      "cell_type": "code",
      "execution_count": null,
      "metadata": {
        "id": "v9Z9RQQBMgP3",
        "outputId": "e97da048-c1aa-4822-a6a9-7208504b07bc"
      },
      "outputs": [
        {
          "data": {
            "text/html": [
              "<div>\n",
              "<style scoped>\n",
              "    .dataframe tbody tr th:only-of-type {\n",
              "        vertical-align: middle;\n",
              "    }\n",
              "\n",
              "    .dataframe tbody tr th {\n",
              "        vertical-align: top;\n",
              "    }\n",
              "\n",
              "    .dataframe thead th {\n",
              "        text-align: right;\n",
              "    }\n",
              "</style>\n",
              "<table border=\"1\" class=\"dataframe\">\n",
              "  <thead>\n",
              "    <tr style=\"text-align: right;\">\n",
              "      <th></th>\n",
              "      <th>EDAD_P</th>\n",
              "      <th>EDAD_M</th>\n",
              "    </tr>\n",
              "  </thead>\n",
              "  <tbody>\n",
              "    <tr>\n",
              "      <th>EDAD_P</th>\n",
              "      <td>1.000000</td>\n",
              "      <td>0.092096</td>\n",
              "    </tr>\n",
              "    <tr>\n",
              "      <th>EDAD_M</th>\n",
              "      <td>0.092096</td>\n",
              "      <td>1.000000</td>\n",
              "    </tr>\n",
              "  </tbody>\n",
              "</table>\n",
              "</div>"
            ],
            "text/plain": [
              "          EDAD_P    EDAD_M\n",
              "EDAD_P  1.000000  0.092096\n",
              "EDAD_M  0.092096  1.000000"
            ]
          },
          "execution_count": 43,
          "metadata": {},
          "output_type": "execute_result"
        }
      ],
      "source": [
        "data_2008[['EDAD_P','EDAD_M']].corr()\n"
      ]
    },
    {
      "cell_type": "code",
      "execution_count": null,
      "metadata": {
        "id": "CJM8_Ya2MgP4",
        "outputId": "8252a74f-f445-41a0-8ba4-ec661aa88b50"
      },
      "outputs": [
        {
          "data": {
            "text/html": [
              "<div>\n",
              "<style scoped>\n",
              "    .dataframe tbody tr th:only-of-type {\n",
              "        vertical-align: middle;\n",
              "    }\n",
              "\n",
              "    .dataframe tbody tr th {\n",
              "        vertical-align: top;\n",
              "    }\n",
              "\n",
              "    .dataframe thead th {\n",
              "        text-align: right;\n",
              "    }\n",
              "</style>\n",
              "<table border=\"1\" class=\"dataframe\">\n",
              "  <thead>\n",
              "    <tr style=\"text-align: right;\">\n",
              "      <th></th>\n",
              "      <th>EDAD_P</th>\n",
              "      <th>EDAD_M</th>\n",
              "    </tr>\n",
              "  </thead>\n",
              "  <tbody>\n",
              "    <tr>\n",
              "      <th>EDAD_P</th>\n",
              "      <td>1.000000</td>\n",
              "      <td>0.095148</td>\n",
              "    </tr>\n",
              "    <tr>\n",
              "      <th>EDAD_M</th>\n",
              "      <td>0.095148</td>\n",
              "      <td>1.000000</td>\n",
              "    </tr>\n",
              "  </tbody>\n",
              "</table>\n",
              "</div>"
            ],
            "text/plain": [
              "          EDAD_P    EDAD_M\n",
              "EDAD_P  1.000000  0.095148\n",
              "EDAD_M  0.095148  1.000000"
            ]
          },
          "execution_count": 44,
          "metadata": {},
          "output_type": "execute_result"
        }
      ],
      "source": [
        "data_2009[['EDAD_P','EDAD_M']].corr()"
      ]
    },
    {
      "cell_type": "code",
      "execution_count": null,
      "metadata": {
        "id": "1AkXoQ-9MgP4",
        "outputId": "054779b0-0033-4f79-8608-2e5651cde645"
      },
      "outputs": [
        {
          "data": {
            "text/html": [
              "<div>\n",
              "<style scoped>\n",
              "    .dataframe tbody tr th:only-of-type {\n",
              "        vertical-align: middle;\n",
              "    }\n",
              "\n",
              "    .dataframe tbody tr th {\n",
              "        vertical-align: top;\n",
              "    }\n",
              "\n",
              "    .dataframe thead th {\n",
              "        text-align: right;\n",
              "    }\n",
              "</style>\n",
              "<table border=\"1\" class=\"dataframe\">\n",
              "  <thead>\n",
              "    <tr style=\"text-align: right;\">\n",
              "      <th></th>\n",
              "      <th>EDAD_P</th>\n",
              "      <th>EDAD_M</th>\n",
              "    </tr>\n",
              "  </thead>\n",
              "  <tbody>\n",
              "    <tr>\n",
              "      <th>EDAD_P</th>\n",
              "      <td>1.000000</td>\n",
              "      <td>0.097004</td>\n",
              "    </tr>\n",
              "    <tr>\n",
              "      <th>EDAD_M</th>\n",
              "      <td>0.097004</td>\n",
              "      <td>1.000000</td>\n",
              "    </tr>\n",
              "  </tbody>\n",
              "</table>\n",
              "</div>"
            ],
            "text/plain": [
              "          EDAD_P    EDAD_M\n",
              "EDAD_P  1.000000  0.097004\n",
              "EDAD_M  0.097004  1.000000"
            ]
          },
          "execution_count": 45,
          "metadata": {},
          "output_type": "execute_result"
        }
      ],
      "source": [
        "data_2010[['EDAD_P','EDAD_M']].corr()"
      ]
    },
    {
      "cell_type": "code",
      "execution_count": null,
      "metadata": {
        "id": "dHEAvBpiMgP4",
        "outputId": "cfa2cd73-c02c-49e5-b028-09c01f2b7d9a"
      },
      "outputs": [
        {
          "data": {
            "text/html": [
              "<div>\n",
              "<style scoped>\n",
              "    .dataframe tbody tr th:only-of-type {\n",
              "        vertical-align: middle;\n",
              "    }\n",
              "\n",
              "    .dataframe tbody tr th {\n",
              "        vertical-align: top;\n",
              "    }\n",
              "\n",
              "    .dataframe thead th {\n",
              "        text-align: right;\n",
              "    }\n",
              "</style>\n",
              "<table border=\"1\" class=\"dataframe\">\n",
              "  <thead>\n",
              "    <tr style=\"text-align: right;\">\n",
              "      <th></th>\n",
              "      <th>EDAD_P</th>\n",
              "      <th>EDAD_M</th>\n",
              "    </tr>\n",
              "  </thead>\n",
              "  <tbody>\n",
              "    <tr>\n",
              "      <th>EDAD_P</th>\n",
              "      <td>1.000000</td>\n",
              "      <td>0.111661</td>\n",
              "    </tr>\n",
              "    <tr>\n",
              "      <th>EDAD_M</th>\n",
              "      <td>0.111661</td>\n",
              "      <td>1.000000</td>\n",
              "    </tr>\n",
              "  </tbody>\n",
              "</table>\n",
              "</div>"
            ],
            "text/plain": [
              "          EDAD_P    EDAD_M\n",
              "EDAD_P  1.000000  0.111661\n",
              "EDAD_M  0.111661  1.000000"
            ]
          },
          "execution_count": 46,
          "metadata": {},
          "output_type": "execute_result"
        }
      ],
      "source": [
        "data_2011[['EDAD_P','EDAD_M']].corr()"
      ]
    },
    {
      "cell_type": "code",
      "execution_count": null,
      "metadata": {
        "id": "Yx6RJTwaMgP4",
        "outputId": "dbb7580d-87a9-456f-9f86-b6876cdfe966"
      },
      "outputs": [
        {
          "data": {
            "text/html": [
              "<div>\n",
              "<style scoped>\n",
              "    .dataframe tbody tr th:only-of-type {\n",
              "        vertical-align: middle;\n",
              "    }\n",
              "\n",
              "    .dataframe tbody tr th {\n",
              "        vertical-align: top;\n",
              "    }\n",
              "\n",
              "    .dataframe thead th {\n",
              "        text-align: right;\n",
              "    }\n",
              "</style>\n",
              "<table border=\"1\" class=\"dataframe\">\n",
              "  <thead>\n",
              "    <tr style=\"text-align: right;\">\n",
              "      <th></th>\n",
              "      <th>EDAD_P</th>\n",
              "      <th>EDAD_M</th>\n",
              "    </tr>\n",
              "  </thead>\n",
              "  <tbody>\n",
              "    <tr>\n",
              "      <th>EDAD_P</th>\n",
              "      <td>1.000000</td>\n",
              "      <td>0.118622</td>\n",
              "    </tr>\n",
              "    <tr>\n",
              "      <th>EDAD_M</th>\n",
              "      <td>0.118622</td>\n",
              "      <td>1.000000</td>\n",
              "    </tr>\n",
              "  </tbody>\n",
              "</table>\n",
              "</div>"
            ],
            "text/plain": [
              "          EDAD_P    EDAD_M\n",
              "EDAD_P  1.000000  0.118622\n",
              "EDAD_M  0.118622  1.000000"
            ]
          },
          "execution_count": 47,
          "metadata": {},
          "output_type": "execute_result"
        }
      ],
      "source": [
        "data_2012[['EDAD_P','EDAD_M']].corr()"
      ]
    },
    {
      "cell_type": "code",
      "execution_count": null,
      "metadata": {
        "id": "zAS1n4VoMgP4",
        "outputId": "274ad5aa-ac66-4c9b-e00c-8054402cd2d4"
      },
      "outputs": [
        {
          "data": {
            "text/html": [
              "<div>\n",
              "<style scoped>\n",
              "    .dataframe tbody tr th:only-of-type {\n",
              "        vertical-align: middle;\n",
              "    }\n",
              "\n",
              "    .dataframe tbody tr th {\n",
              "        vertical-align: top;\n",
              "    }\n",
              "\n",
              "    .dataframe thead th {\n",
              "        text-align: right;\n",
              "    }\n",
              "</style>\n",
              "<table border=\"1\" class=\"dataframe\">\n",
              "  <thead>\n",
              "    <tr style=\"text-align: right;\">\n",
              "      <th></th>\n",
              "      <th>EDAD_P</th>\n",
              "      <th>EDAD_M</th>\n",
              "    </tr>\n",
              "  </thead>\n",
              "  <tbody>\n",
              "    <tr>\n",
              "      <th>EDAD_P</th>\n",
              "      <td>1.000000</td>\n",
              "      <td>0.530661</td>\n",
              "    </tr>\n",
              "    <tr>\n",
              "      <th>EDAD_M</th>\n",
              "      <td>0.530661</td>\n",
              "      <td>1.000000</td>\n",
              "    </tr>\n",
              "  </tbody>\n",
              "</table>\n",
              "</div>"
            ],
            "text/plain": [
              "          EDAD_P    EDAD_M\n",
              "EDAD_P  1.000000  0.530661\n",
              "EDAD_M  0.530661  1.000000"
            ]
          },
          "execution_count": 48,
          "metadata": {},
          "output_type": "execute_result"
        }
      ],
      "source": [
        "data_2013[['EDAD_P','EDAD_M']].corr()"
      ]
    },
    {
      "cell_type": "code",
      "execution_count": null,
      "metadata": {
        "id": "5lCsXgn0MgP4",
        "outputId": "53ad433c-c0be-4e0a-a34f-d490aaffbaaf"
      },
      "outputs": [
        {
          "data": {
            "text/html": [
              "<div>\n",
              "<style scoped>\n",
              "    .dataframe tbody tr th:only-of-type {\n",
              "        vertical-align: middle;\n",
              "    }\n",
              "\n",
              "    .dataframe tbody tr th {\n",
              "        vertical-align: top;\n",
              "    }\n",
              "\n",
              "    .dataframe thead th {\n",
              "        text-align: right;\n",
              "    }\n",
              "</style>\n",
              "<table border=\"1\" class=\"dataframe\">\n",
              "  <thead>\n",
              "    <tr style=\"text-align: right;\">\n",
              "      <th></th>\n",
              "      <th>EDAD_P</th>\n",
              "      <th>EDAD_M</th>\n",
              "    </tr>\n",
              "  </thead>\n",
              "  <tbody>\n",
              "    <tr>\n",
              "      <th>EDAD_P</th>\n",
              "      <td>1.000000</td>\n",
              "      <td>0.129166</td>\n",
              "    </tr>\n",
              "    <tr>\n",
              "      <th>EDAD_M</th>\n",
              "      <td>0.129166</td>\n",
              "      <td>1.000000</td>\n",
              "    </tr>\n",
              "  </tbody>\n",
              "</table>\n",
              "</div>"
            ],
            "text/plain": [
              "          EDAD_P    EDAD_M\n",
              "EDAD_P  1.000000  0.129166\n",
              "EDAD_M  0.129166  1.000000"
            ]
          },
          "execution_count": 49,
          "metadata": {},
          "output_type": "execute_result"
        }
      ],
      "source": [
        "data_2014[['EDAD_P','EDAD_M']].corr()"
      ]
    },
    {
      "cell_type": "code",
      "execution_count": null,
      "metadata": {
        "id": "Tf3eBAZZMgP4",
        "outputId": "447a70a6-823c-4c51-ec7c-27fd8b082b36"
      },
      "outputs": [
        {
          "data": {
            "text/html": [
              "<div>\n",
              "<style scoped>\n",
              "    .dataframe tbody tr th:only-of-type {\n",
              "        vertical-align: middle;\n",
              "    }\n",
              "\n",
              "    .dataframe tbody tr th {\n",
              "        vertical-align: top;\n",
              "    }\n",
              "\n",
              "    .dataframe thead th {\n",
              "        text-align: right;\n",
              "    }\n",
              "</style>\n",
              "<table border=\"1\" class=\"dataframe\">\n",
              "  <thead>\n",
              "    <tr style=\"text-align: right;\">\n",
              "      <th></th>\n",
              "      <th>EDAD_P</th>\n",
              "      <th>EDAD_M</th>\n",
              "    </tr>\n",
              "  </thead>\n",
              "  <tbody>\n",
              "    <tr>\n",
              "      <th>EDAD_P</th>\n",
              "      <td>1.000000</td>\n",
              "      <td>0.133329</td>\n",
              "    </tr>\n",
              "    <tr>\n",
              "      <th>EDAD_M</th>\n",
              "      <td>0.133329</td>\n",
              "      <td>1.000000</td>\n",
              "    </tr>\n",
              "  </tbody>\n",
              "</table>\n",
              "</div>"
            ],
            "text/plain": [
              "          EDAD_P    EDAD_M\n",
              "EDAD_P  1.000000  0.133329\n",
              "EDAD_M  0.133329  1.000000"
            ]
          },
          "execution_count": 50,
          "metadata": {},
          "output_type": "execute_result"
        }
      ],
      "source": [
        "data_2015[['EDAD_P','EDAD_M']].corr()"
      ]
    },
    {
      "cell_type": "code",
      "execution_count": null,
      "metadata": {
        "id": "Wc3fASeUMgP4",
        "outputId": "1cf417aa-a8d1-4604-9612-d075ef6d9693"
      },
      "outputs": [
        {
          "data": {
            "text/html": [
              "<div>\n",
              "<style scoped>\n",
              "    .dataframe tbody tr th:only-of-type {\n",
              "        vertical-align: middle;\n",
              "    }\n",
              "\n",
              "    .dataframe tbody tr th {\n",
              "        vertical-align: top;\n",
              "    }\n",
              "\n",
              "    .dataframe thead th {\n",
              "        text-align: right;\n",
              "    }\n",
              "</style>\n",
              "<table border=\"1\" class=\"dataframe\">\n",
              "  <thead>\n",
              "    <tr style=\"text-align: right;\">\n",
              "      <th></th>\n",
              "      <th>EDAD_P</th>\n",
              "      <th>EDAD_M</th>\n",
              "    </tr>\n",
              "  </thead>\n",
              "  <tbody>\n",
              "    <tr>\n",
              "      <th>EDAD_P</th>\n",
              "      <td>1.000000</td>\n",
              "      <td>0.135811</td>\n",
              "    </tr>\n",
              "    <tr>\n",
              "      <th>EDAD_M</th>\n",
              "      <td>0.135811</td>\n",
              "      <td>1.000000</td>\n",
              "    </tr>\n",
              "  </tbody>\n",
              "</table>\n",
              "</div>"
            ],
            "text/plain": [
              "          EDAD_P    EDAD_M\n",
              "EDAD_P  1.000000  0.135811\n",
              "EDAD_M  0.135811  1.000000"
            ]
          },
          "execution_count": 51,
          "metadata": {},
          "output_type": "execute_result"
        }
      ],
      "source": [
        "data_2016[['EDAD_P','EDAD_M']].corr()"
      ]
    },
    {
      "cell_type": "code",
      "execution_count": null,
      "metadata": {
        "id": "w4yDDHQiMgP4",
        "outputId": "ca4b52c3-053c-4605-d01e-293ad5d52123"
      },
      "outputs": [
        {
          "data": {
            "text/html": [
              "<div>\n",
              "<style scoped>\n",
              "    .dataframe tbody tr th:only-of-type {\n",
              "        vertical-align: middle;\n",
              "    }\n",
              "\n",
              "    .dataframe tbody tr th {\n",
              "        vertical-align: top;\n",
              "    }\n",
              "\n",
              "    .dataframe thead th {\n",
              "        text-align: right;\n",
              "    }\n",
              "</style>\n",
              "<table border=\"1\" class=\"dataframe\">\n",
              "  <thead>\n",
              "    <tr style=\"text-align: right;\">\n",
              "      <th></th>\n",
              "      <th>EDAD_P</th>\n",
              "      <th>EDAD_M</th>\n",
              "    </tr>\n",
              "  </thead>\n",
              "  <tbody>\n",
              "    <tr>\n",
              "      <th>EDAD_P</th>\n",
              "      <td>1.000000</td>\n",
              "      <td>0.132009</td>\n",
              "    </tr>\n",
              "    <tr>\n",
              "      <th>EDAD_M</th>\n",
              "      <td>0.132009</td>\n",
              "      <td>1.000000</td>\n",
              "    </tr>\n",
              "  </tbody>\n",
              "</table>\n",
              "</div>"
            ],
            "text/plain": [
              "          EDAD_P    EDAD_M\n",
              "EDAD_P  1.000000  0.132009\n",
              "EDAD_M  0.132009  1.000000"
            ]
          },
          "execution_count": 52,
          "metadata": {},
          "output_type": "execute_result"
        }
      ],
      "source": [
        "data_2017[['EDAD_P','EDAD_M']].corr()"
      ]
    },
    {
      "cell_type": "markdown",
      "metadata": {
        "id": "65OLA40LMgP5"
      },
      "source": [
        "##### Se observan que los valores de correlaciones por año son bajos entre 0.09 y 0.12, a excepción del año 2013, donde alcanza el mayor nivel con 0.53"
      ]
    },
    {
      "cell_type": "markdown",
      "metadata": {
        "id": "lfzuNFycMgP5"
      },
      "source": [
        "##### Por su parte los niveles anuales de covarianza;"
      ]
    },
    {
      "cell_type": "code",
      "execution_count": null,
      "metadata": {
        "id": "GeZ4uiUGMgP5",
        "outputId": "2cf67976-e626-45cc-deee-f6ac5ae39c7d"
      },
      "outputs": [
        {
          "data": {
            "text/html": [
              "<div>\n",
              "<style scoped>\n",
              "    .dataframe tbody tr th:only-of-type {\n",
              "        vertical-align: middle;\n",
              "    }\n",
              "\n",
              "    .dataframe tbody tr th {\n",
              "        vertical-align: top;\n",
              "    }\n",
              "\n",
              "    .dataframe thead th {\n",
              "        text-align: right;\n",
              "    }\n",
              "</style>\n",
              "<table border=\"1\" class=\"dataframe\">\n",
              "  <thead>\n",
              "    <tr style=\"text-align: right;\">\n",
              "      <th></th>\n",
              "      <th>EDAD_P</th>\n",
              "      <th>EDAD_M</th>\n",
              "    </tr>\n",
              "  </thead>\n",
              "  <tbody>\n",
              "    <tr>\n",
              "      <th>EDAD_P</th>\n",
              "      <td>525.329858</td>\n",
              "      <td>14.519631</td>\n",
              "    </tr>\n",
              "    <tr>\n",
              "      <th>EDAD_M</th>\n",
              "      <td>14.519631</td>\n",
              "      <td>47.314459</td>\n",
              "    </tr>\n",
              "  </tbody>\n",
              "</table>\n",
              "</div>"
            ],
            "text/plain": [
              "            EDAD_P     EDAD_M\n",
              "EDAD_P  525.329858  14.519631\n",
              "EDAD_M   14.519631  47.314459"
            ]
          },
          "execution_count": 106,
          "metadata": {},
          "output_type": "execute_result"
        }
      ],
      "source": [
        "data_2008[['EDAD_P','EDAD_M']].cov()\n"
      ]
    },
    {
      "cell_type": "code",
      "execution_count": null,
      "metadata": {
        "id": "v8yup-mrMgP5",
        "outputId": "77eee919-39b6-41ef-9eb0-cbd06f0f9606"
      },
      "outputs": [
        {
          "data": {
            "text/html": [
              "<div>\n",
              "<style scoped>\n",
              "    .dataframe tbody tr th:only-of-type {\n",
              "        vertical-align: middle;\n",
              "    }\n",
              "\n",
              "    .dataframe tbody tr th {\n",
              "        vertical-align: top;\n",
              "    }\n",
              "\n",
              "    .dataframe thead th {\n",
              "        text-align: right;\n",
              "    }\n",
              "</style>\n",
              "<table border=\"1\" class=\"dataframe\">\n",
              "  <thead>\n",
              "    <tr style=\"text-align: right;\">\n",
              "      <th></th>\n",
              "      <th>EDAD_P</th>\n",
              "      <th>EDAD_M</th>\n",
              "    </tr>\n",
              "  </thead>\n",
              "  <tbody>\n",
              "    <tr>\n",
              "      <th>EDAD_P</th>\n",
              "      <td>527.470674</td>\n",
              "      <td>15.107356</td>\n",
              "    </tr>\n",
              "    <tr>\n",
              "      <th>EDAD_M</th>\n",
              "      <td>15.107356</td>\n",
              "      <td>47.835074</td>\n",
              "    </tr>\n",
              "  </tbody>\n",
              "</table>\n",
              "</div>"
            ],
            "text/plain": [
              "            EDAD_P     EDAD_M\n",
              "EDAD_P  527.470674  15.107356\n",
              "EDAD_M   15.107356  47.835074"
            ]
          },
          "execution_count": 107,
          "metadata": {},
          "output_type": "execute_result"
        }
      ],
      "source": [
        "data_2009[['EDAD_P','EDAD_M']].cov()\n"
      ]
    },
    {
      "cell_type": "code",
      "execution_count": null,
      "metadata": {
        "id": "rE7a8CnkMgP5",
        "outputId": "d566e659-0c87-426b-d2c9-fb70cb0748e4"
      },
      "outputs": [
        {
          "data": {
            "text/html": [
              "<div>\n",
              "<style scoped>\n",
              "    .dataframe tbody tr th:only-of-type {\n",
              "        vertical-align: middle;\n",
              "    }\n",
              "\n",
              "    .dataframe tbody tr th {\n",
              "        vertical-align: top;\n",
              "    }\n",
              "\n",
              "    .dataframe thead th {\n",
              "        text-align: right;\n",
              "    }\n",
              "</style>\n",
              "<table border=\"1\" class=\"dataframe\">\n",
              "  <thead>\n",
              "    <tr style=\"text-align: right;\">\n",
              "      <th></th>\n",
              "      <th>EDAD_P</th>\n",
              "      <th>EDAD_M</th>\n",
              "    </tr>\n",
              "  </thead>\n",
              "  <tbody>\n",
              "    <tr>\n",
              "      <th>EDAD_P</th>\n",
              "      <td>522.162205</td>\n",
              "      <td>15.270721</td>\n",
              "    </tr>\n",
              "    <tr>\n",
              "      <th>EDAD_M</th>\n",
              "      <td>15.270721</td>\n",
              "      <td>47.460879</td>\n",
              "    </tr>\n",
              "  </tbody>\n",
              "</table>\n",
              "</div>"
            ],
            "text/plain": [
              "            EDAD_P     EDAD_M\n",
              "EDAD_P  522.162205  15.270721\n",
              "EDAD_M   15.270721  47.460879"
            ]
          },
          "execution_count": 109,
          "metadata": {},
          "output_type": "execute_result"
        }
      ],
      "source": [
        "data_2010[['EDAD_P','EDAD_M']].cov()"
      ]
    },
    {
      "cell_type": "code",
      "execution_count": null,
      "metadata": {
        "id": "BrdtqcraMgP5",
        "outputId": "0642090c-dac7-4edc-fa67-b790abed7962"
      },
      "outputs": [
        {
          "data": {
            "text/html": [
              "<div>\n",
              "<style scoped>\n",
              "    .dataframe tbody tr th:only-of-type {\n",
              "        vertical-align: middle;\n",
              "    }\n",
              "\n",
              "    .dataframe tbody tr th {\n",
              "        vertical-align: top;\n",
              "    }\n",
              "\n",
              "    .dataframe thead th {\n",
              "        text-align: right;\n",
              "    }\n",
              "</style>\n",
              "<table border=\"1\" class=\"dataframe\">\n",
              "  <thead>\n",
              "    <tr style=\"text-align: right;\">\n",
              "      <th></th>\n",
              "      <th>EDAD_P</th>\n",
              "      <th>EDAD_M</th>\n",
              "    </tr>\n",
              "  </thead>\n",
              "  <tbody>\n",
              "    <tr>\n",
              "      <th>EDAD_P</th>\n",
              "      <td>501.743609</td>\n",
              "      <td>17.203417</td>\n",
              "    </tr>\n",
              "    <tr>\n",
              "      <th>EDAD_M</th>\n",
              "      <td>17.203417</td>\n",
              "      <td>47.309110</td>\n",
              "    </tr>\n",
              "  </tbody>\n",
              "</table>\n",
              "</div>"
            ],
            "text/plain": [
              "            EDAD_P     EDAD_M\n",
              "EDAD_P  501.743609  17.203417\n",
              "EDAD_M   17.203417  47.309110"
            ]
          },
          "execution_count": 110,
          "metadata": {},
          "output_type": "execute_result"
        }
      ],
      "source": [
        "data_2011[['EDAD_P','EDAD_M']].cov()\n"
      ]
    },
    {
      "cell_type": "code",
      "execution_count": null,
      "metadata": {
        "id": "HPJB7b8LMgP5",
        "outputId": "a7879be2-2b02-4496-8f72-ce2c4d3dec54"
      },
      "outputs": [
        {
          "data": {
            "text/html": [
              "<div>\n",
              "<style scoped>\n",
              "    .dataframe tbody tr th:only-of-type {\n",
              "        vertical-align: middle;\n",
              "    }\n",
              "\n",
              "    .dataframe tbody tr th {\n",
              "        vertical-align: top;\n",
              "    }\n",
              "\n",
              "    .dataframe thead th {\n",
              "        text-align: right;\n",
              "    }\n",
              "</style>\n",
              "<table border=\"1\" class=\"dataframe\">\n",
              "  <thead>\n",
              "    <tr style=\"text-align: right;\">\n",
              "      <th></th>\n",
              "      <th>EDAD_P</th>\n",
              "      <th>EDAD_M</th>\n",
              "    </tr>\n",
              "  </thead>\n",
              "  <tbody>\n",
              "    <tr>\n",
              "      <th>EDAD_P</th>\n",
              "      <td>484.862067</td>\n",
              "      <td>17.785136</td>\n",
              "    </tr>\n",
              "    <tr>\n",
              "      <th>EDAD_M</th>\n",
              "      <td>17.785136</td>\n",
              "      <td>46.362002</td>\n",
              "    </tr>\n",
              "  </tbody>\n",
              "</table>\n",
              "</div>"
            ],
            "text/plain": [
              "            EDAD_P     EDAD_M\n",
              "EDAD_P  484.862067  17.785136\n",
              "EDAD_M   17.785136  46.362002"
            ]
          },
          "execution_count": 111,
          "metadata": {},
          "output_type": "execute_result"
        }
      ],
      "source": [
        "data_2012[['EDAD_P','EDAD_M']].cov()\n"
      ]
    },
    {
      "cell_type": "code",
      "execution_count": null,
      "metadata": {
        "id": "33_hqDGQMgP5",
        "outputId": "8a3816f6-ed44-46ee-bfd4-3b0926b417d0"
      },
      "outputs": [
        {
          "data": {
            "text/html": [
              "<div>\n",
              "<style scoped>\n",
              "    .dataframe tbody tr th:only-of-type {\n",
              "        vertical-align: middle;\n",
              "    }\n",
              "\n",
              "    .dataframe tbody tr th {\n",
              "        vertical-align: top;\n",
              "    }\n",
              "\n",
              "    .dataframe thead th {\n",
              "        text-align: right;\n",
              "    }\n",
              "</style>\n",
              "<table border=\"1\" class=\"dataframe\">\n",
              "  <thead>\n",
              "    <tr style=\"text-align: right;\">\n",
              "      <th></th>\n",
              "      <th>EDAD_P</th>\n",
              "      <th>EDAD_M</th>\n",
              "    </tr>\n",
              "  </thead>\n",
              "  <tbody>\n",
              "    <tr>\n",
              "      <th>EDAD_P</th>\n",
              "      <td>139.594799</td>\n",
              "      <td>42.548848</td>\n",
              "    </tr>\n",
              "    <tr>\n",
              "      <th>EDAD_M</th>\n",
              "      <td>42.548848</td>\n",
              "      <td>46.054538</td>\n",
              "    </tr>\n",
              "  </tbody>\n",
              "</table>\n",
              "</div>"
            ],
            "text/plain": [
              "            EDAD_P     EDAD_M\n",
              "EDAD_P  139.594799  42.548848\n",
              "EDAD_M   42.548848  46.054538"
            ]
          },
          "execution_count": 113,
          "metadata": {},
          "output_type": "execute_result"
        }
      ],
      "source": [
        "data_2013[['EDAD_P','EDAD_M']].cov()\n"
      ]
    },
    {
      "cell_type": "code",
      "execution_count": null,
      "metadata": {
        "id": "jnsbGJmdMgP5",
        "outputId": "34820f83-2cf1-4e27-9a76-545d0af9855d"
      },
      "outputs": [
        {
          "data": {
            "text/html": [
              "<div>\n",
              "<style scoped>\n",
              "    .dataframe tbody tr th:only-of-type {\n",
              "        vertical-align: middle;\n",
              "    }\n",
              "\n",
              "    .dataframe tbody tr th {\n",
              "        vertical-align: top;\n",
              "    }\n",
              "\n",
              "    .dataframe thead th {\n",
              "        text-align: right;\n",
              "    }\n",
              "</style>\n",
              "<table border=\"1\" class=\"dataframe\">\n",
              "  <thead>\n",
              "    <tr style=\"text-align: right;\">\n",
              "      <th></th>\n",
              "      <th>EDAD_P</th>\n",
              "      <th>EDAD_M</th>\n",
              "    </tr>\n",
              "  </thead>\n",
              "  <tbody>\n",
              "    <tr>\n",
              "      <th>EDAD_P</th>\n",
              "      <td>449.797824</td>\n",
              "      <td>18.379954</td>\n",
              "    </tr>\n",
              "    <tr>\n",
              "      <th>EDAD_M</th>\n",
              "      <td>18.379954</td>\n",
              "      <td>45.016727</td>\n",
              "    </tr>\n",
              "  </tbody>\n",
              "</table>\n",
              "</div>"
            ],
            "text/plain": [
              "            EDAD_P     EDAD_M\n",
              "EDAD_P  449.797824  18.379954\n",
              "EDAD_M   18.379954  45.016727"
            ]
          },
          "execution_count": 114,
          "metadata": {},
          "output_type": "execute_result"
        }
      ],
      "source": [
        "data_2014[['EDAD_P','EDAD_M']].cov()\n"
      ]
    },
    {
      "cell_type": "code",
      "execution_count": null,
      "metadata": {
        "id": "tQaTMfHRMgP6",
        "outputId": "54d65e9e-3707-4764-c79d-76e9c3902688"
      },
      "outputs": [
        {
          "data": {
            "text/html": [
              "<div>\n",
              "<style scoped>\n",
              "    .dataframe tbody tr th:only-of-type {\n",
              "        vertical-align: middle;\n",
              "    }\n",
              "\n",
              "    .dataframe tbody tr th {\n",
              "        vertical-align: top;\n",
              "    }\n",
              "\n",
              "    .dataframe thead th {\n",
              "        text-align: right;\n",
              "    }\n",
              "</style>\n",
              "<table border=\"1\" class=\"dataframe\">\n",
              "  <thead>\n",
              "    <tr style=\"text-align: right;\">\n",
              "      <th></th>\n",
              "      <th>EDAD_P</th>\n",
              "      <th>EDAD_M</th>\n",
              "    </tr>\n",
              "  </thead>\n",
              "  <tbody>\n",
              "    <tr>\n",
              "      <th>EDAD_P</th>\n",
              "      <td>439.202244</td>\n",
              "      <td>18.615096</td>\n",
              "    </tr>\n",
              "    <tr>\n",
              "      <th>EDAD_M</th>\n",
              "      <td>18.615096</td>\n",
              "      <td>44.383152</td>\n",
              "    </tr>\n",
              "  </tbody>\n",
              "</table>\n",
              "</div>"
            ],
            "text/plain": [
              "            EDAD_P     EDAD_M\n",
              "EDAD_P  439.202244  18.615096\n",
              "EDAD_M   18.615096  44.383152"
            ]
          },
          "execution_count": 115,
          "metadata": {},
          "output_type": "execute_result"
        }
      ],
      "source": [
        "data_2015[['EDAD_P','EDAD_M']].cov()\n"
      ]
    },
    {
      "cell_type": "code",
      "execution_count": null,
      "metadata": {
        "id": "b5hgDUcLMgP6",
        "outputId": "7257d6c6-7be7-4421-f34b-0ea6d2258c3e"
      },
      "outputs": [
        {
          "data": {
            "text/html": [
              "<div>\n",
              "<style scoped>\n",
              "    .dataframe tbody tr th:only-of-type {\n",
              "        vertical-align: middle;\n",
              "    }\n",
              "\n",
              "    .dataframe tbody tr th {\n",
              "        vertical-align: top;\n",
              "    }\n",
              "\n",
              "    .dataframe thead th {\n",
              "        text-align: right;\n",
              "    }\n",
              "</style>\n",
              "<table border=\"1\" class=\"dataframe\">\n",
              "  <thead>\n",
              "    <tr style=\"text-align: right;\">\n",
              "      <th></th>\n",
              "      <th>EDAD_P</th>\n",
              "      <th>EDAD_M</th>\n",
              "    </tr>\n",
              "  </thead>\n",
              "  <tbody>\n",
              "    <tr>\n",
              "      <th>EDAD_P</th>\n",
              "      <td>417.434702</td>\n",
              "      <td>18.191721</td>\n",
              "    </tr>\n",
              "    <tr>\n",
              "      <th>EDAD_M</th>\n",
              "      <td>18.191721</td>\n",
              "      <td>42.982503</td>\n",
              "    </tr>\n",
              "  </tbody>\n",
              "</table>\n",
              "</div>"
            ],
            "text/plain": [
              "            EDAD_P     EDAD_M\n",
              "EDAD_P  417.434702  18.191721\n",
              "EDAD_M   18.191721  42.982503"
            ]
          },
          "execution_count": 116,
          "metadata": {},
          "output_type": "execute_result"
        }
      ],
      "source": [
        "data_2016[['EDAD_P','EDAD_M']].cov()\n"
      ]
    },
    {
      "cell_type": "code",
      "execution_count": null,
      "metadata": {
        "id": "Y7gt7rSnMgP6",
        "outputId": "9a91f486-a87f-410c-8412-3836a8d5c0ce"
      },
      "outputs": [
        {
          "data": {
            "text/html": [
              "<div>\n",
              "<style scoped>\n",
              "    .dataframe tbody tr th:only-of-type {\n",
              "        vertical-align: middle;\n",
              "    }\n",
              "\n",
              "    .dataframe tbody tr th {\n",
              "        vertical-align: top;\n",
              "    }\n",
              "\n",
              "    .dataframe thead th {\n",
              "        text-align: right;\n",
              "    }\n",
              "</style>\n",
              "<table border=\"1\" class=\"dataframe\">\n",
              "  <thead>\n",
              "    <tr style=\"text-align: right;\">\n",
              "      <th></th>\n",
              "      <th>EDAD_P</th>\n",
              "      <th>EDAD_M</th>\n",
              "    </tr>\n",
              "  </thead>\n",
              "  <tbody>\n",
              "    <tr>\n",
              "      <th>EDAD_P</th>\n",
              "      <td>413.811725</td>\n",
              "      <td>18.096970</td>\n",
              "    </tr>\n",
              "    <tr>\n",
              "      <th>EDAD_M</th>\n",
              "      <td>18.096970</td>\n",
              "      <td>45.415079</td>\n",
              "    </tr>\n",
              "  </tbody>\n",
              "</table>\n",
              "</div>"
            ],
            "text/plain": [
              "            EDAD_P     EDAD_M\n",
              "EDAD_P  413.811725  18.096970\n",
              "EDAD_M   18.096970  45.415079"
            ]
          },
          "execution_count": 117,
          "metadata": {},
          "output_type": "execute_result"
        }
      ],
      "source": [
        "data_2017[['EDAD_P','EDAD_M']].cov()\n"
      ]
    },
    {
      "cell_type": "markdown",
      "metadata": {
        "id": "P88YULWKMgP6"
      },
      "source": [
        "##### Con respecto a la covariana, se puede señalar que a excepción del año 2013 el resto estan bajo la covarianza con la base completa (19)."
      ]
    },
    {
      "cell_type": "markdown",
      "metadata": {
        "id": "f7p7LWIPMgP6"
      },
      "source": [
        "------------------------------------------------------------------------------------------------------"
      ]
    },
    {
      "cell_type": "markdown",
      "metadata": {
        "id": "D0P1m88nMgP6"
      },
      "source": [
        "##### 6. Investigue las condiciones para que un bebé cuando nazca se considere “prematuro”, “a término” y “postérmino”. Hacer diagramas de caja para el peso y la talla para estas 3 categorías. Comentar al respecto."
      ]
    },
    {
      "cell_type": "markdown",
      "metadata": {
        "id": "U3m_r_RsMgP6"
      },
      "source": [
        "##### Para responder a este requerimiento se requiere investigar, para ello, usamos como fuente el siguiente sitio\n",
        "##### web, que contiene información de sitios de salud internacionales.\n",
        "##### Se define que bajo 38 semanas es un bebé prematuro, entre 38 a 42 a término, y sobre ello, postérmino.\n",
        "##### https://nacersano.marchofdimes.org/parto-y-nacimiento/que-es-un-embarazo-a-termino-completo.aspx#:~:text=Término%20temprano%3A%20Su%20bebé%20nace,las%2042%20semanas%2C%200%20días."
      ]
    },
    {
      "cell_type": "markdown",
      "metadata": {
        "id": "pvng86jJMgP6"
      },
      "source": [
        "##### Como primera instancia se genera una función para diferenciar los tramos de semanas de acuerdo al tipo, posteriorente, se crea la nueva columna, que se utiliza para la visualización en diagrama de caja.\n"
      ]
    },
    {
      "cell_type": "code",
      "execution_count": null,
      "metadata": {
        "id": "5wtcl6OmMgP7"
      },
      "outputs": [],
      "source": [
        "def condicion(semana):\n",
        "    semana = int(semana.SEMANAS)\n",
        "    if semana < 38:\n",
        "        return 'prematuro'\n",
        "    elif semana <= 42:\n",
        "        return 'a_término'\n",
        "    else:\n",
        "        return 'postérmino'\n",
        "data[\"condi_nac\"] = data.apply(condicion, axis=1)"
      ]
    },
    {
      "cell_type": "code",
      "execution_count": null,
      "metadata": {
        "scrolled": true,
        "id": "aqcJP_INMgP7",
        "outputId": "db1e5da8-3bcc-4fa9-9e94-05eb93a9c349"
      },
      "outputs": [
        {
          "data": {
            "text/plain": [
              "<matplotlib.axes._subplots.AxesSubplot at 0x21100385f40>"
            ]
          },
          "execution_count": 72,
          "metadata": {},
          "output_type": "execute_result"
        },
        {
          "data": {
            "image/png": "[encoded data removed]",
            "text/plain": [
              "<Figure size 432x288 with 1 Axes>"
            ]
          },
          "metadata": {
            "needs_background": "light"
          },
          "output_type": "display_data"
        }
      ],
      "source": [
        "sns.boxplot(x=\"condi_nac\", y=\"PESO\",data= data)\n"
      ]
    },
    {
      "cell_type": "code",
      "execution_count": null,
      "metadata": {
        "scrolled": true,
        "id": "7uhKCLP7MgP7",
        "outputId": "0aa9b34b-a2c8-45f2-e27c-5f159e799c03"
      },
      "outputs": [
        {
          "data": {
            "text/plain": [
              "<matplotlib.axes._subplots.AxesSubplot at 0x211002bda60>"
            ]
          },
          "execution_count": 73,
          "metadata": {},
          "output_type": "execute_result"
        },
        {
          "data": {
            "image/png": "[encoded data removed]",
            "text/plain": [
              "<Figure size 432x288 with 1 Axes>"
            ]
          },
          "metadata": {
            "needs_background": "light"
          },
          "output_type": "display_data"
        }
      ],
      "source": [
        "sns.boxplot(x=\"condi_nac\", y=\"TALLA\",data= data)"
      ]
    },
    {
      "cell_type": "markdown",
      "metadata": {
        "id": "6tF4gixzMgP7"
      },
      "source": [
        "##### Se puede apreciar que tanto para talla como para peso, que la media de los prematuros es menor. Así mismo, en todas las categorías de nacimientos se observan valores atípicos. Ahora bien, se puede observar que la condición de nacimiento incide en el peso, dado a que sus valores son menores que los de término, en lo respectivo a talla no es tan concluyente lo que se puede pbtener de los datos, aunque lo de término presenten una media mayor.\n",
        "\n",
        "#####  En lo respectivo a la categoría postérmino, esto esta condicionado por los valores 99 (que cómo se señalo previamente se decidió no eliminar con drop(), dado a que son parte de la documentación que se puede encontrar en la web)"
      ]
    },
    {
      "cell_type": "markdown",
      "metadata": {
        "id": "2VbxG3HzMgP7"
      },
      "source": [
        "##### Mediante una graupación de categorías, se puede observar que los bebés en término tienen un promedio mayor en talla y peso con respecto a los prematuros."
      ]
    },
    {
      "cell_type": "code",
      "execution_count": null,
      "metadata": {
        "id": "2b-RLZYYMgP7",
        "outputId": "848e640e-40fc-4a7c-cb8f-c3457f856fb2"
      },
      "outputs": [
        {
          "data": {
            "text/html": [
              "<div>\n",
              "<style scoped>\n",
              "    .dataframe tbody tr th:only-of-type {\n",
              "        vertical-align: middle;\n",
              "    }\n",
              "\n",
              "    .dataframe tbody tr th {\n",
              "        vertical-align: top;\n",
              "    }\n",
              "\n",
              "    .dataframe thead th {\n",
              "        text-align: right;\n",
              "    }\n",
              "</style>\n",
              "<table border=\"1\" class=\"dataframe\">\n",
              "  <thead>\n",
              "    <tr style=\"text-align: right;\">\n",
              "      <th></th>\n",
              "      <th>PESO</th>\n",
              "      <th>TALLA</th>\n",
              "    </tr>\n",
              "    <tr>\n",
              "      <th>condi_nac</th>\n",
              "      <th></th>\n",
              "      <th></th>\n",
              "    </tr>\n",
              "  </thead>\n",
              "  <tbody>\n",
              "    <tr>\n",
              "      <th>a_término</th>\n",
              "      <td>3439.610807</td>\n",
              "      <td>49.830134</td>\n",
              "    </tr>\n",
              "    <tr>\n",
              "      <th>postérmino</th>\n",
              "      <td>8620.506432</td>\n",
              "      <td>87.527809</td>\n",
              "    </tr>\n",
              "    <tr>\n",
              "      <th>prematuro</th>\n",
              "      <td>2671.892183</td>\n",
              "      <td>46.454546</td>\n",
              "    </tr>\n",
              "  </tbody>\n",
              "</table>\n",
              "</div>"
            ],
            "text/plain": [
              "                   PESO      TALLA\n",
              "condi_nac                         \n",
              "a_término   3439.610807  49.830134\n",
              "postérmino  8620.506432  87.527809\n",
              "prematuro   2671.892183  46.454546"
            ]
          },
          "execution_count": 79,
          "metadata": {},
          "output_type": "execute_result"
        }
      ],
      "source": [
        "data.pivot_table(values = ['TALLA','PESO'], index = 'condi_nac',aggfunc = 'mean' )"
      ]
    },
    {
      "cell_type": "code",
      "execution_count": null,
      "metadata": {
        "id": "FdhEiWdTMgP7",
        "outputId": "69bae002-1fdd-4b01-c4f5-22282033399f"
      },
      "outputs": [
        {
          "data": {
            "image/png": "[encoded data removed]",
            "text/plain": [
              "<Figure size 360x360 with 6 Axes>"
            ]
          },
          "metadata": {
            "needs_background": "light"
          },
          "output_type": "display_data"
        }
      ],
      "source": [
        "sns.pairplot(data = data, vars=['condi_nac','TALLA'])\n",
        "plt.show()"
      ]
    },
    {
      "cell_type": "code",
      "execution_count": null,
      "metadata": {
        "scrolled": true,
        "id": "tVTkeLyBMgP7",
        "outputId": "1acf2601-a2f0-4387-d48e-d46e4dc287b6"
      },
      "outputs": [
        {
          "data": {
            "image/png": "[encoded data removed]",
            "text/plain": [
              "<Figure size 360x360 with 6 Axes>"
            ]
          },
          "metadata": {
            "needs_background": "light"
          },
          "output_type": "display_data"
        }
      ],
      "source": [
        "sns.pairplot(data = data, vars=['condi_nac','PESO'])\n",
        "plt.show()"
      ]
    },
    {
      "cell_type": "markdown",
      "metadata": {
        "id": "Nk5pvsugMgP7"
      },
      "source": [
        "##### 7. Crear una columna llamada “indicador”que valga “1”si el bebé nació en una ambulancia y que valga “2”si el bebé nació en el trayecto(para los datos desde 1996). Caracterice los datos atípicos (outliers) usando el IQR y el primer y tercer cuartil para  cada una  de estas variables peso, talla, edad del padre y madre, en cada caso con indicador 1 o 2. Comentar al respecto."
      ]
    },
    {
      "cell_type": "code",
      "execution_count": null,
      "metadata": {
        "id": "yJO10hYNMgP7"
      },
      "outputs": [],
      "source": [
        "data[\"indicador\"] =0"
      ]
    },
    {
      "cell_type": "code",
      "execution_count": null,
      "metadata": {
        "id": "EAYISAIYMgP8"
      },
      "outputs": [],
      "source": [
        "data['indicador']=np.where(data.ESTAB.str.contains(\"Trayecto\"),'Trayecto', data['ESTAB'])\n",
        "data['indicador']=np.where(data.ESTAB.str.contains(\"TRAYECTO\"),'Trayecto', data['ESTAB'])\n",
        "data['ESTAB']=np.where(data.ESTAB.str.contains(\"Ambulancia\"),'Ambulancia', data['ESTAB'])\n",
        "data['ESTAB']=np.where(data.ESTAB.str.contains(\"AMBULANCIA\"),'Ambulancia', data['ESTAB'])"
      ]
    },
    {
      "cell_type": "markdown",
      "metadata": {
        "id": "TA0gaE2NMgP8"
      },
      "source": [
        "---------------------------------------------------------------------------------------------------------"
      ]
    },
    {
      "cell_type": "markdown",
      "metadata": {
        "id": "UnCHNXguMgP8"
      },
      "source": [
        "##### 8.Hacer un diagrama de distribución por tipo de establecimiento donde nacen los bebés desde 1996. Notar que los distintos hospitales deben agruparse en una sola categoría (lo mismo corre para las otras categorías).Comentar al respecto."
      ]
    },
    {
      "cell_type": "markdown",
      "metadata": {
        "id": "VgohN3jEMgP8"
      },
      "source": [
        "##### Para comenzar se hace una observación a los registros que se encuentran en el campo de establecimiento, posteriormente, se van agrupando en categorías."
      ]
    },
    {
      "cell_type": "code",
      "execution_count": null,
      "metadata": {
        "id": "UVdrykhcMgP8",
        "outputId": "f3aeccc2-a31c-40dc-f2f5-26e59075da3a"
      },
      "outputs": [
        {
          "data": {
            "text/plain": [
              "HOSPITAL SAN JOSE                                68136\n",
              "Clínica Dávila                                   66925\n",
              "Hospital Santiago Oriente                        61101\n",
              "HOSPITAL SAN JUAN DE DIOS                        52325\n",
              "CLINICA ALEMANA                                  47798\n",
              "                                                 ...  \n",
              "CONDOM. SANTA CRUZ DE LORETO - PAR.3 // CALER        1\n",
              "JOSE IGNACIO VALDES S/N VILLA DELFIN NIEBLA          1\n",
              "MARCO POLO 1090  DPTO 209 COMUNA LAS CONDES          1\n",
              "CLINICA ADVENTISTA  LOS ANGELES                      1\n",
              "PASAJE COLOSO  6753                                  1\n",
              "Name: ESTAB, Length: 3734, dtype: int64"
            ]
          },
          "execution_count": 147,
          "metadata": {},
          "output_type": "execute_result"
        }
      ],
      "source": [
        "data['ESTAB'].value_counts()"
      ]
    },
    {
      "cell_type": "code",
      "execution_count": null,
      "metadata": {
        "id": "jwWfAoXKMgP8"
      },
      "outputs": [],
      "source": [
        "data['ESTAB']=np.where(data.ESTAB.str.contains(\"Hospital\"),'Hospital', data['ESTAB'])\n",
        "data['ESTAB']=np.where(data.ESTAB.str.contains(\"HOSPITAL\"),'Hospital', data['ESTAB'])\n",
        "data['ESTAB']=np.where(data.ESTAB.str.contains(\"HOSP.\"),'Clínica', data['ESTAB'])\n",
        "data['ESTAB']=np.where(data.ESTAB.str.contains(\"SANATORIO\"),'Clínica', data['ESTAB'])\n",
        "data['ESTAB']=np.where(data.ESTAB.str.contains(\"Clínica\"),'Clínica', data['ESTAB'])\n",
        "data['ESTAB']=np.where(data.ESTAB.str.contains(\"CLINICA\"),'Clínica', data['ESTAB'])\n",
        "data['ESTAB']=np.where(data.ESTAB.str.contains(\"Clinica\"),'Clínica', data['ESTAB'])\n",
        "data['ESTAB']=np.where(data.ESTAB.str.contains(\"SAPU\"),'Centro Salud', data['ESTAB'])\n",
        "data['ESTAB']=np.where(data.ESTAB.str.contains(\"Dr.\"),'Otros', data['ESTAB'])\n",
        "data['ESTAB']=np.where(data.ESTAB.str.contains(\"Dr\"),'Otros', data['ESTAB'])\n",
        "data['ESTAB']=np.where(data.ESTAB.str.contains(\"PARTOS EN DOMICILIO  \"),'Domicilio', data['ESTAB'])\n",
        "data['ESTAB']=np.where(data.ESTAB.str.contains(\"Sin especificar\"),'Otros', data['ESTAB'])"
      ]
    },
    {
      "cell_type": "code",
      "execution_count": null,
      "metadata": {
        "scrolled": false,
        "id": "eBRIpbN-MgP8",
        "outputId": "f2e16b99-e14d-47a7-8726-72a28a4ff4e1"
      },
      "outputs": [
        {
          "data": {
            "text/plain": [
              "Hospital                                         1621550\n",
              "Clínica                                           783237\n",
              "Otros                                              16613\n",
              "PARTOS EN DOMICILIO                                 1259\n",
              "Hospit. Santa Elisa de la Mariquina                  614\n",
              "                                                  ...   \n",
              "CAMINO EL TORO KM 9 P/A 36 LOS MAITENES DOS            1\n",
              "LOS BOLDOS S/N VILLA AMANECER CARAMPANGUE              1\n",
              "Consultorio Rural Maria Pinto                          1\n",
              "21 DE MAYO 319 POBL. OHIGGINS                          1\n",
              "PASAJE COLOSO  6753                                    1\n",
              "Name: ESTAB, Length: 1961, dtype: int64"
            ]
          },
          "execution_count": 180,
          "metadata": {},
          "output_type": "execute_result"
        }
      ],
      "source": [
        "data['ESTAB'].value_counts()"
      ]
    },
    {
      "cell_type": "code",
      "execution_count": null,
      "metadata": {
        "id": "HieJ4ifYMgP8",
        "outputId": "6ee5fa7c-ab4d-4b8f-b692-6716bf11b5fd"
      },
      "outputs": [
        {
          "data": {
            "text/plain": [
              "<matplotlib.axes._subplots.AxesSubplot at 0x21194369f70>"
            ]
          },
          "execution_count": 182,
          "metadata": {},
          "output_type": "execute_result"
        },
        {
          "data": {
            "image/png": "[encoded data removed]",
            "text/plain": [
              "<Figure size 432x288 with 1 Axes>"
            ]
          },
          "metadata": {
            "needs_background": "light"
          },
          "output_type": "display_data"
        }
      ],
      "source": [
        "data['ESTAB'].value_counts().plot(kind='hist')"
      ]
    },
    {
      "cell_type": "markdown",
      "metadata": {
        "id": "I58ZWEeZMgP8"
      },
      "source": [
        "##### De los datos se puede señalar que un alto porcentaje, un 66%, nace en una instalación considerada dentro de la categoría Hospital, le sigue Clínica con un 32%, lo que abarca casi un 98% de los datos de nacimientos"
      ]
    },
    {
      "cell_type": "markdown",
      "metadata": {
        "id": "drmypnqvMgP8"
      },
      "source": [
        "----------------------------------------------------------------------------------------------"
      ]
    },
    {
      "cell_type": "markdown",
      "metadata": {
        "id": "B9ayejmbMgP9"
      },
      "source": [
        "##### 9.Suponer que los datos de nacimiento (variables continuas) provienen de una distribución normal (desde 1990). Un intervalo de confianza, al 95% de confianza, asumiendo distribución normal,se calcula   como   [promedio-1.96𝑑𝑒𝑠𝑣𝑖𝑎𝑐𝑖ó𝑛𝑒𝑠𝑡á𝑛𝑑𝑎𝑟√𝑛, promedio+1.96 𝑑𝑒𝑠𝑣𝑖𝑎𝑐𝑖ó𝑛𝑒𝑠𝑡á𝑛𝑑𝑎𝑟√𝑛],   donde 𝑛 indica el número de datos de la muestra. Calcular intervalos de confianza para la talla y el pesode los  bebés  nacidos  en  Chile. Adicionalmente,  calcularel intervalo  [𝑄1-1.5IQR,𝑄3+1.5IQR]para ambas variables talla y peso. Comparar ambos intervalos y comentar."
      ]
    },
    {
      "cell_type": "markdown",
      "metadata": {
        "id": "6zW2hQiTMgP9"
      },
      "source": [
        "-----------------------------------------------------------------------------------------------"
      ]
    },
    {
      "cell_type": "markdown",
      "metadata": {
        "id": "T-Z7iPTWMgP9"
      },
      "source": [
        "##### 10. Comentar las características de los bebés nacidos cuando la madre tiene más de 40 años. Hacer lo mismo para cuando la madre tiene menos de 18 años."
      ]
    },
    {
      "cell_type": "markdown",
      "metadata": {
        "id": "HE-si2DcMgP9"
      },
      "source": [
        "###### Para comenzar se deben generar filtros adecuados que permitan identificar las diferencias que pudiesen existir entre las madres menores de 18 y las madres mayores de 40.\n",
        "\n",
        "##### Con respecto a las menores de 18, se observan 136.677 nacimientos con madres que manifestaban tal condición, con un promedio de semanas de embarazo de 38.6, y las guaguas alcanzan un peso medio de 3.254 kg y 49,24 cm de talla promedio.\n",
        "\n",
        "#####  A su vez, hay 60.439 embarazos con mamás con edad de más de 40 años, los cuales tienen en promedio 38,45 semanas de embarazo y las guaguas alcanzan un peso medio de 3.299 kg -ligeramente mayor que las menores de 18- y 49,29 cm de talla promedio."
      ]
    },
    {
      "cell_type": "code",
      "execution_count": null,
      "metadata": {
        "id": "kM_dLyU6MgP9"
      },
      "outputs": [],
      "source": [
        "data_edad_menos18 = data[data['EDAD_M'] < 18]"
      ]
    },
    {
      "cell_type": "code",
      "execution_count": null,
      "metadata": {
        "id": "triJL37nMgP9",
        "outputId": "960d24dc-d2ba-4279-9f2c-b461ccd5f1c2"
      },
      "outputs": [
        {
          "data": {
            "text/html": [
              "<div>\n",
              "<style scoped>\n",
              "    .dataframe tbody tr th:only-of-type {\n",
              "        vertical-align: middle;\n",
              "    }\n",
              "\n",
              "    .dataframe tbody tr th {\n",
              "        vertical-align: top;\n",
              "    }\n",
              "\n",
              "    .dataframe thead th {\n",
              "        text-align: right;\n",
              "    }\n",
              "</style>\n",
              "<table border=\"1\" class=\"dataframe\">\n",
              "  <thead>\n",
              "    <tr style=\"text-align: right;\">\n",
              "      <th></th>\n",
              "      <th>SEXO</th>\n",
              "      <th>DIA_NAC</th>\n",
              "      <th>MES_NAC</th>\n",
              "      <th>ANO_NAC</th>\n",
              "      <th>TIPO_PARTO</th>\n",
              "      <th>ATENC_PART</th>\n",
              "      <th>LOCAL_PART</th>\n",
              "      <th>SEMANAS</th>\n",
              "      <th>PESO</th>\n",
              "      <th>TALLA</th>\n",
              "      <th>...</th>\n",
              "      <th>CATEG_M</th>\n",
              "      <th>COMUNA</th>\n",
              "      <th>URBA_RURAL</th>\n",
              "      <th>HIJ_VIVOS</th>\n",
              "      <th>HIJ_FALL</th>\n",
              "      <th>HIJ_MORT</th>\n",
              "      <th>HIJ_TOTAL</th>\n",
              "      <th>REG_RES</th>\n",
              "      <th>SERV_RES</th>\n",
              "      <th>indicador</th>\n",
              "    </tr>\n",
              "  </thead>\n",
              "  <tbody>\n",
              "    <tr>\n",
              "      <th>count</th>\n",
              "      <td>136677.000000</td>\n",
              "      <td>136677.000000</td>\n",
              "      <td>136677.000000</td>\n",
              "      <td>136677.000000</td>\n",
              "      <td>136677.000000</td>\n",
              "      <td>136677.000000</td>\n",
              "      <td>136677.000000</td>\n",
              "      <td>136677.000000</td>\n",
              "      <td>136677.000000</td>\n",
              "      <td>136677.000000</td>\n",
              "      <td>...</td>\n",
              "      <td>136677.000000</td>\n",
              "      <td>136677.000000</td>\n",
              "      <td>136677.000000</td>\n",
              "      <td>136677.000000</td>\n",
              "      <td>136677.000000</td>\n",
              "      <td>136677.000000</td>\n",
              "      <td>136677.000000</td>\n",
              "      <td>136677.000000</td>\n",
              "      <td>136677.000000</td>\n",
              "      <td>136677.000000</td>\n",
              "    </tr>\n",
              "    <tr>\n",
              "      <th>mean</th>\n",
              "      <td>1.489300</td>\n",
              "      <td>15.680158</td>\n",
              "      <td>6.473050</td>\n",
              "      <td>2011.741405</td>\n",
              "      <td>1.018152</td>\n",
              "      <td>1.712761</td>\n",
              "      <td>1.009980</td>\n",
              "      <td>38.638791</td>\n",
              "      <td>3254.420458</td>\n",
              "      <td>49.243969</td>\n",
              "      <td>...</td>\n",
              "      <td>0.042516</td>\n",
              "      <td>9203.240421</td>\n",
              "      <td>1.113326</td>\n",
              "      <td>1.083050</td>\n",
              "      <td>0.038682</td>\n",
              "      <td>0.048509</td>\n",
              "      <td>1.066580</td>\n",
              "      <td>8.998368</td>\n",
              "      <td>13.160846</td>\n",
              "      <td>0.000000</td>\n",
              "    </tr>\n",
              "    <tr>\n",
              "      <th>std</th>\n",
              "      <td>0.503562</td>\n",
              "      <td>8.809573</td>\n",
              "      <td>3.405918</td>\n",
              "      <td>2.682061</td>\n",
              "      <td>0.278251</td>\n",
              "      <td>0.508152</td>\n",
              "      <td>0.230099</td>\n",
              "      <td>2.857407</td>\n",
              "      <td>578.564986</td>\n",
              "      <td>3.099348</td>\n",
              "      <td>...</td>\n",
              "      <td>0.557934</td>\n",
              "      <td>3901.735898</td>\n",
              "      <td>0.316992</td>\n",
              "      <td>1.810489</td>\n",
              "      <td>1.930948</td>\n",
              "      <td>1.933360</td>\n",
              "      <td>0.695790</td>\n",
              "      <td>3.912688</td>\n",
              "      <td>6.931818</td>\n",
              "      <td>0.000000</td>\n",
              "    </tr>\n",
              "    <tr>\n",
              "      <th>min</th>\n",
              "      <td>1.000000</td>\n",
              "      <td>1.000000</td>\n",
              "      <td>1.000000</td>\n",
              "      <td>2008.000000</td>\n",
              "      <td>1.000000</td>\n",
              "      <td>1.000000</td>\n",
              "      <td>1.000000</td>\n",
              "      <td>17.000000</td>\n",
              "      <td>200.000000</td>\n",
              "      <td>16.000000</td>\n",
              "      <td>...</td>\n",
              "      <td>0.000000</td>\n",
              "      <td>1101.000000</td>\n",
              "      <td>1.000000</td>\n",
              "      <td>1.000000</td>\n",
              "      <td>0.000000</td>\n",
              "      <td>0.000000</td>\n",
              "      <td>1.000000</td>\n",
              "      <td>1.000000</td>\n",
              "      <td>1.000000</td>\n",
              "      <td>0.000000</td>\n",
              "    </tr>\n",
              "    <tr>\n",
              "      <th>25%</th>\n",
              "      <td>1.000000</td>\n",
              "      <td>8.000000</td>\n",
              "      <td>4.000000</td>\n",
              "      <td>2009.000000</td>\n",
              "      <td>1.000000</td>\n",
              "      <td>1.000000</td>\n",
              "      <td>1.000000</td>\n",
              "      <td>38.000000</td>\n",
              "      <td>2990.000000</td>\n",
              "      <td>48.000000</td>\n",
              "      <td>...</td>\n",
              "      <td>0.000000</td>\n",
              "      <td>6101.000000</td>\n",
              "      <td>1.000000</td>\n",
              "      <td>1.000000</td>\n",
              "      <td>0.000000</td>\n",
              "      <td>0.000000</td>\n",
              "      <td>1.000000</td>\n",
              "      <td>6.000000</td>\n",
              "      <td>8.000000</td>\n",
              "      <td>0.000000</td>\n",
              "    </tr>\n",
              "    <tr>\n",
              "      <th>50%</th>\n",
              "      <td>1.000000</td>\n",
              "      <td>16.000000</td>\n",
              "      <td>7.000000</td>\n",
              "      <td>2011.000000</td>\n",
              "      <td>1.000000</td>\n",
              "      <td>2.000000</td>\n",
              "      <td>1.000000</td>\n",
              "      <td>39.000000</td>\n",
              "      <td>3290.000000</td>\n",
              "      <td>50.000000</td>\n",
              "      <td>...</td>\n",
              "      <td>0.000000</td>\n",
              "      <td>9109.000000</td>\n",
              "      <td>1.000000</td>\n",
              "      <td>1.000000</td>\n",
              "      <td>0.000000</td>\n",
              "      <td>0.000000</td>\n",
              "      <td>1.000000</td>\n",
              "      <td>9.000000</td>\n",
              "      <td>13.000000</td>\n",
              "      <td>0.000000</td>\n",
              "    </tr>\n",
              "    <tr>\n",
              "      <th>75%</th>\n",
              "      <td>2.000000</td>\n",
              "      <td>23.000000</td>\n",
              "      <td>9.000000</td>\n",
              "      <td>2014.000000</td>\n",
              "      <td>1.000000</td>\n",
              "      <td>2.000000</td>\n",
              "      <td>1.000000</td>\n",
              "      <td>40.000000</td>\n",
              "      <td>3580.000000</td>\n",
              "      <td>51.000000</td>\n",
              "      <td>...</td>\n",
              "      <td>0.000000</td>\n",
              "      <td>13119.000000</td>\n",
              "      <td>1.000000</td>\n",
              "      <td>1.000000</td>\n",
              "      <td>0.000000</td>\n",
              "      <td>0.000000</td>\n",
              "      <td>1.000000</td>\n",
              "      <td>13.000000</td>\n",
              "      <td>17.000000</td>\n",
              "      <td>0.000000</td>\n",
              "    </tr>\n",
              "    <tr>\n",
              "      <th>max</th>\n",
              "      <td>9.000000</td>\n",
              "      <td>31.000000</td>\n",
              "      <td>12.000000</td>\n",
              "      <td>2017.000000</td>\n",
              "      <td>9.000000</td>\n",
              "      <td>9.000000</td>\n",
              "      <td>9.000000</td>\n",
              "      <td>99.000000</td>\n",
              "      <td>9999.000000</td>\n",
              "      <td>99.000000</td>\n",
              "      <td>...</td>\n",
              "      <td>9.000000</td>\n",
              "      <td>15202.000000</td>\n",
              "      <td>2.000000</td>\n",
              "      <td>99.000000</td>\n",
              "      <td>99.000000</td>\n",
              "      <td>99.000000</td>\n",
              "      <td>99.000000</td>\n",
              "      <td>15.000000</td>\n",
              "      <td>33.000000</td>\n",
              "      <td>0.000000</td>\n",
              "    </tr>\n",
              "  </tbody>\n",
              "</table>\n",
              "<p>8 rows × 30 columns</p>\n",
              "</div>"
            ],
            "text/plain": [
              "                SEXO        DIA_NAC        MES_NAC        ANO_NAC  \\\n",
              "count  136677.000000  136677.000000  136677.000000  136677.000000   \n",
              "mean        1.489300      15.680158       6.473050    2011.741405   \n",
              "std         0.503562       8.809573       3.405918       2.682061   \n",
              "min         1.000000       1.000000       1.000000    2008.000000   \n",
              "25%         1.000000       8.000000       4.000000    2009.000000   \n",
              "50%         1.000000      16.000000       7.000000    2011.000000   \n",
              "75%         2.000000      23.000000       9.000000    2014.000000   \n",
              "max         9.000000      31.000000      12.000000    2017.000000   \n",
              "\n",
              "          TIPO_PARTO     ATENC_PART     LOCAL_PART        SEMANAS  \\\n",
              "count  136677.000000  136677.000000  136677.000000  136677.000000   \n",
              "mean        1.018152       1.712761       1.009980      38.638791   \n",
              "std         0.278251       0.508152       0.230099       2.857407   \n",
              "min         1.000000       1.000000       1.000000      17.000000   \n",
              "25%         1.000000       1.000000       1.000000      38.000000   \n",
              "50%         1.000000       2.000000       1.000000      39.000000   \n",
              "75%         1.000000       2.000000       1.000000      40.000000   \n",
              "max         9.000000       9.000000       9.000000      99.000000   \n",
              "\n",
              "                PESO          TALLA  ...        CATEG_M         COMUNA  \\\n",
              "count  136677.000000  136677.000000  ...  136677.000000  136677.000000   \n",
              "mean     3254.420458      49.243969  ...       0.042516    9203.240421   \n",
              "std       578.564986       3.099348  ...       0.557934    3901.735898   \n",
              "min       200.000000      16.000000  ...       0.000000    1101.000000   \n",
              "25%      2990.000000      48.000000  ...       0.000000    6101.000000   \n",
              "50%      3290.000000      50.000000  ...       0.000000    9109.000000   \n",
              "75%      3580.000000      51.000000  ...       0.000000   13119.000000   \n",
              "max      9999.000000      99.000000  ...       9.000000   15202.000000   \n",
              "\n",
              "          URBA_RURAL      HIJ_VIVOS       HIJ_FALL       HIJ_MORT  \\\n",
              "count  136677.000000  136677.000000  136677.000000  136677.000000   \n",
              "mean        1.113326       1.083050       0.038682       0.048509   \n",
              "std         0.316992       1.810489       1.930948       1.933360   \n",
              "min         1.000000       1.000000       0.000000       0.000000   \n",
              "25%         1.000000       1.000000       0.000000       0.000000   \n",
              "50%         1.000000       1.000000       0.000000       0.000000   \n",
              "75%         1.000000       1.000000       0.000000       0.000000   \n",
              "max         2.000000      99.000000      99.000000      99.000000   \n",
              "\n",
              "           HIJ_TOTAL        REG_RES       SERV_RES      indicador  \n",
              "count  136677.000000  136677.000000  136677.000000  136677.000000  \n",
              "mean        1.066580       8.998368      13.160846       0.000000  \n",
              "std         0.695790       3.912688       6.931818       0.000000  \n",
              "min         1.000000       1.000000       1.000000       0.000000  \n",
              "25%         1.000000       6.000000       8.000000       0.000000  \n",
              "50%         1.000000       9.000000      13.000000       0.000000  \n",
              "75%         1.000000      13.000000      17.000000       0.000000  \n",
              "max        99.000000      15.000000      33.000000       0.000000  \n",
              "\n",
              "[8 rows x 30 columns]"
            ]
          },
          "execution_count": 139,
          "metadata": {},
          "output_type": "execute_result"
        }
      ],
      "source": [
        "data_edad_menos18.describe().apply(lambda s: s.apply(lambda x: format(x, 'f')))"
      ]
    },
    {
      "cell_type": "code",
      "execution_count": null,
      "metadata": {
        "id": "tWTkYFWOMgP9",
        "outputId": "947a7684-9fbb-4206-9c2c-722a387d6b80"
      },
      "outputs": [
        {
          "data": {
            "text/html": [
              "<div>\n",
              "<style scoped>\n",
              "    .dataframe tbody tr th:only-of-type {\n",
              "        vertical-align: middle;\n",
              "    }\n",
              "\n",
              "    .dataframe tbody tr th {\n",
              "        vertical-align: top;\n",
              "    }\n",
              "\n",
              "    .dataframe thead th {\n",
              "        text-align: right;\n",
              "    }\n",
              "</style>\n",
              "<table border=\"1\" class=\"dataframe\">\n",
              "  <thead>\n",
              "    <tr style=\"text-align: right;\">\n",
              "      <th></th>\n",
              "      <th>PESO</th>\n",
              "      <th>SEMANAS</th>\n",
              "      <th>TALLA</th>\n",
              "    </tr>\n",
              "    <tr>\n",
              "      <th>SEXO</th>\n",
              "      <th></th>\n",
              "      <th></th>\n",
              "      <th></th>\n",
              "    </tr>\n",
              "  </thead>\n",
              "  <tbody>\n",
              "    <tr>\n",
              "      <th>1</th>\n",
              "      <td>3285.920002</td>\n",
              "      <td>38.57954</td>\n",
              "      <td>49.475824</td>\n",
              "    </tr>\n",
              "    <tr>\n",
              "      <th>2</th>\n",
              "      <td>3221.643689</td>\n",
              "      <td>38.70165</td>\n",
              "      <td>49.002799</td>\n",
              "    </tr>\n",
              "    <tr>\n",
              "      <th>9</th>\n",
              "      <td>2025.000000</td>\n",
              "      <td>32.00000</td>\n",
              "      <td>39.555556</td>\n",
              "    </tr>\n",
              "  </tbody>\n",
              "</table>\n",
              "</div>"
            ],
            "text/plain": [
              "             PESO   SEMANAS      TALLA\n",
              "SEXO                                  \n",
              "1     3285.920002  38.57954  49.475824\n",
              "2     3221.643689  38.70165  49.002799\n",
              "9     2025.000000  32.00000  39.555556"
            ]
          },
          "execution_count": 140,
          "metadata": {},
          "output_type": "execute_result"
        }
      ],
      "source": [
        "data_edad_menos18.pivot_table(values = ['TALLA','PESO',\"SEMANAS\"],index=[\"SEXO\"],aggfunc = 'mean' )"
      ]
    },
    {
      "cell_type": "code",
      "execution_count": null,
      "metadata": {
        "id": "GPzbi11OMgP9",
        "outputId": "bb942446-bca0-4aba-becb-a6314c7d96c0"
      },
      "outputs": [
        {
          "data": {
            "text/plain": [
              "a_término     114714\n",
              "prematuro      21746\n",
              "postérmino       217\n",
              "Name: condi_nac, dtype: int64"
            ]
          },
          "execution_count": 141,
          "metadata": {},
          "output_type": "execute_result"
        }
      ],
      "source": [
        "data_edad_menos18[\"condi_nac\"].value_counts()"
      ]
    },
    {
      "cell_type": "code",
      "execution_count": null,
      "metadata": {
        "id": "ldP9GJEqMgP9",
        "outputId": "19caf9a4-4e35-4f0a-8da1-c6f286305421"
      },
      "outputs": [
        {
          "data": {
            "text/plain": [
              "(136677, 35)"
            ]
          },
          "execution_count": 142,
          "metadata": {},
          "output_type": "execute_result"
        }
      ],
      "source": [
        "data_edad_menos18.shape"
      ]
    },
    {
      "cell_type": "code",
      "execution_count": null,
      "metadata": {
        "id": "6dMhT04pMgP-"
      },
      "outputs": [],
      "source": [
        "data_edad_mas40 = data[data['EDAD_M'] > 40]"
      ]
    },
    {
      "cell_type": "code",
      "execution_count": null,
      "metadata": {
        "id": "nnl6jYa5MgP-",
        "outputId": "845198d2-0219-47b3-b515-e4b1017aa0fb"
      },
      "outputs": [
        {
          "data": {
            "text/plain": [
              "(60439, 35)"
            ]
          },
          "execution_count": 144,
          "metadata": {},
          "output_type": "execute_result"
        }
      ],
      "source": [
        "data_edad_mas40.shape\n"
      ]
    },
    {
      "cell_type": "code",
      "execution_count": null,
      "metadata": {
        "id": "Ses01wGcMgP-",
        "outputId": "2de4c9e7-85fe-4a93-db63-69d4bb286a2f"
      },
      "outputs": [
        {
          "data": {
            "text/html": [
              "<div>\n",
              "<style scoped>\n",
              "    .dataframe tbody tr th:only-of-type {\n",
              "        vertical-align: middle;\n",
              "    }\n",
              "\n",
              "    .dataframe tbody tr th {\n",
              "        vertical-align: top;\n",
              "    }\n",
              "\n",
              "    .dataframe thead th {\n",
              "        text-align: right;\n",
              "    }\n",
              "</style>\n",
              "<table border=\"1\" class=\"dataframe\">\n",
              "  <thead>\n",
              "    <tr style=\"text-align: right;\">\n",
              "      <th></th>\n",
              "      <th>SEXO</th>\n",
              "      <th>DIA_NAC</th>\n",
              "      <th>MES_NAC</th>\n",
              "      <th>ANO_NAC</th>\n",
              "      <th>TIPO_PARTO</th>\n",
              "      <th>ATENC_PART</th>\n",
              "      <th>LOCAL_PART</th>\n",
              "      <th>SEMANAS</th>\n",
              "      <th>PESO</th>\n",
              "      <th>TALLA</th>\n",
              "      <th>...</th>\n",
              "      <th>CATEG_M</th>\n",
              "      <th>COMUNA</th>\n",
              "      <th>URBA_RURAL</th>\n",
              "      <th>HIJ_VIVOS</th>\n",
              "      <th>HIJ_FALL</th>\n",
              "      <th>HIJ_MORT</th>\n",
              "      <th>HIJ_TOTAL</th>\n",
              "      <th>REG_RES</th>\n",
              "      <th>SERV_RES</th>\n",
              "      <th>indicador</th>\n",
              "    </tr>\n",
              "  </thead>\n",
              "  <tbody>\n",
              "    <tr>\n",
              "      <th>count</th>\n",
              "      <td>60439.000000</td>\n",
              "      <td>60439.000000</td>\n",
              "      <td>60439.000000</td>\n",
              "      <td>60439.000000</td>\n",
              "      <td>60439.000000</td>\n",
              "      <td>60439.000000</td>\n",
              "      <td>60439.000000</td>\n",
              "      <td>60439.000000</td>\n",
              "      <td>60439.000000</td>\n",
              "      <td>60439.000000</td>\n",
              "      <td>...</td>\n",
              "      <td>60439.000000</td>\n",
              "      <td>60439.000000</td>\n",
              "      <td>60439.000000</td>\n",
              "      <td>60439.000000</td>\n",
              "      <td>60437.000000</td>\n",
              "      <td>60437.000000</td>\n",
              "      <td>60439.000000</td>\n",
              "      <td>60439.000000</td>\n",
              "      <td>60439.000000</td>\n",
              "      <td>60439.0</td>\n",
              "    </tr>\n",
              "    <tr>\n",
              "      <th>mean</th>\n",
              "      <td>1.490263</td>\n",
              "      <td>15.638677</td>\n",
              "      <td>6.449875</td>\n",
              "      <td>2012.637486</td>\n",
              "      <td>1.089313</td>\n",
              "      <td>1.515015</td>\n",
              "      <td>1.048098</td>\n",
              "      <td>38.458346</td>\n",
              "      <td>3299.240391</td>\n",
              "      <td>49.299145</td>\n",
              "      <td>...</td>\n",
              "      <td>1.364748</td>\n",
              "      <td>9797.523486</td>\n",
              "      <td>1.102583</td>\n",
              "      <td>4.013203</td>\n",
              "      <td>1.142512</td>\n",
              "      <td>1.145639</td>\n",
              "      <td>3.140108</td>\n",
              "      <td>9.601846</td>\n",
              "      <td>13.122206</td>\n",
              "      <td>0.0</td>\n",
              "    </tr>\n",
              "    <tr>\n",
              "      <th>std</th>\n",
              "      <td>0.500835</td>\n",
              "      <td>8.790755</td>\n",
              "      <td>3.443516</td>\n",
              "      <td>2.888898</td>\n",
              "      <td>0.693007</td>\n",
              "      <td>0.796308</td>\n",
              "      <td>0.593449</td>\n",
              "      <td>5.651070</td>\n",
              "      <td>850.591355</td>\n",
              "      <td>5.216177</td>\n",
              "      <td>...</td>\n",
              "      <td>1.570561</td>\n",
              "      <td>3754.269774</td>\n",
              "      <td>0.303416</td>\n",
              "      <td>9.931560</td>\n",
              "      <td>10.448318</td>\n",
              "      <td>10.448608</td>\n",
              "      <td>3.156049</td>\n",
              "      <td>3.774802</td>\n",
              "      <td>6.306585</td>\n",
              "      <td>0.0</td>\n",
              "    </tr>\n",
              "    <tr>\n",
              "      <th>min</th>\n",
              "      <td>1.000000</td>\n",
              "      <td>1.000000</td>\n",
              "      <td>1.000000</td>\n",
              "      <td>2008.000000</td>\n",
              "      <td>1.000000</td>\n",
              "      <td>1.000000</td>\n",
              "      <td>1.000000</td>\n",
              "      <td>17.000000</td>\n",
              "      <td>200.000000</td>\n",
              "      <td>18.000000</td>\n",
              "      <td>...</td>\n",
              "      <td>0.000000</td>\n",
              "      <td>1101.000000</td>\n",
              "      <td>1.000000</td>\n",
              "      <td>0.000000</td>\n",
              "      <td>0.000000</td>\n",
              "      <td>0.000000</td>\n",
              "      <td>0.000000</td>\n",
              "      <td>1.000000</td>\n",
              "      <td>1.000000</td>\n",
              "      <td>0.0</td>\n",
              "    </tr>\n",
              "    <tr>\n",
              "      <th>25%</th>\n",
              "      <td>1.000000</td>\n",
              "      <td>8.000000</td>\n",
              "      <td>3.000000</td>\n",
              "      <td>2010.000000</td>\n",
              "      <td>1.000000</td>\n",
              "      <td>1.000000</td>\n",
              "      <td>1.000000</td>\n",
              "      <td>38.000000</td>\n",
              "      <td>2950.000000</td>\n",
              "      <td>48.000000</td>\n",
              "      <td>...</td>\n",
              "      <td>0.000000</td>\n",
              "      <td>7101.000000</td>\n",
              "      <td>1.000000</td>\n",
              "      <td>2.000000</td>\n",
              "      <td>0.000000</td>\n",
              "      <td>0.000000</td>\n",
              "      <td>2.000000</td>\n",
              "      <td>7.000000</td>\n",
              "      <td>9.000000</td>\n",
              "      <td>0.0</td>\n",
              "    </tr>\n",
              "    <tr>\n",
              "      <th>50%</th>\n",
              "      <td>1.000000</td>\n",
              "      <td>16.000000</td>\n",
              "      <td>6.000000</td>\n",
              "      <td>2013.000000</td>\n",
              "      <td>1.000000</td>\n",
              "      <td>1.000000</td>\n",
              "      <td>1.000000</td>\n",
              "      <td>38.000000</td>\n",
              "      <td>3305.000000</td>\n",
              "      <td>49.000000</td>\n",
              "      <td>...</td>\n",
              "      <td>2.000000</td>\n",
              "      <td>10202.000000</td>\n",
              "      <td>1.000000</td>\n",
              "      <td>3.000000</td>\n",
              "      <td>0.000000</td>\n",
              "      <td>0.000000</td>\n",
              "      <td>3.000000</td>\n",
              "      <td>10.000000</td>\n",
              "      <td>12.000000</td>\n",
              "      <td>0.0</td>\n",
              "    </tr>\n",
              "    <tr>\n",
              "      <th>75%</th>\n",
              "      <td>2.000000</td>\n",
              "      <td>23.000000</td>\n",
              "      <td>9.000000</td>\n",
              "      <td>2015.000000</td>\n",
              "      <td>1.000000</td>\n",
              "      <td>2.000000</td>\n",
              "      <td>1.000000</td>\n",
              "      <td>39.000000</td>\n",
              "      <td>3645.000000</td>\n",
              "      <td>51.000000</td>\n",
              "      <td>...</td>\n",
              "      <td>2.000000</td>\n",
              "      <td>13122.000000</td>\n",
              "      <td>1.000000</td>\n",
              "      <td>4.000000</td>\n",
              "      <td>0.000000</td>\n",
              "      <td>0.000000</td>\n",
              "      <td>4.000000</td>\n",
              "      <td>13.000000</td>\n",
              "      <td>16.000000</td>\n",
              "      <td>0.0</td>\n",
              "    </tr>\n",
              "    <tr>\n",
              "      <th>max</th>\n",
              "      <td>9.000000</td>\n",
              "      <td>31.000000</td>\n",
              "      <td>12.000000</td>\n",
              "      <td>2017.000000</td>\n",
              "      <td>9.000000</td>\n",
              "      <td>9.000000</td>\n",
              "      <td>9.000000</td>\n",
              "      <td>99.000000</td>\n",
              "      <td>9999.000000</td>\n",
              "      <td>99.000000</td>\n",
              "      <td>...</td>\n",
              "      <td>9.000000</td>\n",
              "      <td>15201.000000</td>\n",
              "      <td>2.000000</td>\n",
              "      <td>99.000000</td>\n",
              "      <td>99.000000</td>\n",
              "      <td>99.000000</td>\n",
              "      <td>99.000000</td>\n",
              "      <td>15.000000</td>\n",
              "      <td>33.000000</td>\n",
              "      <td>0.0</td>\n",
              "    </tr>\n",
              "  </tbody>\n",
              "</table>\n",
              "<p>8 rows × 30 columns</p>\n",
              "</div>"
            ],
            "text/plain": [
              "               SEXO       DIA_NAC       MES_NAC       ANO_NAC    TIPO_PARTO  \\\n",
              "count  60439.000000  60439.000000  60439.000000  60439.000000  60439.000000   \n",
              "mean       1.490263     15.638677      6.449875   2012.637486      1.089313   \n",
              "std        0.500835      8.790755      3.443516      2.888898      0.693007   \n",
              "min        1.000000      1.000000      1.000000   2008.000000      1.000000   \n",
              "25%        1.000000      8.000000      3.000000   2010.000000      1.000000   \n",
              "50%        1.000000     16.000000      6.000000   2013.000000      1.000000   \n",
              "75%        2.000000     23.000000      9.000000   2015.000000      1.000000   \n",
              "max        9.000000     31.000000     12.000000   2017.000000      9.000000   \n",
              "\n",
              "         ATENC_PART    LOCAL_PART       SEMANAS          PESO         TALLA  \\\n",
              "count  60439.000000  60439.000000  60439.000000  60439.000000  60439.000000   \n",
              "mean       1.515015      1.048098     38.458346   3299.240391     49.299145   \n",
              "std        0.796308      0.593449      5.651070    850.591355      5.216177   \n",
              "min        1.000000      1.000000     17.000000    200.000000     18.000000   \n",
              "25%        1.000000      1.000000     38.000000   2950.000000     48.000000   \n",
              "50%        1.000000      1.000000     38.000000   3305.000000     49.000000   \n",
              "75%        2.000000      1.000000     39.000000   3645.000000     51.000000   \n",
              "max        9.000000      9.000000     99.000000   9999.000000     99.000000   \n",
              "\n",
              "       ...       CATEG_M        COMUNA    URBA_RURAL     HIJ_VIVOS  \\\n",
              "count  ...  60439.000000  60439.000000  60439.000000  60439.000000   \n",
              "mean   ...      1.364748   9797.523486      1.102583      4.013203   \n",
              "std    ...      1.570561   3754.269774      0.303416      9.931560   \n",
              "min    ...      0.000000   1101.000000      1.000000      0.000000   \n",
              "25%    ...      0.000000   7101.000000      1.000000      2.000000   \n",
              "50%    ...      2.000000  10202.000000      1.000000      3.000000   \n",
              "75%    ...      2.000000  13122.000000      1.000000      4.000000   \n",
              "max    ...      9.000000  15201.000000      2.000000     99.000000   \n",
              "\n",
              "           HIJ_FALL      HIJ_MORT     HIJ_TOTAL       REG_RES      SERV_RES  \\\n",
              "count  60437.000000  60437.000000  60439.000000  60439.000000  60439.000000   \n",
              "mean       1.142512      1.145639      3.140108      9.601846     13.122206   \n",
              "std       10.448318     10.448608      3.156049      3.774802      6.306585   \n",
              "min        0.000000      0.000000      0.000000      1.000000      1.000000   \n",
              "25%        0.000000      0.000000      2.000000      7.000000      9.000000   \n",
              "50%        0.000000      0.000000      3.000000     10.000000     12.000000   \n",
              "75%        0.000000      0.000000      4.000000     13.000000     16.000000   \n",
              "max       99.000000     99.000000     99.000000     15.000000     33.000000   \n",
              "\n",
              "       indicador  \n",
              "count    60439.0  \n",
              "mean         0.0  \n",
              "std          0.0  \n",
              "min          0.0  \n",
              "25%          0.0  \n",
              "50%          0.0  \n",
              "75%          0.0  \n",
              "max          0.0  \n",
              "\n",
              "[8 rows x 30 columns]"
            ]
          },
          "execution_count": 127,
          "metadata": {},
          "output_type": "execute_result"
        }
      ],
      "source": [
        "data_edad_mas40.describe()"
      ]
    },
    {
      "cell_type": "code",
      "execution_count": null,
      "metadata": {
        "id": "pyqqqcICMgP-",
        "outputId": "025d8157-9c39-49d4-af89-1bc8a56fd851"
      },
      "outputs": [
        {
          "data": {
            "text/html": [
              "<div>\n",
              "<style scoped>\n",
              "    .dataframe tbody tr th:only-of-type {\n",
              "        vertical-align: middle;\n",
              "    }\n",
              "\n",
              "    .dataframe tbody tr th {\n",
              "        vertical-align: top;\n",
              "    }\n",
              "\n",
              "    .dataframe thead th {\n",
              "        text-align: right;\n",
              "    }\n",
              "</style>\n",
              "<table border=\"1\" class=\"dataframe\">\n",
              "  <thead>\n",
              "    <tr style=\"text-align: right;\">\n",
              "      <th></th>\n",
              "      <th>PESO</th>\n",
              "      <th>SEMANAS</th>\n",
              "      <th>TALLA</th>\n",
              "    </tr>\n",
              "    <tr>\n",
              "      <th>SEXO</th>\n",
              "      <th></th>\n",
              "      <th></th>\n",
              "      <th></th>\n",
              "    </tr>\n",
              "  </thead>\n",
              "  <tbody>\n",
              "    <tr>\n",
              "      <th>1</th>\n",
              "      <td>3333.845270</td>\n",
              "      <td>38.400714</td>\n",
              "      <td>49.519195</td>\n",
              "    </tr>\n",
              "    <tr>\n",
              "      <th>2</th>\n",
              "      <td>3263.263613</td>\n",
              "      <td>38.518415</td>\n",
              "      <td>49.070418</td>\n",
              "    </tr>\n",
              "    <tr>\n",
              "      <th>9</th>\n",
              "      <td>2690.000000</td>\n",
              "      <td>35.000000</td>\n",
              "      <td>44.000000</td>\n",
              "    </tr>\n",
              "  </tbody>\n",
              "</table>\n",
              "</div>"
            ],
            "text/plain": [
              "             PESO    SEMANAS      TALLA\n",
              "SEXO                                   \n",
              "1     3333.845270  38.400714  49.519195\n",
              "2     3263.263613  38.518415  49.070418\n",
              "9     2690.000000  35.000000  44.000000"
            ]
          },
          "execution_count": 129,
          "metadata": {},
          "output_type": "execute_result"
        }
      ],
      "source": [
        "data_edad_mas40.pivot_table(values = ['TALLA','PESO',\"SEMANAS\"],index=[\"SEXO\"],aggfunc = 'mean' )"
      ]
    },
    {
      "cell_type": "code",
      "execution_count": null,
      "metadata": {
        "id": "DBfwhl1iMgP-",
        "outputId": "40f5deae-5d6e-4541-e8f9-1ffde1f618c9"
      },
      "outputs": [
        {
          "data": {
            "text/plain": [
              "a_término     45740\n",
              "prematuro     14212\n",
              "postérmino      487\n",
              "Name: condi_nac, dtype: int64"
            ]
          },
          "execution_count": 135,
          "metadata": {},
          "output_type": "execute_result"
        }
      ],
      "source": [
        "data_edad_mas40[\"condi_nac\"].value_counts()"
      ]
    },
    {
      "cell_type": "code",
      "execution_count": null,
      "metadata": {
        "id": "q8H_a34bMgP-",
        "outputId": "8fd31262-58cc-4d2d-d71c-0aad109c9791"
      },
      "outputs": [
        {
          "data": {
            "image/png": "[encoded data removed]",
            "text/plain": [
              "<Figure size 432x288 with 1 Axes>"
            ]
          },
          "metadata": {
            "needs_background": "light"
          },
          "output_type": "display_data"
        }
      ],
      "source": [
        "data_edad_mas40.groupby('SEXO')['TALLA'].mean().plot.bar()\n",
        "plt.show()"
      ]
    },
    {
      "cell_type": "code",
      "execution_count": null,
      "metadata": {
        "id": "35qfXJEWMgP-"
      },
      "outputs": [],
      "source": []
    }
  ],
  "metadata": {
    "kernelspec": {
      "display_name": "Python 3",
      "language": "python",
      "name": "python3"
    },
    "language_info": {
      "codemirror_mode": {
        "name": "ipython",
        "version": 3
      },
      "file_extension": ".py",
      "mimetype": "text/x-python",
      "name": "python",
      "nbconvert_exporter": "python",
      "pygments_lexer": "ipython3",
      "version": "3.8.3"
    },
    "colab": {
      "provenance": [],
      "include_colab_link": true
    }
  },
  "nbformat": 4,
  "nbformat_minor": 0
}