{
  "nbformat": 4,
  "nbformat_minor": 0,
  "metadata": {
    "colab": {
      "provenance": [],
      "machine_shape": "hm",
      "gpuClass": "premium",
      "mount_file_id": "1s59OH8JqoUezexNMfwx4Kokp2DVztKr4",
      "authorship_tag": "ABX9TyPT9sOYMtZOFjhXHY/Kwobp",
      "include_colab_link": true
    },
    "kernelspec": {
      "name": "python3",
      "display_name": "Python 3"
    },
    "language_info": {
      "name": "python"
    },
    "accelerator": "GPU",
    "gpuClass": "premium"
  },
  "cells": [
    {
      "cell_type": "markdown",
      "metadata": {
        "id": "view-in-github",
        "colab_type": "text"
      },
      "source": [
        "<a href=\"https://colab.research.google.com/github/dcontrerascaballol/inventos/blob/main/transcripci%C3%B3n_seminario.ipynb\" target=\"_parent\"><img src=\"https://colab.research.google.com/assets/colab-badge.svg\" alt=\"Open In Colab\"/></a>"
      ]
    },
    {
      "cell_type": "code",
      "execution_count": null,
      "metadata": {
        "colab": {
          "base_uri": "https://localhost:8080/"
        },
        "id": "8Dtdgw3MPrQF",
        "outputId": "2bd5afeb-6563-47b3-e022-bace07aac555"
      },
      "outputs": [
        {
          "output_type": "stream",
          "name": "stdout",
          "text": [
            "  Installing build dependencies ... \u001b[?25l\u001b[?25hdone\n",
            "  Getting requirements to build wheel ... \u001b[?25l\u001b[?25hdone\n",
            "  Preparing metadata (pyproject.toml) ... \u001b[?25l\u001b[?25hdone\n",
            "\u001b[2K     \u001b[90m━━━━━━━━━━━━━━━━━━━━━━━━━━━━━━━━━━━━━━━━\u001b[0m \u001b[32m1.1/1.1 MB\u001b[0m \u001b[31m8.5 MB/s\u001b[0m eta \u001b[36m0:00:00\u001b[0m\n",
            "\u001b[2K     \u001b[90m━━━━━━━━━━━━━━━━━━━━━━━━━━━━━━━━━━━━━━━━\u001b[0m \u001b[32m21.3/21.3 MB\u001b[0m \u001b[31m56.8 MB/s\u001b[0m eta \u001b[36m0:00:00\u001b[0m\n",
            "\u001b[?25h  Building wheel for openai-whisper (pyproject.toml) ... \u001b[?25l\u001b[?25hdone\n"
          ]
        }
      ],
      "source": [
        "!pip install git+https://github.com/openai/whisper.git -q"
      ]
    },
    {
      "cell_type": "code",
      "source": [
        "!pip install pytube -q"
      ],
      "metadata": {
        "colab": {
          "base_uri": "https://localhost:8080/"
        },
        "id": "HRvrjlGNP6tX",
        "outputId": "e3c8e3bb-6f1a-49f7-90e5-0a378589a1d4"
      },
      "execution_count": null,
      "outputs": [
        {
          "output_type": "stream",
          "name": "stdout",
          "text": [
            "\u001b[?25l     \u001b[90m━━━━━━━━━━━━━━━━━━━━━━━━━━━━━━━━━━━━━━━━\u001b[0m \u001b[32m0.0/57.6 kB\u001b[0m \u001b[31m?\u001b[0m eta \u001b[36m-:--:--\u001b[0m\r\u001b[2K     \u001b[90m━━━━━━━━━━━━━━━━━━━━━━━━━━━━━━━━━━━━━━━━\u001b[0m \u001b[32m57.6/57.6 kB\u001b[0m \u001b[31m2.6 MB/s\u001b[0m eta \u001b[36m0:00:00\u001b[0m\n",
            "\u001b[?25h"
          ]
        }
      ]
    },
    {
      "cell_type": "code",
      "source": [
        "import whisper\n",
        "from pytube import YouTube"
      ],
      "metadata": {
        "id": "1qyrSj8IP9Sz"
      },
      "execution_count": null,
      "outputs": []
    },
    {
      "cell_type": "code",
      "source": [
        "model = whisper.load_model('base')"
      ],
      "metadata": {
        "colab": {
          "base_uri": "https://localhost:8080/"
        },
        "id": "XXoTOxZ5P_Z5",
        "outputId": "c4ac6798-7530-4e18-9937-b0ed67cbd5de"
      },
      "execution_count": null,
      "outputs": [
        {
          "output_type": "stream",
          "name": "stderr",
          "text": [
            "100%|███████████████████████████████████████| 139M/139M [00:07<00:00, 20.3MiB/s]\n"
          ]
        }
      ]
    },
    {
      "cell_type": "code",
      "source": [
        "youtube_video = YouTube(\"https://youtu.be/vb1_jKA4IUA\")"
      ],
      "metadata": {
        "id": "bmsDIEkkQBGr"
      },
      "execution_count": null,
      "outputs": []
    },
    {
      "cell_type": "code",
      "source": [
        "print(youtube_video.title)"
      ],
      "metadata": {
        "colab": {
          "base_uri": "https://localhost:8080/"
        },
        "id": "Lk91BbWPQHfR",
        "outputId": "fbaf2bfe-c9bf-4c1c-92ad-7469bf419da7"
      },
      "execution_count": null,
      "outputs": [
        {
          "output_type": "stream",
          "name": "stdout",
          "text": [
            "Entrevista   Estrategia Buen Uso de Recursos 20240610 160537 Grabación de la reunión\n"
          ]
        }
      ]
    },
    {
      "cell_type": "code",
      "source": [
        "for stream in youtube_video.streams:\n",
        "  print(stream)"
      ],
      "metadata": {
        "colab": {
          "base_uri": "https://localhost:8080/"
        },
        "id": "yy9YnvAcQKm7",
        "outputId": "820dfe9d-fd44-4603-be16-c24ff5f3ae3b"
      },
      "execution_count": null,
      "outputs": [
        {
          "output_type": "stream",
          "name": "stdout",
          "text": [
            "<Stream: itag=\"18\" mime_type=\"video/mp4\" res=\"360p\" fps=\"16fps\" vcodec=\"avc1.42001E\" acodec=\"mp4a.40.2\" progressive=\"True\" type=\"video\">\n",
            "<Stream: itag=\"137\" mime_type=\"video/mp4\" res=\"1080p\" fps=\"16fps\" vcodec=\"avc1.640028\" progressive=\"False\" type=\"video\">\n",
            "<Stream: itag=\"136\" mime_type=\"video/mp4\" res=\"720p\" fps=\"16fps\" vcodec=\"avc1.64001f\" progressive=\"False\" type=\"video\">\n",
            "<Stream: itag=\"134\" mime_type=\"video/mp4\" res=\"360p\" fps=\"16fps\" vcodec=\"avc1.4d4016\" progressive=\"False\" type=\"video\">\n",
            "<Stream: itag=\"160\" mime_type=\"video/mp4\" res=\"144p\" fps=\"16fps\" vcodec=\"avc1.4d400b\" progressive=\"False\" type=\"video\">\n",
            "<Stream: itag=\"139\" mime_type=\"audio/mp4\" abr=\"48kbps\" acodec=\"mp4a.40.5\" progressive=\"False\" type=\"audio\">\n",
            "<Stream: itag=\"140\" mime_type=\"audio/mp4\" abr=\"128kbps\" acodec=\"mp4a.40.2\" progressive=\"False\" type=\"audio\">\n",
            "<Stream: itag=\"251\" mime_type=\"audio/webm\" abr=\"160kbps\" acodec=\"opus\" progressive=\"False\" type=\"audio\">\n"
          ]
        }
      ]
    },
    {
      "cell_type": "code",
      "source": [
        "streams = youtube_video.streams.filter(only_audio=True)\n",
        "streams"
      ],
      "metadata": {
        "colab": {
          "base_uri": "https://localhost:8080/"
        },
        "id": "4BfhsJd0QQC1",
        "outputId": "86c785ea-85d9-47e1-c5f8-ba9d74aca3d5"
      },
      "execution_count": null,
      "outputs": [
        {
          "output_type": "execute_result",
          "data": {
            "text/plain": [
              "[<Stream: itag=\"139\" mime_type=\"audio/mp4\" abr=\"48kbps\" acodec=\"mp4a.40.5\" progressive=\"False\" type=\"audio\">, <Stream: itag=\"140\" mime_type=\"audio/mp4\" abr=\"128kbps\" acodec=\"mp4a.40.2\" progressive=\"False\" type=\"audio\">, <Stream: itag=\"251\" mime_type=\"audio/webm\" abr=\"160kbps\" acodec=\"opus\" progressive=\"False\" type=\"audio\">]"
            ]
          },
          "metadata": {},
          "execution_count": 8
        }
      ]
    },
    {
      "cell_type": "code",
      "source": [
        "stream = streams.first()"
      ],
      "metadata": {
        "id": "8jEovrl8QSml"
      },
      "execution_count": null,
      "outputs": []
    },
    {
      "cell_type": "code",
      "source": [
        "stream.download(filename='seminario.mp4')"
      ],
      "metadata": {
        "colab": {
          "base_uri": "https://localhost:8080/",
          "height": 35
        },
        "id": "Xwq1v0wsQUzx",
        "outputId": "d81217de-5469-4efa-d0d4-e03f018b3b29"
      },
      "execution_count": null,
      "outputs": [
        {
          "output_type": "execute_result",
          "data": {
            "text/plain": [
              "'/content/seminario.mp4'"
            ],
            "application/vnd.google.colaboratory.intrinsic+json": {
              "type": "string"
            }
          },
          "metadata": {},
          "execution_count": 10
        }
      ]
    },
    {
      "cell_type": "code",
      "source": [
        "!ffmpeg -ss 1560 -i seminario.mp4 -t 13200 seminario_segmento.mp4"
      ],
      "metadata": {
        "colab": {
          "base_uri": "https://localhost:8080/"
        },
        "id": "JNE2hWXAQ2Ja",
        "outputId": "13b06dd3-cf30-44c4-e11c-8fe4e90fbb06"
      },
      "execution_count": null,
      "outputs": [
        {
          "output_type": "stream",
          "name": "stdout",
          "text": [
            "ffmpeg version 4.4.2-0ubuntu0.22.04.1 Copyright (c) 2000-2021 the FFmpeg developers\n",
            "  built with gcc 11 (Ubuntu 11.2.0-19ubuntu1)\n",
            "  configuration: --prefix=/usr --extra-version=0ubuntu0.22.04.1 --toolchain=hardened --libdir=/usr/lib/x86_64-linux-gnu --incdir=/usr/include/x86_64-linux-gnu --arch=amd64 --enable-gpl --disable-stripping --enable-gnutls --enable-ladspa --enable-libaom --enable-libass --enable-libbluray --enable-libbs2b --enable-libcaca --enable-libcdio --enable-libcodec2 --enable-libdav1d --enable-libflite --enable-libfontconfig --enable-libfreetype --enable-libfribidi --enable-libgme --enable-libgsm --enable-libjack --enable-libmp3lame --enable-libmysofa --enable-libopenjpeg --enable-libopenmpt --enable-libopus --enable-libpulse --enable-librabbitmq --enable-librubberband --enable-libshine --enable-libsnappy --enable-libsoxr --enable-libspeex --enable-libsrt --enable-libssh --enable-libtheora --enable-libtwolame --enable-libvidstab --enable-libvorbis --enable-libvpx --enable-libwebp --enable-libx265 --enable-libxml2 --enable-libxvid --enable-libzimg --enable-libzmq --enable-libzvbi --enable-lv2 --enable-omx --enable-openal --enable-opencl --enable-opengl --enable-sdl2 --enable-pocketsphinx --enable-librsvg --enable-libmfx --enable-libdc1394 --enable-libdrm --enable-libiec61883 --enable-chromaprint --enable-frei0r --enable-libx264 --enable-shared\n",
            "  libavutil      56. 70.100 / 56. 70.100\n",
            "  libavcodec     58.134.100 / 58.134.100\n",
            "  libavformat    58. 76.100 / 58. 76.100\n",
            "  libavdevice    58. 13.100 / 58. 13.100\n",
            "  libavfilter     7.110.100 /  7.110.100\n",
            "  libswscale      5.  9.100 /  5.  9.100\n",
            "  libswresample   3.  9.100 /  3.  9.100\n",
            "  libpostproc    55.  9.100 / 55.  9.100\n",
            "Input #0, mov,mp4,m4a,3gp,3g2,mj2, from 'seminario.mp4':\n",
            "  Metadata:\n",
            "    major_brand     : dash\n",
            "    minor_version   : 0\n",
            "    compatible_brands: iso6mp41\n",
            "    creation_time   : 2024-07-09T15:14:46.000000Z\n",
            "    encoder         : Google\n",
            "  Duration: 01:00:43.40, start: 0.000000, bitrate: 48 kb/s\n",
            "  Stream #0:0(eng): Audio: aac (HE-AAC) (mp4a / 0x6134706D), 44100 Hz, stereo, fltp, 0 kb/s (default)\n",
            "    Metadata:\n",
            "      creation_time   : 2024-07-09T15:14:46.000000Z\n",
            "      handler_name    : ISO Media file produced by Google Inc.\n",
            "      vendor_id       : [0][0][0][0]\n",
            "Stream mapping:\n",
            "  Stream #0:0 -> #0:0 (aac (native) -> aac (native))\n",
            "Press [q] to stop, [?] for help\n",
            "Output #0, mp4, to 'seminario_segmento.mp4':\n",
            "  Metadata:\n",
            "    major_brand     : dash\n",
            "    minor_version   : 0\n",
            "    compatible_brands: iso6mp41\n",
            "    encoder         : Lavf58.76.100\n",
            "  Stream #0:0(eng): Audio: aac (LC) (mp4a / 0x6134706D), 44100 Hz, stereo, fltp, 128 kb/s (default)\n",
            "    Metadata:\n",
            "      creation_time   : 2024-07-09T15:14:46.000000Z\n",
            "      handler_name    : ISO Media file produced by Google Inc.\n",
            "      vendor_id       : [0][0][0][0]\n",
            "      encoder         : Lavc58.134.100 aac\n",
            "size=   32313kB time=00:34:43.38 bitrate= 127.1kbits/s speed=47.4x    \n",
            "video:0kB audio:31962kB subtitle:0kB other streams:0kB global headers:0kB muxing overhead: 1.100689%\n",
            "\u001b[1;36m[aac @ 0x56df7fd6a680] \u001b[0mQavg: 3813.527\n"
          ]
        }
      ]
    },
    {
      "cell_type": "code",
      "source": [
        "import datetime\n",
        "\n",
        "# guarda antes de la transcripción\n",
        "t1 = datetime.datetime.now()\n",
        "print(f\"started at {t1}\")\n",
        "\n",
        "# hace la transcripción\n",
        "output = model.transcribe(\"seminario_segmento.mp4\")\n",
        "\n",
        "# muestra cuando cuando se completó y cuanto demoró\n",
        "t2 = datetime.datetime.now()\n",
        "print(f\"ended at {t2}\")\n",
        "print(f\"time elapsed: {t2 - t1}\")\n",
        "\n",
        "output['text']"
      ],
      "metadata": {
        "colab": {
          "base_uri": "https://localhost:8080/",
          "height": 1000
        },
        "id": "zNDOAmztRKtJ",
        "outputId": "b5f34824-7b83-461b-c6f3-dd8bcf3d3910"
      },
      "execution_count": null,
      "outputs": [
        {
          "output_type": "stream",
          "name": "stdout",
          "text": [
            "started at 2024-07-09 15:49:51.179350\n",
            "ended at 2024-07-09 15:51:37.814469\n",
            "time elapsed: 0:01:46.635119\n"
          ]
        },
        {
          "output_type": "execute_result",
          "data": {
            "text/plain": [
              "\" buscando por diferentes, tratar de averiguar diferentes mecanismos para poder llegar a un proceso del que yo quiero y así poder subir, dejar la plantilla de CSB acorde a lo que ustedes saben. Pero sí, para eso, obviamente, creo que considero que el tiempo es más que suficiente, el proceso de rendición al 31 de marzo de cada año. El tiempo suficiente para que nosotros podamos subir la información. Tratamos de siempre rendir dentro del plazo, no ha basado en ocasiones anteriores del año 2021, corríganme si estoy equivocado, pero el año 2021 fue el primer año en particular en donde la superintendencia de educación señala que todos los gastos que uno vaya ejerciendo en la página de la superintendencia tienen que ser, obviamente, mayor igual a cero. Y inferior al 2021 uno podía cerrar con saldo negativos. Pero después de eso, la superintendencia dijo no, del 2021, esto solo saldo positivo. Ahí tuvimos, y ahí me acuerdo que tuvimos un problema, estuvimos trabajando en conjunto con la señora Nancy, hasta muy tarde y también nos apoyó la siguiente ya, y se la gustamante en cuál tuvimos que lamentablemente para poder cerrar el año 2021, sacar ciertos gastos para poder rendir. Y esto fue fuera de plazo. Fue después ya los primeros días de abril del año 2021. Y después tuvimos otro inconveniente el año 2022, pero ya son cosas internas de este mismo departamento de educación. Pero son cosas que, obviamente, se han ido solucionando de tal forma y de una otra forma en el mismo proceso de rendición de cuentas. Ahora, como viene, en nuevos procesos de rectificación, ahora en agosto tengo entendido todos los gastos que no se han declarado años anteriores. Nosotros sufrimos un virus informático el año 2016, 2017, donde hay mucha información que no está declarada. Vamos a participar en ese proceso de rectificación si es que sale todo bien. Ahí tenemos mucha cantidad para poder susanar estos. Lo más probable que no sea en su totalidad, pero sí vamos a llegar a considerar un buen camino. Muchos gastos que no se declararon en su momento y creo que está la oportunidad pensando también ahora a corto plazo cuando nos des municipalizemos en el tema de los hermosos. Perfecto Jorge, muchas gracias. Bueno, mencionadas que tienen una suerte de feedback para poder gestionar las cuentas contables, ¿verdad? Recuerda haberle ido en el padecente que uno de los objetivos era empezar a hacer misiones mensuales. Ahí se requieren la preparación del archivo o subir lo plato formado. Claro. Mi mecanismo ha sido semestral. Debido a la cantidad de información, porque como dije, en antes, el sistema es un poco engorroso el cual poseemos nosotros que escachiles. En donde bajar la información ahí y trabajar la información ahí, para mí es más factible y más amigable trabajarlo, subir a la página de su preintendencia de forma semestral y trabajarlo al chivo se trabajan diariamente, semanalmente, mensualmente, tal como indica en el padecente. El efecto y todo esto informe de ingreso y gastos que van generando son presentados al consejo escolar de manera perjudica o de algo que hace solamente en la cuenta pública. En el tema de las subvenciones curales preferenciales, que yo soy el coordinador de esos fondos, estoy en constante comunicación con los 17 establecimientos al día de hoy y la otra subvención. Yo considero lo mismo, el leticia de corrigiones estoy equivocado, seguramente ella ahí, en la encarga de finanzas, se apoya ahí con seguramente, le indica lo saldo a los establecimientos, porque ella ve, obviamente, las otras subvenciones. No ven su totalidad, el tema de las subvenciones es curales preferenciales, que es el avío yo. Sí, yo lo manio, pero otra forma, ya que nosotros nos estamos en la misma situación que la hace. Entonces, ese un gasto que yo doble que su voz lo tengo por centro de costo, porque esta un crecimiento, porque cada cuenta tengo dinero enresado. Entonces, en mi me llega a hablar de un depedido, yo, si tiene salto, la cuenta le doy, sino no se produce de con eso. En la única forma, se ingiran un poco el gasto y ordenan los dinero porque la ante no estaba así por centro de costo. Se trabaja por cuenta contable, pero no por esta crecimiento. Así que una de las medidas que se tomó para poder me guardar un poco los 15 mil millones de pesos que tenemos para este año, es decir, cuíla completamente por cada establecimiento, por cada cuenta contable y así podra llevar un control de toro. Y respecto a lo que decía, a maquis de las rendiciones mensuales, efectivamente, en una solicitumía que yo le dije al jefe que se hiciera mensual, pero no se ha llevado a cabo de la forma como se espera, por lo menos para mí, que para mí me dice ser mensual la rendición. Perfecto. Hay algunos elementos que mejor alguien respecto a cómo se presentan, para plataformas la superintendencia que se quisiera más amigables de tipo de proceso. Hey, Jorge, no nos señala la plataforma bien compleja, porque es una sábana, finalmente, que es como va a ser una liquidación de sueldo por cada persona. Entonces igual es complejo lo que señala, Jorge, que quizás por eso no lo hace mensual, pero yo pienso que igual es que ver la forma de que llegada la forma mensual, porque la idea de la solicitum que yo planteo al jefe a ser mensual era para diminuir lo de rores a fin de año, por cuando corresponde a ser la, porque finalmente nos van a encontrar con el mes, en curso, subiendo toda la información muy viaje y lo de rores va a ser muy difícil detectarle por el substanelo a las alturas del agondicio. Pero ahí no sé si se puede mejorar esa página. Ahora, y con respecto hacia ahí alguna entendí, yo te señalo de una tía que si hay alguna observación a lo mejor de una posible mejora desde el punto de vista de la experiencia de quien trabaja con la plataforma, que ustedes pudieran apuntar cierto y de lo mejor manifestarlo a quienes corresponde allí, y creo que hay Jorge que podría lo mejor señalar. ¿Qué ha observado el cierto? ¿Qué es lo que más cuesta o que es lo que más engorrosa en la plataforma o sugerir a lo mejor alguna observación? Jorge. Yo sé que, claro, yo la experiencia que tengo en el proceso de rendiciones, hay sistemas contables que, por ejemplo, en el ámbito remuneracional coloca y deja toda la plantilla de remuneración en el informato CECB y lo deja listo. En el ámbito de nosotros es totalmente, totalmente hay que diseñar la plantilla CECB con el programa que poseemos nosotros, porque no es amigable. Entonces, trabajar en un proceso de remuneraciones de forma mensual para mí, con dentro de mi experiencia lo considera un poco complicado. No digo que no se puede, tal vez sí, seguramente te ha entregar que ver posibilidades, instancias de estar más metido en eso para encontrar un mecanismo, porque para que se me haga también una forma se me sea más fácil subir la información. En todo caso, el mismo mecanismo que yo encontré para poder subir el proceso de remuneraciones de los 17 centros de costos que posee este departamento de educación, esto es calculado en base a, si, por ejemplo, la encarga de finanzas dice que, por conceptos de remuneraciones en un liceo, por ejemplo, se subió de forma mensual un montón de 200 millones de pesos, eso es lo que figura el libro de remuneraciones al momento de sacar el reporte, el total a ver, tiene que ser, obviamente, lo mismo, si se cargar un 200 millones, yo tengo que subir eso, 200 millones de pesos. Y al sacar los reportes en el programa de remuneraciones, ver su lo que yo subo, es exactamente al peso, que significa que eso que está cuadrado. Entonces, obviamente, eso yo lo valido, y lo valido al momento de subir la información, ya sea, si subir a la información, ya sea mensual, tendría que validar esa información con el programa de remuneraciones, si lo hicieras de forma semestral, ya es exactamente lo mismo, y si incluso lo haría de forma manual, haría exactamente lo mismo. Calcularía, obviamente, lo que dice el programa en su total, es el programa de remuneraciones, lo corroboraría, si efectivamente, si son mil millones de pesos, que dice remuneraciones, yo tengo que ver si efectivamente están esos mil millones de pesos, hablando de forma general, en o los diferentes establecimientos. Esa es mi forma de trabajar, así por todas las subvenciones. Cuando nosotros subimos subvenciones, que con subimos remuneraciones, que es como para mí, es lo personal lo más complicado en el proceso de rendición de cuentas, nosotros trabajamos solamente con tres subvenciones, que es lo fondo de educación, integración y las subvenciones escuelas preferencial. Son la única subvención en el cual, a los funcionarios de este departamento, se les paga su remuneración. Si bien se generan traspasos correspondientes por otras subvenciones, o que obviamente también, también después están subidas, ya sea, por ODE, por otro documento electrónico, cuando sube uno en la plantilla, se se ven en el ámbito de compras, también está los traspasos correspondientes, y así, y obviamente yo tengo que chequeando la información. Eso es la gran ventaja de igual que el que posee el programa de contabilidad de nosotros, que uno le coloca por cuenta, de forma mensual, por ejemplo, cuanta plata salió de forma mensual, por ejemplo en fondos de educación, yo corroboro esa información, después yo lo voy corroborando con lo que yo subí, y ahí salen los diferentes decreto de pago con correspondiente, y ellos tengo que ir, obviamente, validando lo que dice el programa de contabilidad ver su lo que yo subí. Esa es mi forma de trabajar. Perfecto, Jorge, muchas gracias. Pasando a otro tema, respecto a los monstruos no ha creído, no tendremos que esto ha sido un problema hacia atrás, que si no me equivo con la brecha sigo acostando, cuando ustedes generan el presupuesto anual y incorporan estos monstruos no agreditados, de no ser así que estas dejas están realizando para poder solucionar ese problema. Claro, hay efectivamente montos que no están agreditados, principalmente, es en las dos áreas, en el área de los ingresos y en el lado de los gastos. En el tema de los ingresos, desde que se empezó a rendir en el proceso de rendición de cuentas desde el año 2008, en adelante, no ha existido para este departamento de educación, el haber subido sin ingresos manuales. Y entre esos ingresos manuales, voy a hablar de dos cosas, como, por ejemplo, que son los traspasos municipales y a la verdad licencia médicas. Esas ingresos no están cargados. Como decía nuestro director, a obviamente tenemos al del año pasado, en 2023, es un funcionario en el cual está viendo el proceso de los ingresos en su totalidad por las diferencias subvenciones. Y en el tema de los gastos, claro, seguramente por desconocimiento, etcétera, la verdad no lo sé, porque en este departamento año anterior ya han habido muchos funcionarios, los cuales han rendido a la página de la superintendencia. Yo creo que simplemente por desconocimiento que han quedado muchos gastos que no han sido declarados. Y entre esas cosas, me da cuenta que han existido por supuesto errores, errores que, obviamente, de una otra forma, tenemos que ir subsanando como departamento de educación. Y a la vez hay un concepto clave acá que convoca arte y que es el tema de las horas de colaboración. Las horas de colaboración hay funcionarios que se les paga por más de una subvención, un funcionario que, a lo mejor, lo contrataron, este a lo mejor tiene de comproder un ejemplo de 40 horas que le dieron en su momento. A lo mejor tiene 20 por fondos de educación, 10 por integración y 10 por subvenciones por las preferenciales. Y entonces el sistema de nosotros de escachire que, como les dije en Ante, luego, lo voy a decir, como un poco, no es muy amigable que digamos, a ese funcionario en su totalidad, el fondo sale por 100 por ciento por educación. Y después, nosotros internamente estrenemos que devolver esa plata para poder ir subsanando esto y lamentablemente hoy en día en el proceso de rendición de cuentas, los fondos sep está muy inflada. Y eso es por tema de desconocimiento que las horas de colaboración no fueron cargadas como debiese ser en su momento. Estoy hablando de más de mil millones de pesos que los saldos al cierre del año pasado es como que existiera la plata en la cuenta corriente, y que es veralmente la realidad de otra. No está castada. ¿Qué pasa? ¿Puedo escuchar? Sí. ¿Me he equivocado? Ya, yo creo que cuando se definieron a los saldos no ha creeditado, siempre ha sido porque tenemos una vaste de hace muchos años. Y con respecto a los gastos sep, tenemos mil millones, los de 160 millones, que están rechazados por la superintendencia porque se dijo en una supervisión que no correspondían pagar esos dinero con se. Por eso se tiene este abastre grande, como también lo tiene su vención general, porque hay plata que se destino a sueldo y quedamos siempre con saldo, no ha creeditado, no alcanzamos a creer los saldos, no por el tiempo, sino porque no hay más plata. Entonces, la subvención pide alcanza para pagar los sueltos de pie completo, ser también, pero en su vención general es donde viene ese abastre, y aparece que hay mucha plata. Entonces, tenemos que acreditar 800 millones y en el banco hay 400. Y eso nos ha pasado ya varios años. Perfecto, como departamento, ¿qué medidas han tomado para que esto no vuelva a ocurrir o para poder sufrirse en la situación? ¿No, en sí? Porque están haciendo muchas cosas, o sea, han estado haciendo muchas cosas, hemos pedido que ahora con lo que Jorge está viendo de subir gastos que no fueron tomados en cuenta en algún momento, y vamos a minorar ese saldo que tenemos. No podemos, no gastamos en otras cosas, por ejemplo, en pie, se gasta casi todo en remuneraciones. No, contuttuvimos que dejar de tener los cursos especiales, porque nos pedían reconocimiento oficial actualizado, y eso significaba reacer parte del colegio. Por ejemplo, poner las salas de Kindle separada del resto y nos salía más caro a hacer una escuela nueva que tener los cursos especiales. Por lo tanto, ahí también va con la rendición pie. Entonces, siempre hemos tenido algún nuestro piezo. Hay niños que no reciben su vención. Hay niños que todavía estamos esperando. Yo hablo por los que hay curso en el salto de laaja que llegó a parte medio, salieron buenos alumnos en el año pasado, pero no están reconocidos todos los cursos. Entonces, ahí no se reciben ni su vención general ni su vención pie. Por lo tanto, tenemos ese arrastre y hay que pagar los profesores, hay que tener a toda la gente que corresponde ahí. Tenemos el proyecto ahí, por ejemplo, esa es una prioridad. Nos estamos procesos de compra de material de construcción, porque con mano de obra nuestra de caden d'ain, con la sección de obras de aquí del departamento, vamos a construir la sala de clases que está faltando, vamos a reciogén y guion pasillos, que es lo que faltaría para poder obtener los reconocimientos oficiales de nivel III y IV, y ya no traería su vención por aproximadamente unos 50 niños más. Perfecto. Gracias. Ambo, ¿por responder la consulta? Ahí también hay una situación que estamos en este preciso momento. Estamos en conversaciones, reuniones, pude, etcétera, porque hay unas dependencias que en años atrás fueron construidos y estaban destinadas para un estado de disimiento municipal, finalmente se le dio otro destino. Y hay una otra institución funcionando ahí y hay un comodato que termina ahora en enero del 2025. Nosotros nuestro departamento, la postura mía, como director de departamento y del departamento de mis colegas, es apoyar el requerimiento de la comunidad educativa del Liseo de Gagabrero, que está viviendo que no se renueve el seco comodato con esa otra institución y ellos puedan hacer uso esas dependencias, porque podría significar que ellos cuenten con... 4 zaras me decían el director para el próximo año y el mejor poder incorporar nuevos cursos, porque ellos tienen niños en lista de espera primero de día. Entonces este año hay una lista de espera como de 60 estudiantes y me comentaba el director, lo que significaría también poder aumentar la capacidad, la matrícula y por ente lo ingreso. Sí, sí que esas dos sería muy buenas noticias para nosotros. Para los años. Sí. No sé cuya. No sé cuya, no me días. Ahora sí, mucha gracia. Bueno, nos quedaba con tiempo si voy a tratar de seguir con el último tema que tenía, no me lo he visto, y eso sobre el control interno. Me emocionan que muchos cambios comienzan con esta audita y exame que fue contratada. Tienen esta audibilidad internas o externas ya establecieron de manera periódica o solamente se ganan de ser de manera inciental. Y le podemos comentar un poco sobre el uso de este mecanismo. No, después de la audicordia del verano del 2023, ¿sí? ¿Dónde se ratifica este tema? La observación del director de control y que había una situación compleja financiera acá, un déficit, ¿sí? No hemos tenido esta intervención. Después tu... En mayo, sí. Con charoría? En mayo. En mayo, a ver, yo dije, en mayo llegó la controloría. ¿Qué tuvo como dos meses de tutorial? No, no me acuerdo de este. Pero bastante tiempo. Ya raíz del preinforme video por el auditor que vino, lo se apolí fiscalizado. Ficalizado. Ahí surgió este informe 4,18,23, del cual nosotros ahora estamos a un recombiento. Estaba en el tema de preinforme, aún. No, no. El formes final llegó en diciembre. El formes final que me dice. Sí. Y es el... Imagino que viene con requerimiento, ¿verdad? Por el... Sí, sí. Estamos con un plazo nuevo de que es en julio. Y es el plazo final para poder ser una configuración con todos los vídeos. La observación, altamente, compleja, con usted. Habiendo dos observaciones, compleja que no es lo que nos tenían más complicado. Pero ya se ha avanzado bastante, sí que tenemos... La esperanza de que vamos a cumplir con los plazos y con una respuesta satisfactoria para construir. Sí, pero que te dé el paso. Sí. Y ahí le están lo que decía Jorge, que nos van a estar solicitando también que nos reapertúren la plataforma para subsanar rendiciones de los años de 2016 en adelante. Y eso, en eso Jorge ha estado trabajando y recopilando información y ha encontrado ante esos eventes que pueden mejorar... Esa rendición es precisamente. Perfecto, mucha grecia de Carlos. Y luego que bien, conocíme completamos la mayoría de los temas que quería revisar. Así que tienen algún comentario final sobre... Quizás, buenas prácticas que han identificado en el último tiempo o desafíos más complejos relacionados a estos precios que han tenido terreclusos o el mencionado posiblemente que se te podrían tener como municipios. No sé si los chiquillos quieren que hicieran agregar algo más. Yo quise hacer una pequeña reflexión en base a lo que yo siento que es muy importante en este tema que a lo mejor no es una. No es un comentario muy técnico, sino que más bien de la visión que yo tengo como profesor, yo soy profesor y en lo que llevo de año trabajando casi y también me esperí hacer el colegio de trabajante. Yo creo que contó este tema de los recursos públicos para que se han bien administrado y bien ejecutado. Siento que es primordial que las personas que estamos acá hubo somos responsables de donde tenemos que generar buenos de equipo de trabajo. Yo creo que es que generar buenos de equipo de trabajo, es muy importante para poder hacer las cosas bien. Este equipo de trabajo tiene que ser de confianza. Tiene que ser un equipo con la con la con tema valorico, moral y ético, intachable, vamos a día. Yo siento que cuando yo tomo conciencia de que estoy manejando recursos que no son míos, y yo no puedo adiar trecinías para tomar decisiones y definir acciones o iniciativas de inversión a mi antojo. Y yo me doy cuenta de que estoy respondiendo a una comunidad a la de personas que son ellos, los que tienen la necesidad que son básicamente los estudiantes, liberados por profesionales adultos y por los apoderados tardidos con sus directivos, etcétera. Entonces cuando yo siento, le tomo el peso a esa responsabilidad, yo creo que uno hace las cosas bien. Cuando uno lo toma la ligera y piensa que la plata es de uno y que uno puede hacer es hacer bien en los que se cometen errores. Cuando uno no conforma buenos de equipo y cuando uno toma decisiones a tojaisas y las toma uno sin consultar, hoy yo soy profesor. Yo no puedo tomar una decisión que tenga que ver probablemente concept sin antes o en las mismas rendiciones en los procesos sin antes conversar con forje, que es el experto. Entonces yo no puedo tomar decisiones o decir que esto si no vamos a comprar o a esta persona, si la vamos a contratar o esto si no vamos a pagar, si antes tenemos una conversación con la jefe de financiación y tengo que tener la capacidad de aceptar uno, tengo que tener la capacidad de reenroimentar en este diálogo, cierto, de ir de vuelta, yo puedo estar equivocado y tengo que, digamos, acatar lo que la persona, el experto me estaba diciendo. Entonces yo creo que cuando eso se dan y uno genera su equipo de trabajo y el compromiso es hacer las cosas bien, uno sabe a lo que no tiene mucho problema. Entonces en esa camina estamos, nosotros estamos conformando un trabajo que a lo mejor gran proyección no tiene porque el 2017 cierto en el enero ya vamos a hacer parte de los leflos copinos, 27, tener un 2017. Pero el nuestro gran desafío es salir adelante en esta situación de déficit no como el tenerrores voluntarios por eso porque todos nos podemos equivocar. Pero a conciencia es cierto en conocimiento de todo y haciendo el normal, no, eso nos puede pasar. Entonces de aquí a estos dos años en medio y tratar de dejar una huella de que hicimos una gente transparente tratando de subsanar situaciones que vienen de arrastre, que las asumimos si viene cierto, no nos sentimos a lo mejor responsable de lo que ocurrió, pero sí somos responsables de tratarle, avanzar con ellos y tratar de subsanal y mejorando. Entonces creo que ese es el mensaje y yo le he terminado mi hipoga, que es un entro a la puerta y sale a la puerta y salir con la frente. Por lo menos cierto de haber intentado hacer lo mejor posible, en pon de los estudiantes de la comunidad, que en el fondo, yo soy de la comunidad estudiante de la comunidad, cada colegio público o algo de ese cariño también por mi gente, por mi comuna de gabarero, y ese compromiso tiene que traducirse en acciones y la acción es obrar y actuar bien. Creo que eso es un demastar, ¿no se? Muchas gracias Carlos, leticia Nancy, algún comentario porje. No, yo me sumo a las palabras de Don Carlos que efectivamente nuestra misión por así decirlo, salida adelante, yo no habíamos conversado llegar hasta el término donde va a estar en su educación, dejando una huella pero de que hicimos las cosas bien, ¿no? No, no, no, no saliendo con la cabeza. Ya, por así decir, sino que bien, por lo menos tenga su infraestructura con por el fondo, es lo que más pueda hacer con los recursos apotados y que la educación se mantenga de calidad. Y obviamente para eso, como dice Don Carlos, hay que servir, me también en algunas cosas y decir que no, cuando por el fondo, o bien conversarlo con... No sé, por confitar el fondo, pero acá igual hay una situación compleja porque hay mucho requerimiento por parte de los establecimientos que igual son válidos, porque siempre se hizo eso, o sea, es como una práctica que se da, en muchos años, en periores y acá lamentablemente producto al déjito de recringir mucho el tema de las compras y de los... se empezó a trabajar como inusiosamente al caño, por así decirlo, con cada orden de pedido y solicitud, viendo con lupa lo que se puede comprar y lo que no, pero yo creo que igual los establecimientos están como tomando un poco de concidencia, pero así decirlo, de que estamos en una situación compleja y la idea es de salir adelante de todo, como un íbamos como el equipo, porque sólo no podríamos, en un trabajo un conjunto. Y a eso suma el trabajo de Senat que ahora están asumiendo mi colega acá, que yo igual he delegado a alguna responsabilidad y para ir entregando y acortando todos los antecedentes a la dep y acá se acreditó igual por el tema de la des municipalización del cargo de estas pasas de deslés de un trabajo adicional que queremos entregar una escuela y disllicción municipal de como un escadriero lo mejor posible al deslés, no pasar puros cachos de no que tratar de pasar los más ordenados posible todo el sistema nuestro, acá en la comuna. Nancy, ¿por qué algún comentario? Mira, yo quería el primero, decir que me da mucho gusto verte y zela porque tu siempre no ha ayudado mucho y cuando tenemos una duda y siempre está después a ayudar. Matías, creo que no nos conocíamos. Tus trabajas en concepción igual o estás en Santiago. No, dice de la dirección nacional. Ya, ya. Solo agradecer, agradecer que no hayan tomado cuentas, que no nos olviden de que nosotros queremos hacerlo mejor y que esperamos que en este etapa en que se va a poder subir cosas que antes no tenían la rendición, podríamos equipar dar un poco más las cosas. Así que agradecidos que no hayan tomado en cuenta para esta entrevista. Señor Anancy, bueno, ahí la agradezco sus palabras y claro, vienen plataformas de rectificación como agosto septiembre, ya se estaba preparándose y que espero que ahí puedan ir corregiendo su acreditación de saldo. Y hay cualquier duda que tengan, ya tienen mis contactos, me pueden por teléfono o correo. Ya. Hay una duda, dice la con su. Apes de todo lo año si yo sien agosto, o sea, no hay una forma, hay una excepción, pero nosotros sioño que es para todos. Para todos. Ya. O sea, no solo si quisieramos aperturar antes, no hay una excepción. Es que no, porque estamos preparando las plataformas todavía. Por eso es como algo masivo, hacemos problemas de la plataforma y ahí se habilita, pero para todos los sostenerán mismo tiempo. Generalmente son unas tres semanas a Brooks. Y eso es desde el año 2016. No, no es el año que pasó de rendición más cuatro periódos hacia atrás. También, también del año adelante. Y no importa que nosotros hayamos participado en otros periódos de rectificación. Sí, claro, o sea eso de lo oficio ya no sé si, ya, para que estén tranquilos puede ser la hora. Y ahora con respecto, yo sé que hay gastos más antiguos, lo mejor que ustedes quieren arreglar. Un dado que van a pasar a ser el servicio local. Ya ahí nosotros usamos un proceso que se llama determinación de salvos finales, un proceso excepcional, y ahí se abre la plataforma de periódos hasta el año 2008. O sea, hay más flexibilidad como para dejar todo más o menos ordenado. ¿Ya? Pero ¿pas el cuando ya estemos a punto de edad ir? ¿No? Es que lamentablemente sí. Por ejemplo, me pasó con el servicio local de Acá de Conce. Y ahí nos genera la complejidad que a mucha gente se va y queda una persona en cargo de esto. O es en lo que dan a alguien. Entonces, ahí yo no sé si pueden gestionar usted. ¿Cómo planificar eso? Porque si bien desaparece el departamento de educación, pero van a seguir quizás fiscalizaciones o arreglar estos salditos chiquititos por un tiempo. Entonces, la experiencia de acá, el que nos dejaron a nadie en algunos municipios, y en otro dejaron una persona. Porque si no con quién vamos a tener que interactor nosotros y después los saldos, nosotros lo informamos al ministerio y se los van a cobrar. Pues no se la idea de dejarlo más adecuado posible respecto a lo que es rendición de cuentas rectificaciones. Ahí no sé si pueden tener eso en consideración para cuando todavía les faltar, pero ya en algún momento va a llegar el plazo en que tengan que ser traspasado. ¿Ya? Es la situación porque como no todo, vamos a hacer un libro que alguno indemizado, otros traspasados, es muy difícil tener que ver. Lo que nosotros sabemos es que claro como funcionarios da en tres. Es culpa en el. Si os fue un poco de la de la objetiva de la entrevista, así que voy a parar la grabación o si no va a seguir transcribiendo, y después puede disfrutar de la análisis respecto a las preguntas que tenia en mis celmente. Pero eso no quiere que podamos seguir conversando después, con un segundo. Ya no se podemos, yo quiero aclarar una.\""
            ],
            "application/vnd.google.colaboratory.intrinsic+json": {
              "type": "string"
            }
          },
          "metadata": {},
          "execution_count": 12
        }
      ]
    }
  ]
}