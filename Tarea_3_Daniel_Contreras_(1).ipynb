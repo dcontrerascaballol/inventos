{
  "cells": [
    {
      "cell_type": "markdown",
      "metadata": {
        "id": "view-in-github",
        "colab_type": "text"
      },
      "source": [
        "<a href=\"https://colab.research.google.com/github/dcontrerascaballol/inventos/blob/main/Tarea_3_Daniel_Contreras_(1).ipynb\" target=\"_parent\"><img src=\"https://colab.research.google.com/assets/colab-badge.svg\" alt=\"Open In Colab\"/></a>"
      ]
    },
    {
      "cell_type": "markdown",
      "metadata": {
        "id": "k1BkPYrxJi_i"
      },
      "source": [
        "## Tarea N° 3 Curso Análisis y Limpieza de datos.\n",
        "## Posgrado en Data Science UDD\n",
        "\n",
        "### Profesor responsable: Jorge Alexis Castillo Sepúlveda\n",
        "\n",
        "### Alumno: Daniel Contreras Caballol"
      ]
    },
    {
      "cell_type": "code",
      "execution_count": null,
      "metadata": {
        "id": "iz3oLHNEJi_j"
      },
      "outputs": [],
      "source": [
        "# Importación de librerías a utilizar\n",
        "import numpy as np\n",
        "import pandas as pd\n",
        "import matplotlib.pyplot as plt\n",
        "import seaborn as sns"
      ]
    },
    {
      "cell_type": "markdown",
      "metadata": {
        "id": "X4knbgkgJi_k"
      },
      "source": [
        "## Creando la data\n",
        "\n",
        "#### Cada estudiante analizará un set de datos distinto, ya que cada uno/una generará su propia muestra de análisis.\n",
        "\n",
        "### 1.Usar la librería numpy y el método random.choice para generar una matriz de datos aleatorios de 500 filas y 6 columnas, en donde las entradas sean números enteros tengan como máximo valor 10000.\n",
        "\n",
        "#### Esto significará que tiene 500 clientes que compran 6 categoríasde productos distintos, en donde cada uno compró entre 1 y 10000 unidades en cierto periodo de tiempo.\n",
        "\n",
        "* Se utiliza método random choice de la librería numpy"
      ]
    },
    {
      "cell_type": "code",
      "execution_count": null,
      "metadata": {
        "id": "J5saIpnMJi_l"
      },
      "outputs": [],
      "source": [
        "matriz_datos_random= np.random.choice(10000, (500,6), replace=True)"
      ]
    },
    {
      "cell_type": "markdown",
      "metadata": {
        "id": "201t_-7fJi_l"
      },
      "source": [
        "##### 2.Las categorías de productos son “vegetales”, “leche”, “abarrotes”, “congelados”,”limpieza”, “gourmet”. Nombre las columnas en el orden que usted quiera."
      ]
    },
    {
      "cell_type": "markdown",
      "metadata": {
        "id": "SeTBZChrJi_l"
      },
      "source": [
        "* Posterior a la creación de la matriz se procede a crear el dataframe con los nombres de columnas solicitados\n",
        "\n",
        "* Se utilizan métodos para realizar una exploración descriptiva de los datos\n",
        "\n",
        "* Se identifica que hay 500 productos por columna (6)."
      ]
    },
    {
      "cell_type": "code",
      "execution_count": null,
      "metadata": {
        "id": "RCa1FdFxJi_l"
      },
      "outputs": [],
      "source": [
        "pd_data = pd.DataFrame(matriz_datos_random, columns=[ \"leche\", \"congelados\", \"vegetales\",\"abarrotes\", \"limpieza\",\"gourmet\"])"
      ]
    },
    {
      "cell_type": "code",
      "execution_count": null,
      "metadata": {
        "id": "FVrY0COAJi_m",
        "outputId": "4a60ed05-29d3-407f-b79c-db900f83e76b"
      },
      "outputs": [
        {
          "data": {
            "text/html": [
              "<div>\n",
              "<style scoped>\n",
              "    .dataframe tbody tr th:only-of-type {\n",
              "        vertical-align: middle;\n",
              "    }\n",
              "\n",
              "    .dataframe tbody tr th {\n",
              "        vertical-align: top;\n",
              "    }\n",
              "\n",
              "    .dataframe thead th {\n",
              "        text-align: right;\n",
              "    }\n",
              "</style>\n",
              "<table border=\"1\" class=\"dataframe\">\n",
              "  <thead>\n",
              "    <tr style=\"text-align: right;\">\n",
              "      <th></th>\n",
              "      <th>leche</th>\n",
              "      <th>congelados</th>\n",
              "      <th>vegetales</th>\n",
              "      <th>abarrotes</th>\n",
              "      <th>limpieza</th>\n",
              "      <th>gourmet</th>\n",
              "    </tr>\n",
              "  </thead>\n",
              "  <tbody>\n",
              "    <tr>\n",
              "      <th>0</th>\n",
              "      <td>6759</td>\n",
              "      <td>1588</td>\n",
              "      <td>7659</td>\n",
              "      <td>9004</td>\n",
              "      <td>2716</td>\n",
              "      <td>2213</td>\n",
              "    </tr>\n",
              "    <tr>\n",
              "      <th>1</th>\n",
              "      <td>7863</td>\n",
              "      <td>5140</td>\n",
              "      <td>9883</td>\n",
              "      <td>8666</td>\n",
              "      <td>8672</td>\n",
              "      <td>70</td>\n",
              "    </tr>\n",
              "    <tr>\n",
              "      <th>2</th>\n",
              "      <td>6031</td>\n",
              "      <td>2410</td>\n",
              "      <td>9576</td>\n",
              "      <td>1611</td>\n",
              "      <td>3983</td>\n",
              "      <td>6804</td>\n",
              "    </tr>\n",
              "    <tr>\n",
              "      <th>3</th>\n",
              "      <td>5478</td>\n",
              "      <td>5551</td>\n",
              "      <td>9573</td>\n",
              "      <td>6811</td>\n",
              "      <td>1775</td>\n",
              "      <td>4719</td>\n",
              "    </tr>\n",
              "    <tr>\n",
              "      <th>4</th>\n",
              "      <td>1808</td>\n",
              "      <td>2468</td>\n",
              "      <td>8152</td>\n",
              "      <td>6319</td>\n",
              "      <td>7596</td>\n",
              "      <td>3969</td>\n",
              "    </tr>\n",
              "  </tbody>\n",
              "</table>\n",
              "</div>"
            ],
            "text/plain": [
              "   leche  congelados  vegetales  abarrotes  limpieza  gourmet\n",
              "0   6759        1588       7659       9004      2716     2213\n",
              "1   7863        5140       9883       8666      8672       70\n",
              "2   6031        2410       9576       1611      3983     6804\n",
              "3   5478        5551       9573       6811      1775     4719\n",
              "4   1808        2468       8152       6319      7596     3969"
            ]
          },
          "execution_count": 4,
          "metadata": {},
          "output_type": "execute_result"
        }
      ],
      "source": [
        "pd_data.head(5)"
      ]
    },
    {
      "cell_type": "code",
      "execution_count": null,
      "metadata": {
        "id": "fsOSlh2jJi_m",
        "outputId": "ef88e4f1-8882-478c-dafd-bce9e8de254b"
      },
      "outputs": [
        {
          "data": {
            "text/html": [
              "<div>\n",
              "<style scoped>\n",
              "    .dataframe tbody tr th:only-of-type {\n",
              "        vertical-align: middle;\n",
              "    }\n",
              "\n",
              "    .dataframe tbody tr th {\n",
              "        vertical-align: top;\n",
              "    }\n",
              "\n",
              "    .dataframe thead th {\n",
              "        text-align: right;\n",
              "    }\n",
              "</style>\n",
              "<table border=\"1\" class=\"dataframe\">\n",
              "  <thead>\n",
              "    <tr style=\"text-align: right;\">\n",
              "      <th></th>\n",
              "      <th>leche</th>\n",
              "      <th>congelados</th>\n",
              "      <th>vegetales</th>\n",
              "      <th>abarrotes</th>\n",
              "      <th>limpieza</th>\n",
              "      <th>gourmet</th>\n",
              "    </tr>\n",
              "  </thead>\n",
              "  <tbody>\n",
              "    <tr>\n",
              "      <th>count</th>\n",
              "      <td>500.000000</td>\n",
              "      <td>500.000000</td>\n",
              "      <td>500.000000</td>\n",
              "      <td>500.000000</td>\n",
              "      <td>500.000000</td>\n",
              "      <td>500.000000</td>\n",
              "    </tr>\n",
              "    <tr>\n",
              "      <th>mean</th>\n",
              "      <td>4888.998000</td>\n",
              "      <td>5262.062000</td>\n",
              "      <td>5126.776000</td>\n",
              "      <td>4919.178000</td>\n",
              "      <td>4884.230000</td>\n",
              "      <td>4942.952000</td>\n",
              "    </tr>\n",
              "    <tr>\n",
              "      <th>std</th>\n",
              "      <td>2840.827538</td>\n",
              "      <td>2874.900554</td>\n",
              "      <td>2912.215441</td>\n",
              "      <td>2857.841142</td>\n",
              "      <td>2882.410315</td>\n",
              "      <td>2805.202545</td>\n",
              "    </tr>\n",
              "    <tr>\n",
              "      <th>min</th>\n",
              "      <td>36.000000</td>\n",
              "      <td>5.000000</td>\n",
              "      <td>26.000000</td>\n",
              "      <td>4.000000</td>\n",
              "      <td>16.000000</td>\n",
              "      <td>33.000000</td>\n",
              "    </tr>\n",
              "    <tr>\n",
              "      <th>25%</th>\n",
              "      <td>2538.500000</td>\n",
              "      <td>2859.500000</td>\n",
              "      <td>2719.000000</td>\n",
              "      <td>2459.750000</td>\n",
              "      <td>2393.750000</td>\n",
              "      <td>2428.250000</td>\n",
              "    </tr>\n",
              "    <tr>\n",
              "      <th>50%</th>\n",
              "      <td>4991.500000</td>\n",
              "      <td>5369.500000</td>\n",
              "      <td>5340.000000</td>\n",
              "      <td>4802.500000</td>\n",
              "      <td>4825.500000</td>\n",
              "      <td>4979.500000</td>\n",
              "    </tr>\n",
              "    <tr>\n",
              "      <th>75%</th>\n",
              "      <td>7274.750000</td>\n",
              "      <td>7831.250000</td>\n",
              "      <td>7716.500000</td>\n",
              "      <td>7269.500000</td>\n",
              "      <td>7415.750000</td>\n",
              "      <td>7223.000000</td>\n",
              "    </tr>\n",
              "    <tr>\n",
              "      <th>max</th>\n",
              "      <td>9981.000000</td>\n",
              "      <td>9986.000000</td>\n",
              "      <td>9974.000000</td>\n",
              "      <td>9992.000000</td>\n",
              "      <td>9989.000000</td>\n",
              "      <td>9985.000000</td>\n",
              "    </tr>\n",
              "  </tbody>\n",
              "</table>\n",
              "</div>"
            ],
            "text/plain": [
              "             leche   congelados    vegetales    abarrotes     limpieza  \\\n",
              "count   500.000000   500.000000   500.000000   500.000000   500.000000   \n",
              "mean   4888.998000  5262.062000  5126.776000  4919.178000  4884.230000   \n",
              "std    2840.827538  2874.900554  2912.215441  2857.841142  2882.410315   \n",
              "min      36.000000     5.000000    26.000000     4.000000    16.000000   \n",
              "25%    2538.500000  2859.500000  2719.000000  2459.750000  2393.750000   \n",
              "50%    4991.500000  5369.500000  5340.000000  4802.500000  4825.500000   \n",
              "75%    7274.750000  7831.250000  7716.500000  7269.500000  7415.750000   \n",
              "max    9981.000000  9986.000000  9974.000000  9992.000000  9989.000000   \n",
              "\n",
              "           gourmet  \n",
              "count   500.000000  \n",
              "mean   4942.952000  \n",
              "std    2805.202545  \n",
              "min      33.000000  \n",
              "25%    2428.250000  \n",
              "50%    4979.500000  \n",
              "75%    7223.000000  \n",
              "max    9985.000000  "
            ]
          },
          "execution_count": 5,
          "metadata": {},
          "output_type": "execute_result"
        }
      ],
      "source": [
        "pd_data.describe()"
      ]
    },
    {
      "cell_type": "code",
      "execution_count": null,
      "metadata": {
        "id": "ENYsHIHSJi_m",
        "outputId": "d0a71728-6bcc-4c9a-d992-872bbb83d94e"
      },
      "outputs": [
        {
          "data": {
            "text/plain": [
              "(500, 6)"
            ]
          },
          "execution_count": 6,
          "metadata": {},
          "output_type": "execute_result"
        }
      ],
      "source": [
        "pd_data.shape"
      ]
    },
    {
      "cell_type": "code",
      "execution_count": null,
      "metadata": {
        "scrolled": true,
        "id": "FKWBe5TJJi_n",
        "outputId": "4383849f-2327-48d6-cd78-a4d253625b97"
      },
      "outputs": [
        {
          "name": "stdout",
          "output_type": "stream",
          "text": [
            "<class 'pandas.core.frame.DataFrame'>\n",
            "RangeIndex: 500 entries, 0 to 499\n",
            "Data columns (total 6 columns):\n",
            " #   Column      Non-Null Count  Dtype\n",
            "---  ------      --------------  -----\n",
            " 0   leche       500 non-null    int32\n",
            " 1   congelados  500 non-null    int32\n",
            " 2   vegetales   500 non-null    int32\n",
            " 3   abarrotes   500 non-null    int32\n",
            " 4   limpieza    500 non-null    int32\n",
            " 5   gourmet     500 non-null    int32\n",
            "dtypes: int32(6)\n",
            "memory usage: 11.8 KB\n"
          ]
        }
      ],
      "source": [
        "pd_data.info()"
      ]
    },
    {
      "cell_type": "code",
      "execution_count": null,
      "metadata": {
        "scrolled": true,
        "id": "PALVzaVbJi_n",
        "outputId": "1886f798-02a2-481f-ca72-623998e768f0"
      },
      "outputs": [
        {
          "data": {
            "text/plain": [
              "<matplotlib.axes._subplots.AxesSubplot at 0x21aaa1e1430>"
            ]
          },
          "execution_count": 8,
          "metadata": {},
          "output_type": "execute_result"
        },
        {
          "data": {
            "image/png": "[encoded data removed]",
            "text/plain": [
              "<Figure size 432x288 with 1 Axes>"
            ]
          },
          "metadata": {
            "needs_background": "light"
          },
          "output_type": "display_data"
        }
      ],
      "source": [
        "pd_data.boxplot()"
      ]
    },
    {
      "cell_type": "markdown",
      "metadata": {
        "id": "CZXTYgiYJi_n"
      },
      "source": [
        "## Preparando lo datos\n",
        "\n",
        "### 3. Normalizar los datos. (posteriormente se explica mediante anuncios que la referencia es estandarizar)"
      ]
    },
    {
      "cell_type": "code",
      "execution_count": null,
      "metadata": {
        "id": "NkbJTIczJi_n"
      },
      "outputs": [],
      "source": [
        "#se importa la libreria a utilizar\n",
        "\n",
        "from sklearn.preprocessing import StandardScaler"
      ]
    },
    {
      "cell_type": "code",
      "execution_count": null,
      "metadata": {
        "scrolled": true,
        "id": "wxKKLYd3Ji_n",
        "outputId": "2d5908d9-48a4-438f-9f4d-bbca66afe0a0"
      },
      "outputs": [
        {
          "data": {
            "text/html": [
              "<div>\n",
              "<style scoped>\n",
              "    .dataframe tbody tr th:only-of-type {\n",
              "        vertical-align: middle;\n",
              "    }\n",
              "\n",
              "    .dataframe tbody tr th {\n",
              "        vertical-align: top;\n",
              "    }\n",
              "\n",
              "    .dataframe thead th {\n",
              "        text-align: right;\n",
              "    }\n",
              "</style>\n",
              "<table border=\"1\" class=\"dataframe\">\n",
              "  <thead>\n",
              "    <tr style=\"text-align: right;\">\n",
              "      <th></th>\n",
              "      <th>leche</th>\n",
              "      <th>congelados</th>\n",
              "      <th>vegetales</th>\n",
              "      <th>abarrotes</th>\n",
              "      <th>limpieza</th>\n",
              "      <th>gourmet</th>\n",
              "    </tr>\n",
              "  </thead>\n",
              "  <tbody>\n",
              "    <tr>\n",
              "      <th>0</th>\n",
              "      <td>0.658919</td>\n",
              "      <td>-1.279259</td>\n",
              "      <td>0.870389</td>\n",
              "      <td>1.430770</td>\n",
              "      <td>-0.752981</td>\n",
              "      <td>-0.974149</td>\n",
              "    </tr>\n",
              "    <tr>\n",
              "      <th>1</th>\n",
              "      <td>1.047927</td>\n",
              "      <td>-0.042500</td>\n",
              "      <td>1.634834</td>\n",
              "      <td>1.312380</td>\n",
              "      <td>1.315414</td>\n",
              "      <td>-1.738852</td>\n",
              "    </tr>\n",
              "    <tr>\n",
              "      <th>2</th>\n",
              "      <td>0.402399</td>\n",
              "      <td>-0.993049</td>\n",
              "      <td>1.529310</td>\n",
              "      <td>-1.158739</td>\n",
              "      <td>-0.312979</td>\n",
              "      <td>0.664092</td>\n",
              "    </tr>\n",
              "    <tr>\n",
              "      <th>3</th>\n",
              "      <td>0.207542</td>\n",
              "      <td>0.100604</td>\n",
              "      <td>1.528279</td>\n",
              "      <td>0.662639</td>\n",
              "      <td>-1.079771</td>\n",
              "      <td>-0.079914</td>\n",
              "    </tr>\n",
              "    <tr>\n",
              "      <th>4</th>\n",
              "      <td>-1.085629</td>\n",
              "      <td>-0.972855</td>\n",
              "      <td>1.039845</td>\n",
              "      <td>0.490309</td>\n",
              "      <td>0.941742</td>\n",
              "      <td>-0.347543</td>\n",
              "    </tr>\n",
              "  </tbody>\n",
              "</table>\n",
              "</div>"
            ],
            "text/plain": [
              "      leche  congelados  vegetales  abarrotes  limpieza   gourmet\n",
              "0  0.658919   -1.279259   0.870389   1.430770 -0.752981 -0.974149\n",
              "1  1.047927   -0.042500   1.634834   1.312380  1.315414 -1.738852\n",
              "2  0.402399   -0.993049   1.529310  -1.158739 -0.312979  0.664092\n",
              "3  0.207542    0.100604   1.528279   0.662639 -1.079771 -0.079914\n",
              "4 -1.085629   -0.972855   1.039845   0.490309  0.941742 -0.347543"
            ]
          },
          "execution_count": 10,
          "metadata": {},
          "output_type": "execute_result"
        }
      ],
      "source": [
        "scaler = StandardScaler()\n",
        "scaler.fit(pd_data)\n",
        "X_scale = scaler.transform(pd_data)\n",
        "data_scale = pd.DataFrame(X_scale, columns=pd_data.columns)\n",
        "data_scale.head()"
      ]
    },
    {
      "cell_type": "code",
      "execution_count": null,
      "metadata": {
        "id": "dwKmV9jCJi_n",
        "outputId": "b62a4349-f207-4be2-ab5c-682dec8d4c95"
      },
      "outputs": [
        {
          "data": {
            "text/plain": [
              "array([[ 0.65891885, -1.27925871,  0.87038891,  1.43076986, -0.75298145,\n",
              "        -0.97414929],\n",
              "       [ 1.04792721, -0.04250034,  1.6348335 ,  1.31238031,  1.3154142 ,\n",
              "        -1.73885208],\n",
              "       [ 0.40239884, -0.99304943,  1.5293099 , -1.15873871, -0.31297854,\n",
              "         0.66409174],\n",
              "       ...,\n",
              "       [-1.63390488,  1.47768183, -0.50107418,  1.07279911, -0.8075043 ,\n",
              "        -1.07085225],\n",
              "       [ 0.4263595 , -0.47738525, -0.24190547,  0.3789243 ,  0.4236009 ,\n",
              "         0.17165597],\n",
              "       [ 1.58457551,  1.33144351, -0.30824441,  0.48820695, -0.86862546,\n",
              "         0.41716018]])"
            ]
          },
          "execution_count": 11,
          "metadata": {},
          "output_type": "execute_result"
        }
      ],
      "source": [
        "data_scale.values"
      ]
    },
    {
      "cell_type": "markdown",
      "metadata": {
        "id": "M2eQS03eJi_o"
      },
      "source": [
        "* Dada la solicitud de estandarizar los datos de nuestro dataframe, se utiliza el método StandardScaler de la librería sklearn, posibilitando dar respuesta a la interrogante"
      ]
    },
    {
      "cell_type": "markdown",
      "metadata": {
        "id": "yPAowkoaJi_o"
      },
      "source": [
        "### 4. Remover outliers para cada categoría usando el rango intercuartil."
      ]
    },
    {
      "cell_type": "code",
      "execution_count": null,
      "metadata": {
        "id": "0DPfiV6MJi_o",
        "outputId": "a919f3a1-f203-4f42-f062-165f7905df08"
      },
      "outputs": [
        {
          "data": {
            "text/plain": [
              "[<matplotlib.lines.Line2D at 0x21aab29ebe0>]"
            ]
          },
          "execution_count": 12,
          "metadata": {},
          "output_type": "execute_result"
        },
        {
          "data": {
            "image/png": "[encoded data removed]",
            "text/plain": [
              "<Figure size 720x360 with 1 Axes>"
            ]
          },
          "metadata": {
            "needs_background": "light"
          },
          "output_type": "display_data"
        }
      ],
      "source": [
        "#Dada la multidemensionalidad de la matriz de datos,\n",
        "#se utiliza algoritmo de clusterización DBSCAN\n",
        "\n",
        "from sklearn.cluster import DBSCAN\n",
        "from sklearn.neighbors import NearestNeighbors\n",
        "\n",
        "plt.figure(figsize=(10,5))\n",
        "plt.title (\"Valor Epsilon\")\n",
        "neigh = NearestNeighbors(n_neighbors=2)\n",
        "nbrs = neigh.fit(data_scale)\n",
        "distances, indices = nbrs.kneighbors(data_scale)\n",
        "distances = np.sort(distances, axis=0)\n",
        "distances = distances[:,1]\n",
        "plt.plot(distances)"
      ]
    },
    {
      "cell_type": "code",
      "execution_count": null,
      "metadata": {
        "scrolled": false,
        "id": "gSaqUwDzJi_o",
        "outputId": "8248469f-9130-4f92-c70c-a6e372e55dc1"
      },
      "outputs": [
        {
          "data": {
            "image/png": "[encoded data removed]",
            "text/plain": [
              "<Figure size 720x360 with 1 Axes>"
            ]
          },
          "metadata": {
            "needs_background": "light"
          },
          "output_type": "display_data"
        }
      ],
      "source": [
        "plt.figure(figsize=(10,5))\n",
        "plt.title (\"Valor Epsilon\")\n",
        "nn = NearestNeighbors(n_neighbors=5).fit(data_scale)\n",
        "distances, idx = nn.kneighbors(data_scale)\n",
        "distances = np.sort(distances, axis=0)\n",
        "distances = distances[:,1]\n",
        "plt.plot(distances)\n",
        "plt.show()"
      ]
    },
    {
      "cell_type": "markdown",
      "metadata": {
        "id": "MXSIRovWJi_o"
      },
      "source": [
        "* Se utilizan algoritmo de Nearest Neighbors  para la elección del valor epsilón, en este caminos, nos da un valor de 1.5, como se puede apreciar en los precedentes gráficos"
      ]
    },
    {
      "cell_type": "code",
      "execution_count": null,
      "metadata": {
        "id": "ixOhl6m3Ji_o",
        "outputId": "94f14934-f2e9-4e03-b17e-5b9c7b0a2451"
      },
      "outputs": [
        {
          "name": "stdout",
          "output_type": "stream",
          "text": [
            "Número estimado de outliers: 0\n"
          ]
        }
      ],
      "source": [
        "covariance_matrix = np.cov(data_scale, rowvar=False)\n",
        "\n",
        "clustering = DBSCAN(eps=1.5, min_samples=1, metric='mahalanobis',\n",
        "                    metric_params={'V':covariance_matrix}).fit(data_scale)\n",
        "\n",
        "lista=clustering.labels_\n",
        "\n",
        "n_noise_ = list(lista).count(-1)\n",
        "\n",
        "print('Número estimado de outliers: %d' % n_noise_)"
      ]
    },
    {
      "cell_type": "markdown",
      "metadata": {
        "id": "Asp1B3GoJi_o"
      },
      "source": [
        "* Si bien, la solicitud es realizar la eliminación de outliers mediantes el uso del rango intercuartil, dada la matriz de datos, se sugirió utilizar algoritmo de DBSCAN. Para ello, se debe buscar un valor de epsilon, para lo cual, se utilizó el método NearestNeighbors.\n",
        "\n",
        "\n",
        "* Dado, tales procedimientos se arroja como resultado la no existencia de valores atípicos"
      ]
    },
    {
      "cell_type": "markdown",
      "metadata": {
        "id": "EqLNHQ_mJi_o"
      },
      "source": [
        "## Componentes principales\n",
        "\n",
        "### 5. Aplicar componentes principales a los datos resultantes luego de haber retirado outliers.\n",
        "##### Ojo: es sin reducir dimensiones aún."
      ]
    },
    {
      "cell_type": "code",
      "execution_count": null,
      "metadata": {
        "scrolled": true,
        "id": "98oiCIEfJi_o",
        "outputId": "7495b1f5-c2d6-41e9-b99d-9bd8603ad330"
      },
      "outputs": [
        {
          "data": {
            "text/plain": [
              "PCA()"
            ]
          },
          "execution_count": 15,
          "metadata": {},
          "output_type": "execute_result"
        }
      ],
      "source": [
        "from sklearn.decomposition import PCA\n",
        "\n",
        "data_pca=PCA ()\n",
        "data_pca.fit(data_scale)\n"
      ]
    },
    {
      "cell_type": "markdown",
      "metadata": {
        "id": "bbSw5_K5Ji_p"
      },
      "source": [
        "* Se utiliza el algortmo de reducción PCA de la librería sklearn"
      ]
    },
    {
      "cell_type": "markdown",
      "metadata": {
        "id": "MzMjjWnTJi_p"
      },
      "source": [
        "### 6.Interpretar cada dimensión respecto a las categorías, y las varianzas explicadas"
      ]
    },
    {
      "cell_type": "code",
      "execution_count": null,
      "metadata": {
        "id": "A5zC8-pmJi_p",
        "outputId": "9faace6b-7b0b-43ef-da24-a8f16b7a3755"
      },
      "outputs": [
        {
          "data": {
            "text/plain": [
              "Text(0.5, 0, 'Componentes')"
            ]
          },
          "execution_count": 16,
          "metadata": {},
          "output_type": "execute_result"
        },
        {
          "data": {
            "image/png": "[encoded data removed]",
            "text/plain": [
              "<Figure size 432x288 with 1 Axes>"
            ]
          },
          "metadata": {
            "needs_background": "light"
          },
          "output_type": "display_data"
        }
      ],
      "source": [
        "explained_variance=pd.DataFrame(data_pca.explained_variance_)\n",
        "ax=explained_variance.plot.bar(legend=False)\n",
        "ax.set_xlabel(\"Componentes\")"
      ]
    },
    {
      "cell_type": "code",
      "execution_count": null,
      "metadata": {
        "scrolled": true,
        "id": "4iA3Kz_tJi_p",
        "outputId": "42d6faea-94e0-44fb-cf2f-0335aee9b096"
      },
      "outputs": [
        {
          "data": {
            "text/plain": [
              "Text(0.5, 0, 'Componentes')"
            ]
          },
          "execution_count": 17,
          "metadata": {},
          "output_type": "execute_result"
        },
        {
          "data": {
            "image/png": "[encoded data removed]",
            "text/plain": [
              "<Figure size 432x288 with 1 Axes>"
            ]
          },
          "metadata": {
            "needs_background": "light"
          },
          "output_type": "display_data"
        }
      ],
      "source": [
        "explained_variance_ratio=pd.DataFrame(data_pca.explained_variance_ratio_)\n",
        "ax=explained_variance_ratio.plot.bar(legend=False)\n",
        "ax.set_xlabel(\"Componentes\")"
      ]
    },
    {
      "cell_type": "code",
      "execution_count": null,
      "metadata": {
        "id": "acmctcjsJi_p",
        "outputId": "bf2ef26b-3e9c-4e21-8c25-1184319d0be2"
      },
      "outputs": [
        {
          "data": {
            "text/plain": [
              "array([1.14919539, 1.08758975, 1.00630524, 0.96284509, 0.93501457,\n",
              "       0.87107401])"
            ]
          },
          "execution_count": 18,
          "metadata": {},
          "output_type": "execute_result"
        }
      ],
      "source": [
        "data_pca.explained_variance_"
      ]
    },
    {
      "cell_type": "code",
      "execution_count": null,
      "metadata": {
        "id": "zCca71iGJi_p",
        "outputId": "7ec657bf-d727-43b2-9d80-e06a5ed84d5e"
      },
      "outputs": [
        {
          "data": {
            "text/plain": [
              "array([0.1911495 , 0.18090243, 0.1673821 , 0.16015323, 0.15552409,\n",
              "       0.14488864])"
            ]
          },
          "execution_count": 19,
          "metadata": {},
          "output_type": "execute_result"
        }
      ],
      "source": [
        "data_pca.explained_variance_ratio_"
      ]
    },
    {
      "cell_type": "markdown",
      "metadata": {
        "id": "wM4N_lOLJi_p"
      },
      "source": []
    },
    {
      "cell_type": "markdown",
      "metadata": {
        "id": "DvVCKcFRJi_p"
      },
      "source": [
        "### 7. Reducir a dos dimensiones y graficar en el plano, en conjunto con todas las componentes.\n",
        "##### Interpretar estas componentes conjuntas con las direcciones de las dimensiones originales."
      ]
    },
    {
      "cell_type": "code",
      "execution_count": null,
      "metadata": {
        "id": "xeQGn-GQJi_p"
      },
      "outputs": [],
      "source": [
        "pca=PCA(n_components=2)\n",
        "data_fit=pca.fit(data_scale)\n",
        "data_trasf=pd.DataFrame(pca.fit_transform(data_scale))"
      ]
    },
    {
      "cell_type": "code",
      "execution_count": null,
      "metadata": {
        "id": "0eyXJDhuJi_p",
        "outputId": "e7a6aaa3-17ff-4f10-c1fd-48962ee7b912"
      },
      "outputs": [
        {
          "data": {
            "text/plain": [
              "array([0.1911495 , 0.18090243])"
            ]
          },
          "execution_count": 48,
          "metadata": {},
          "output_type": "execute_result"
        }
      ],
      "source": [
        "pca.explained_variance_ratio_"
      ]
    },
    {
      "cell_type": "markdown",
      "metadata": {
        "id": "kkMD9p2mJi_q"
      },
      "source": [
        "* De acuerdo a lo solicitado, se genera un pca con n_components= 2, posteriormente se calcula ratio de varianza, lo que nos entreja resultado similares al ejercicio precedente, aunque solo con las primeras dos compenentes, que en conjunto alcanzan casi un 38% de explicación del ratio de varianza."
      ]
    },
    {
      "cell_type": "code",
      "execution_count": null,
      "metadata": {
        "id": "93YUuxFGJi_q"
      },
      "outputs": [],
      "source": [
        "data_pca = pd.DataFrame(pca.components_, columns=pd_data.columns)"
      ]
    },
    {
      "cell_type": "code",
      "execution_count": null,
      "metadata": {
        "id": "68H0b3EzJi_q",
        "outputId": "9644525d-f1c8-40b6-c40c-98528960a89f"
      },
      "outputs": [
        {
          "data": {
            "text/html": [
              "<div>\n",
              "<style scoped>\n",
              "    .dataframe tbody tr th:only-of-type {\n",
              "        vertical-align: middle;\n",
              "    }\n",
              "\n",
              "    .dataframe tbody tr th {\n",
              "        vertical-align: top;\n",
              "    }\n",
              "\n",
              "    .dataframe thead th {\n",
              "        text-align: right;\n",
              "    }\n",
              "</style>\n",
              "<table border=\"1\" class=\"dataframe\">\n",
              "  <thead>\n",
              "    <tr style=\"text-align: right;\">\n",
              "      <th></th>\n",
              "      <th>leche</th>\n",
              "      <th>congelados</th>\n",
              "      <th>vegetales</th>\n",
              "      <th>abarrotes</th>\n",
              "      <th>limpieza</th>\n",
              "      <th>gourmet</th>\n",
              "    </tr>\n",
              "  </thead>\n",
              "  <tbody>\n",
              "    <tr>\n",
              "      <th>0</th>\n",
              "      <td>0.076163</td>\n",
              "      <td>-0.378455</td>\n",
              "      <td>0.520570</td>\n",
              "      <td>0.323665</td>\n",
              "      <td>0.421058</td>\n",
              "      <td>-0.545830</td>\n",
              "    </tr>\n",
              "    <tr>\n",
              "      <th>1</th>\n",
              "      <td>-0.697749</td>\n",
              "      <td>0.228071</td>\n",
              "      <td>0.179574</td>\n",
              "      <td>-0.563484</td>\n",
              "      <td>0.170282</td>\n",
              "      <td>-0.287008</td>\n",
              "    </tr>\n",
              "  </tbody>\n",
              "</table>\n",
              "</div>"
            ],
            "text/plain": [
              "      leche  congelados  vegetales  abarrotes  limpieza   gourmet\n",
              "0  0.076163   -0.378455   0.520570   0.323665  0.421058 -0.545830\n",
              "1 -0.697749    0.228071   0.179574  -0.563484  0.170282 -0.287008"
            ]
          },
          "execution_count": 40,
          "metadata": {},
          "output_type": "execute_result"
        }
      ],
      "source": [
        "data_pca"
      ]
    },
    {
      "cell_type": "markdown",
      "metadata": {
        "id": "Mjftw9KDJi_q"
      },
      "source": [
        "## Segmentación de clientes\n",
        "\n",
        "### 8. Aplicar un método de clusterización a la data reducida, en donde el número de clusters debe ser óptimo de acuerdo al coeficiente de silhouettesi usa k-means o alguna extensión de éste."
      ]
    },
    {
      "cell_type": "markdown",
      "metadata": {
        "id": "zIcMpxnPJi_s"
      },
      "source": [
        "* Para realizar lo requerido se deben importar las librerías correspondientes de manera de poder identificar el número adecuado de clusters."
      ]
    },
    {
      "cell_type": "code",
      "execution_count": null,
      "metadata": {
        "id": "YIGSJOa0Ji_t"
      },
      "outputs": [],
      "source": [
        "#se importan las librerías requeridas\n",
        "\n",
        "from sklearn.cluster import KMeans\n",
        "from sklearn.metrics import silhouette_score"
      ]
    },
    {
      "cell_type": "code",
      "execution_count": null,
      "metadata": {
        "id": "9ABNQIqVJi_t",
        "outputId": "58bd4aeb-d811-4052-f824-3535301981c7"
      },
      "outputs": [
        {
          "data": {
            "text/html": [
              "<div>\n",
              "<style scoped>\n",
              "    .dataframe tbody tr th:only-of-type {\n",
              "        vertical-align: middle;\n",
              "    }\n",
              "\n",
              "    .dataframe tbody tr th {\n",
              "        vertical-align: top;\n",
              "    }\n",
              "\n",
              "    .dataframe thead th {\n",
              "        text-align: right;\n",
              "    }\n",
              "</style>\n",
              "<table border=\"1\" class=\"dataframe\">\n",
              "  <thead>\n",
              "    <tr style=\"text-align: right;\">\n",
              "      <th></th>\n",
              "      <th>0</th>\n",
              "      <th>1</th>\n",
              "    </tr>\n",
              "  </thead>\n",
              "  <tbody>\n",
              "    <tr>\n",
              "      <th>count</th>\n",
              "      <td>5.000000e+02</td>\n",
              "      <td>5.000000e+02</td>\n",
              "    </tr>\n",
              "    <tr>\n",
              "      <th>mean</th>\n",
              "      <td>1.110223e-18</td>\n",
              "      <td>2.620126e-17</td>\n",
              "    </tr>\n",
              "    <tr>\n",
              "      <th>std</th>\n",
              "      <td>1.072005e+00</td>\n",
              "      <td>1.042876e+00</td>\n",
              "    </tr>\n",
              "    <tr>\n",
              "      <th>min</th>\n",
              "      <td>-2.587435e+00</td>\n",
              "      <td>-2.891167e+00</td>\n",
              "    </tr>\n",
              "    <tr>\n",
              "      <th>25%</th>\n",
              "      <td>-7.825573e-01</td>\n",
              "      <td>-7.142299e-01</td>\n",
              "    </tr>\n",
              "    <tr>\n",
              "      <th>50%</th>\n",
              "      <td>-2.414657e-02</td>\n",
              "      <td>-4.931245e-06</td>\n",
              "    </tr>\n",
              "    <tr>\n",
              "      <th>75%</th>\n",
              "      <td>7.238664e-01</td>\n",
              "      <td>7.308289e-01</td>\n",
              "    </tr>\n",
              "    <tr>\n",
              "      <th>max</th>\n",
              "      <td>3.093934e+00</td>\n",
              "      <td>2.925928e+00</td>\n",
              "    </tr>\n",
              "  </tbody>\n",
              "</table>\n",
              "</div>"
            ],
            "text/plain": [
              "                  0             1\n",
              "count  5.000000e+02  5.000000e+02\n",
              "mean   1.110223e-18  2.620126e-17\n",
              "std    1.072005e+00  1.042876e+00\n",
              "min   -2.587435e+00 -2.891167e+00\n",
              "25%   -7.825573e-01 -7.142299e-01\n",
              "50%   -2.414657e-02 -4.931245e-06\n",
              "75%    7.238664e-01  7.308289e-01\n",
              "max    3.093934e+00  2.925928e+00"
            ]
          },
          "execution_count": 56,
          "metadata": {},
          "output_type": "execute_result"
        }
      ],
      "source": [
        "data_trasf.describe()"
      ]
    },
    {
      "cell_type": "markdown",
      "metadata": {
        "id": "qKjI2C6BJi_t"
      },
      "source": [
        "* Se realiza un describe de los componentes para conocer sus caractarísticas"
      ]
    },
    {
      "cell_type": "code",
      "execution_count": null,
      "metadata": {
        "id": "Usr9ZDzpJi_t"
      },
      "outputs": [],
      "source": [
        "results = []\n",
        "for n in range(2, 12):\n",
        "    clusters = KMeans(n_clusters=n).fit_predict(data_trasf)\n",
        "    silhoutte_ = silhouette_score(data_trasf, clusters)\n",
        "\n",
        "    results.append({'N': n, 'silhoutte': silhoutte_})"
      ]
    },
    {
      "cell_type": "code",
      "execution_count": null,
      "metadata": {
        "id": "sHFmIXKOJi_t",
        "outputId": "90741d3d-3526-48c7-9c9f-c50351004ea9"
      },
      "outputs": [
        {
          "data": {
            "text/html": [
              "<div>\n",
              "<style scoped>\n",
              "    .dataframe tbody tr th:only-of-type {\n",
              "        vertical-align: middle;\n",
              "    }\n",
              "\n",
              "    .dataframe tbody tr th {\n",
              "        vertical-align: top;\n",
              "    }\n",
              "\n",
              "    .dataframe thead th {\n",
              "        text-align: right;\n",
              "    }\n",
              "</style>\n",
              "<table border=\"1\" class=\"dataframe\">\n",
              "  <thead>\n",
              "    <tr style=\"text-align: right;\">\n",
              "      <th></th>\n",
              "      <th>silhoutte</th>\n",
              "    </tr>\n",
              "    <tr>\n",
              "      <th>N</th>\n",
              "      <th></th>\n",
              "    </tr>\n",
              "  </thead>\n",
              "  <tbody>\n",
              "    <tr>\n",
              "      <th>2</th>\n",
              "      <td>0.322877</td>\n",
              "    </tr>\n",
              "    <tr>\n",
              "      <th>3</th>\n",
              "      <td>0.342039</td>\n",
              "    </tr>\n",
              "    <tr>\n",
              "      <th>4</th>\n",
              "      <td>0.331835</td>\n",
              "    </tr>\n",
              "    <tr>\n",
              "      <th>5</th>\n",
              "      <td>0.315230</td>\n",
              "    </tr>\n",
              "    <tr>\n",
              "      <th>6</th>\n",
              "      <td>0.331737</td>\n",
              "    </tr>\n",
              "    <tr>\n",
              "      <th>7</th>\n",
              "      <td>0.324636</td>\n",
              "    </tr>\n",
              "    <tr>\n",
              "      <th>8</th>\n",
              "      <td>0.327620</td>\n",
              "    </tr>\n",
              "    <tr>\n",
              "      <th>9</th>\n",
              "      <td>0.325602</td>\n",
              "    </tr>\n",
              "    <tr>\n",
              "      <th>10</th>\n",
              "      <td>0.322269</td>\n",
              "    </tr>\n",
              "    <tr>\n",
              "      <th>11</th>\n",
              "      <td>0.337047</td>\n",
              "    </tr>\n",
              "  </tbody>\n",
              "</table>\n",
              "</div>"
            ],
            "text/plain": [
              "    silhoutte\n",
              "N            \n",
              "2    0.322877\n",
              "3    0.342039\n",
              "4    0.331835\n",
              "5    0.315230\n",
              "6    0.331737\n",
              "7    0.324636\n",
              "8    0.327620\n",
              "9    0.325602\n",
              "10   0.322269\n",
              "11   0.337047"
            ]
          },
          "execution_count": 67,
          "metadata": {},
          "output_type": "execute_result"
        }
      ],
      "source": [
        "pd.DataFrame(results).set_index('N')"
      ]
    },
    {
      "cell_type": "code",
      "execution_count": null,
      "metadata": {
        "id": "suKNiMN6Ji_t",
        "outputId": "1401b6c9-32cc-455f-95fd-c706eb1a365c"
      },
      "outputs": [
        {
          "data": {
            "text/plain": [
              "<matplotlib.axes._subplots.AxesSubplot at 0x21aad6e3760>"
            ]
          },
          "execution_count": 68,
          "metadata": {},
          "output_type": "execute_result"
        },
        {
          "data": {
            "image/png": "[encoded data removed]",
            "text/plain": [
              "<Figure size 432x288 with 1 Axes>"
            ]
          },
          "metadata": {
            "needs_background": "light"
          },
          "output_type": "display_data"
        }
      ],
      "source": [
        "pd.DataFrame(results).set_index('N').plot.line()"
      ]
    },
    {
      "cell_type": "markdown",
      "metadata": {
        "id": "dD_r3FTbJi_t"
      },
      "source": [
        "* Dado los resultados que entrega el algoritmo de clasificación utilizado, me quedo con el valor de N=3, que es el nivel de clusters, que posee el mayor valor junto con significar la primera alza en el gráfico"
      ]
    },
    {
      "cell_type": "code",
      "execution_count": null,
      "metadata": {
        "id": "i1S8BHTJJi_t",
        "outputId": "2162028d-3847-41ab-84f5-3c02f22a45b2"
      },
      "outputs": [
        {
          "data": {
            "image/png": "[encoded data removed]",
            "text/plain": [
              "<Figure size 432x288 with 1 Axes>"
            ]
          },
          "metadata": {
            "needs_background": "light"
          },
          "output_type": "display_data"
        }
      ],
      "source": [
        "N = range(1, 12)\n",
        "kmeans = [KMeans(n_clusters=i) for i in N]\n",
        "kmeans\n",
        "score = [kmeans[i].fit(data_trasf).score(data_trasf) for i in range(len(kmeans))]\n",
        "score\n",
        "plt.plot(N,score)\n",
        "plt.xlabel('Número de cluster')\n",
        "plt.ylabel('Score')\n",
        "plt.title('Elbow Curve')\n",
        "plt.show()"
      ]
    },
    {
      "cell_type": "markdown",
      "metadata": {
        "id": "8YgBpEPSJi_u"
      },
      "source": [
        "* El método del codo verifica que el número de cluster adecuado es 3"
      ]
    },
    {
      "cell_type": "markdown",
      "metadata": {
        "id": "AAFZvR9qJi_u"
      },
      "source": [
        "### 9.Visualizar con el número de clusters óptimo.Caracterizar cada clústeren el mundo real de acuerdo a los resultados obtenidos."
      ]
    },
    {
      "cell_type": "code",
      "execution_count": null,
      "metadata": {
        "id": "77OvRuGDJi_u"
      },
      "outputs": [],
      "source": [
        "data_cluster=data_trasf.copy()"
      ]
    },
    {
      "cell_type": "code",
      "execution_count": null,
      "metadata": {
        "id": "45iTAsJJJi_u",
        "outputId": "d8b56006-5681-42a6-ddc6-45234f793daa"
      },
      "outputs": [
        {
          "name": "stdout",
          "output_type": "stream",
          "text": [
            "[[-7.22734200e-01 -9.00725643e-01  1.00000000e+00]\n",
            " [-3.93360325e-01  9.63748553e-01  2.00000000e+00]\n",
            " [ 1.15908881e+00 -2.18450371e-01 -1.11022302e-15]]\n"
          ]
        }
      ],
      "source": [
        "k=3\n",
        "kmeans=KMeans(n_clusters=k).fit(data_cluster)\n",
        "centroids = kmeans.cluster_centers_\n",
        "print(centroids)"
      ]
    },
    {
      "cell_type": "code",
      "execution_count": null,
      "metadata": {
        "id": "ssrDDybOJi_u"
      },
      "outputs": [],
      "source": [
        "data_analisis= data_cluster.merge(data_scale, left_index=True, right_index=True)\n"
      ]
    },
    {
      "cell_type": "code",
      "execution_count": null,
      "metadata": {
        "id": "XLtrMbSeJi_u",
        "outputId": "f44d2742-6ebe-4562-9ed9-6bfe26aad8fe"
      },
      "outputs": [
        {
          "data": {
            "text/html": [
              "<div>\n",
              "<style scoped>\n",
              "    .dataframe tbody tr th:only-of-type {\n",
              "        vertical-align: middle;\n",
              "    }\n",
              "\n",
              "    .dataframe tbody tr th {\n",
              "        vertical-align: top;\n",
              "    }\n",
              "\n",
              "    .dataframe thead th {\n",
              "        text-align: right;\n",
              "    }\n",
              "</style>\n",
              "<table border=\"1\" class=\"dataframe\">\n",
              "  <thead>\n",
              "    <tr style=\"text-align: right;\">\n",
              "      <th></th>\n",
              "      <th>0</th>\n",
              "      <th>1</th>\n",
              "      <th>cluster</th>\n",
              "      <th>leche</th>\n",
              "      <th>congelados</th>\n",
              "      <th>vegetales</th>\n",
              "      <th>abarrotes</th>\n",
              "      <th>limpieza</th>\n",
              "      <th>gourmet</th>\n",
              "    </tr>\n",
              "  </thead>\n",
              "  <tbody>\n",
              "    <tr>\n",
              "      <th>0</th>\n",
              "      <td>1.665185</td>\n",
              "      <td>-1.250068</td>\n",
              "      <td>0</td>\n",
              "      <td>0.658919</td>\n",
              "      <td>-1.279259</td>\n",
              "      <td>0.870389</td>\n",
              "      <td>1.430770</td>\n",
              "      <td>-0.752981</td>\n",
              "      <td>-0.974149</td>\n",
              "    </tr>\n",
              "    <tr>\n",
              "      <th>1</th>\n",
              "      <td>2.874696</td>\n",
              "      <td>-0.463760</td>\n",
              "      <td>0</td>\n",
              "      <td>1.047927</td>\n",
              "      <td>-0.042500</td>\n",
              "      <td>1.634834</td>\n",
              "      <td>1.312380</td>\n",
              "      <td>1.315414</td>\n",
              "      <td>-1.738852</td>\n",
              "    </tr>\n",
              "    <tr>\n",
              "      <th>2</th>\n",
              "      <td>0.333278</td>\n",
              "      <td>0.176402</td>\n",
              "      <td>0</td>\n",
              "      <td>0.402399</td>\n",
              "      <td>-0.993049</td>\n",
              "      <td>1.529310</td>\n",
              "      <td>-1.158739</td>\n",
              "      <td>-0.312979</td>\n",
              "      <td>0.664092</td>\n",
              "    </tr>\n",
              "    <tr>\n",
              "      <th>3</th>\n",
              "      <td>0.576755</td>\n",
              "      <td>-0.381744</td>\n",
              "      <td>0</td>\n",
              "      <td>0.207542</td>\n",
              "      <td>0.100604</td>\n",
              "      <td>1.528279</td>\n",
              "      <td>0.662639</td>\n",
              "      <td>-1.079771</td>\n",
              "      <td>-0.079914</td>\n",
              "    </tr>\n",
              "    <tr>\n",
              "      <th>4</th>\n",
              "      <td>1.571731</td>\n",
              "      <td>0.706174</td>\n",
              "      <td>0</td>\n",
              "      <td>-1.085629</td>\n",
              "      <td>-0.972855</td>\n",
              "      <td>1.039845</td>\n",
              "      <td>0.490309</td>\n",
              "      <td>0.941742</td>\n",
              "      <td>-0.347543</td>\n",
              "    </tr>\n",
              "    <tr>\n",
              "      <th>5</th>\n",
              "      <td>0.781714</td>\n",
              "      <td>-1.061243</td>\n",
              "      <td>0</td>\n",
              "      <td>1.275201</td>\n",
              "      <td>0.404571</td>\n",
              "      <td>-0.723808</td>\n",
              "      <td>0.942851</td>\n",
              "      <td>1.577263</td>\n",
              "      <td>-0.449241</td>\n",
              "    </tr>\n",
              "    <tr>\n",
              "      <th>6</th>\n",
              "      <td>0.405580</td>\n",
              "      <td>-0.938711</td>\n",
              "      <td>0</td>\n",
              "      <td>0.433759</td>\n",
              "      <td>-0.721464</td>\n",
              "      <td>0.199781</td>\n",
              "      <td>0.710275</td>\n",
              "      <td>-0.314715</td>\n",
              "      <td>0.186643</td>\n",
              "    </tr>\n",
              "    <tr>\n",
              "      <th>7</th>\n",
              "      <td>-0.290164</td>\n",
              "      <td>0.344129</td>\n",
              "      <td>2</td>\n",
              "      <td>0.830519</td>\n",
              "      <td>0.745794</td>\n",
              "      <td>1.224082</td>\n",
              "      <td>-1.166795</td>\n",
              "      <td>-0.981144</td>\n",
              "      <td>-0.150925</td>\n",
              "    </tr>\n",
              "    <tr>\n",
              "      <th>8</th>\n",
              "      <td>-0.603863</td>\n",
              "      <td>-2.304493</td>\n",
              "      <td>1</td>\n",
              "      <td>1.514455</td>\n",
              "      <td>-1.720411</td>\n",
              "      <td>-1.626774</td>\n",
              "      <td>0.410098</td>\n",
              "      <td>-0.251163</td>\n",
              "      <td>1.008440</td>\n",
              "    </tr>\n",
              "    <tr>\n",
              "      <th>9</th>\n",
              "      <td>-0.595954</td>\n",
              "      <td>1.157452</td>\n",
              "      <td>2</td>\n",
              "      <td>-1.677598</td>\n",
              "      <td>0.610001</td>\n",
              "      <td>0.678590</td>\n",
              "      <td>-0.059257</td>\n",
              "      <td>0.137095</td>\n",
              "      <td>1.152602</td>\n",
              "    </tr>\n",
              "  </tbody>\n",
              "</table>\n",
              "</div>"
            ],
            "text/plain": [
              "          0         1  cluster     leche  congelados  vegetales  abarrotes  \\\n",
              "0  1.665185 -1.250068        0  0.658919   -1.279259   0.870389   1.430770   \n",
              "1  2.874696 -0.463760        0  1.047927   -0.042500   1.634834   1.312380   \n",
              "2  0.333278  0.176402        0  0.402399   -0.993049   1.529310  -1.158739   \n",
              "3  0.576755 -0.381744        0  0.207542    0.100604   1.528279   0.662639   \n",
              "4  1.571731  0.706174        0 -1.085629   -0.972855   1.039845   0.490309   \n",
              "5  0.781714 -1.061243        0  1.275201    0.404571  -0.723808   0.942851   \n",
              "6  0.405580 -0.938711        0  0.433759   -0.721464   0.199781   0.710275   \n",
              "7 -0.290164  0.344129        2  0.830519    0.745794   1.224082  -1.166795   \n",
              "8 -0.603863 -2.304493        1  1.514455   -1.720411  -1.626774   0.410098   \n",
              "9 -0.595954  1.157452        2 -1.677598    0.610001   0.678590  -0.059257   \n",
              "\n",
              "   limpieza   gourmet  \n",
              "0 -0.752981 -0.974149  \n",
              "1  1.315414 -1.738852  \n",
              "2 -0.312979  0.664092  \n",
              "3 -1.079771 -0.079914  \n",
              "4  0.941742 -0.347543  \n",
              "5  1.577263 -0.449241  \n",
              "6 -0.314715  0.186643  \n",
              "7 -0.981144 -0.150925  \n",
              "8 -0.251163  1.008440  \n",
              "9  0.137095  1.152602  "
            ]
          },
          "execution_count": 97,
          "metadata": {},
          "output_type": "execute_result"
        }
      ],
      "source": [
        "data_analisis.head(10)"
      ]
    },
    {
      "cell_type": "code",
      "execution_count": null,
      "metadata": {
        "id": "Cms-q3R8Ji_u",
        "outputId": "2115cc1f-4087-4f8e-80c1-59407a5650ef"
      },
      "outputs": [
        {
          "data": {
            "text/html": [
              "<div>\n",
              "<style scoped>\n",
              "    .dataframe tbody tr th:only-of-type {\n",
              "        vertical-align: middle;\n",
              "    }\n",
              "\n",
              "    .dataframe tbody tr th {\n",
              "        vertical-align: top;\n",
              "    }\n",
              "\n",
              "    .dataframe thead th {\n",
              "        text-align: right;\n",
              "    }\n",
              "</style>\n",
              "<table border=\"1\" class=\"dataframe\">\n",
              "  <thead>\n",
              "    <tr style=\"text-align: right;\">\n",
              "      <th></th>\n",
              "      <th>vegetales</th>\n",
              "      <th>abarrotes</th>\n",
              "      <th>gourmet</th>\n",
              "      <th>leche</th>\n",
              "      <th>limpieza</th>\n",
              "      <th>congelados</th>\n",
              "    </tr>\n",
              "    <tr>\n",
              "      <th>cluster</th>\n",
              "      <th></th>\n",
              "      <th></th>\n",
              "      <th></th>\n",
              "      <th></th>\n",
              "      <th></th>\n",
              "      <th></th>\n",
              "    </tr>\n",
              "  </thead>\n",
              "  <tbody>\n",
              "    <tr>\n",
              "      <th>0</th>\n",
              "      <td>0.585295</td>\n",
              "      <td>0.461497</td>\n",
              "      <td>-0.583916</td>\n",
              "      <td>0.289176</td>\n",
              "      <td>0.448579</td>\n",
              "      <td>-0.463493</td>\n",
              "    </tr>\n",
              "    <tr>\n",
              "      <th>1</th>\n",
              "      <td>-0.544445</td>\n",
              "      <td>0.270300</td>\n",
              "      <td>0.656621</td>\n",
              "      <td>0.568871</td>\n",
              "      <td>-0.454819</td>\n",
              "      <td>0.053422</td>\n",
              "    </tr>\n",
              "    <tr>\n",
              "      <th>2</th>\n",
              "      <td>-0.044641</td>\n",
              "      <td>-0.635391</td>\n",
              "      <td>-0.052803</td>\n",
              "      <td>-0.740879</td>\n",
              "      <td>-0.002000</td>\n",
              "      <td>0.359408</td>\n",
              "    </tr>\n",
              "  </tbody>\n",
              "</table>\n",
              "</div>"
            ],
            "text/plain": [
              "         vegetales  abarrotes   gourmet     leche  limpieza  congelados\n",
              "cluster                                                                \n",
              "0         0.585295   0.461497 -0.583916  0.289176  0.448579   -0.463493\n",
              "1        -0.544445   0.270300  0.656621  0.568871 -0.454819    0.053422\n",
              "2        -0.044641  -0.635391 -0.052803 -0.740879 -0.002000    0.359408"
            ]
          },
          "execution_count": 100,
          "metadata": {},
          "output_type": "execute_result"
        }
      ],
      "source": [
        "data_analisis.groupby('cluster')[['vegetales','abarrotes','gourmet','leche','limpieza','congelados']].mean()"
      ]
    },
    {
      "cell_type": "markdown",
      "metadata": {
        "id": "5IBbzL0yJi_u"
      },
      "source": [
        "* El cluster 0 se inclina en promedio por productos vegetales, abarrotes y productos de limpieza\n",
        "\n",
        "* El cluster 1 se inclina por productos gourment, leche y abarrotes\n",
        "\n",
        "* El cluster 2 se inclina por congelados"
      ]
    },
    {
      "cell_type": "markdown",
      "metadata": {
        "id": "KBLP5p3-Ji_u"
      },
      "source": [
        "### 10. Aplicar componentes principales inverso para recuperar los datos originales."
      ]
    },
    {
      "cell_type": "code",
      "execution_count": null,
      "metadata": {
        "id": "57WVmtrWJi_u",
        "outputId": "ea7fcdd0-589f-4c7f-c886-712e7968bb3a"
      },
      "outputs": [
        {
          "data": {
            "text/html": [
              "<div>\n",
              "<style scoped>\n",
              "    .dataframe tbody tr th:only-of-type {\n",
              "        vertical-align: middle;\n",
              "    }\n",
              "\n",
              "    .dataframe tbody tr th {\n",
              "        vertical-align: top;\n",
              "    }\n",
              "\n",
              "    .dataframe thead th {\n",
              "        text-align: right;\n",
              "    }\n",
              "</style>\n",
              "<table border=\"1\" class=\"dataframe\">\n",
              "  <thead>\n",
              "    <tr style=\"text-align: right;\">\n",
              "      <th></th>\n",
              "      <th>leche</th>\n",
              "      <th>congelados</th>\n",
              "      <th>vegetales</th>\n",
              "      <th>abarrotes</th>\n",
              "      <th>limpieza</th>\n",
              "      <th>gourmet</th>\n",
              "    </tr>\n",
              "  </thead>\n",
              "  <tbody>\n",
              "    <tr>\n",
              "      <th>0</th>\n",
              "      <td>0.999059</td>\n",
              "      <td>-0.915301</td>\n",
              "      <td>0.642365</td>\n",
              "      <td>1.243355</td>\n",
              "      <td>0.488275</td>\n",
              "      <td>-0.550128</td>\n",
              "    </tr>\n",
              "    <tr>\n",
              "      <th>1</th>\n",
              "      <td>0.542532</td>\n",
              "      <td>-1.193712</td>\n",
              "      <td>1.413200</td>\n",
              "      <td>1.191758</td>\n",
              "      <td>1.131443</td>\n",
              "      <td>-1.435992</td>\n",
              "    </tr>\n",
              "    <tr>\n",
              "      <th>2</th>\n",
              "      <td>-0.097701</td>\n",
              "      <td>-0.085899</td>\n",
              "      <td>0.205172</td>\n",
              "      <td>0.008471</td>\n",
              "      <td>0.170368</td>\n",
              "      <td>-0.232542</td>\n",
              "    </tr>\n",
              "    <tr>\n",
              "      <th>3</th>\n",
              "      <td>0.310288</td>\n",
              "      <td>-0.305340</td>\n",
              "      <td>0.231690</td>\n",
              "      <td>0.401782</td>\n",
              "      <td>0.177843</td>\n",
              "      <td>-0.205246</td>\n",
              "    </tr>\n",
              "    <tr>\n",
              "      <th>4</th>\n",
              "      <td>-0.373025</td>\n",
              "      <td>-0.433772</td>\n",
              "      <td>0.945006</td>\n",
              "      <td>0.110796</td>\n",
              "      <td>0.782038</td>\n",
              "      <td>-1.060575</td>\n",
              "    </tr>\n",
              "    <tr>\n",
              "      <th>...</th>\n",
              "      <td>...</td>\n",
              "      <td>...</td>\n",
              "      <td>...</td>\n",
              "      <td>...</td>\n",
              "      <td>...</td>\n",
              "      <td>...</td>\n",
              "    </tr>\n",
              "    <tr>\n",
              "      <th>495</th>\n",
              "      <td>0.162758</td>\n",
              "      <td>-0.147162</td>\n",
              "      <td>0.101668</td>\n",
              "      <td>0.201110</td>\n",
              "      <td>0.077120</td>\n",
              "      <td>-0.086438</td>\n",
              "    </tr>\n",
              "    <tr>\n",
              "      <th>496</th>\n",
              "      <td>-0.486069</td>\n",
              "      <td>0.632949</td>\n",
              "      <td>-0.599191</td>\n",
              "      <td>-0.744050</td>\n",
              "      <td>-0.470874</td>\n",
              "      <td>0.573944</td>\n",
              "    </tr>\n",
              "    <tr>\n",
              "      <th>497</th>\n",
              "      <td>-0.691424</td>\n",
              "      <td>0.350738</td>\n",
              "      <td>-0.012625</td>\n",
              "      <td>-0.650865</td>\n",
              "      <td>0.013632</td>\n",
              "      <td>-0.080786</td>\n",
              "    </tr>\n",
              "    <tr>\n",
              "      <th>498</th>\n",
              "      <td>0.469313</td>\n",
              "      <td>-0.257534</td>\n",
              "      <td>0.038309</td>\n",
              "      <td>0.456217</td>\n",
              "      <td>0.014952</td>\n",
              "      <td>0.023058</td>\n",
              "    </tr>\n",
              "    <tr>\n",
              "      <th>499</th>\n",
              "      <td>0.902321</td>\n",
              "      <td>0.051230</td>\n",
              "      <td>-0.761101</td>\n",
              "      <td>0.472014</td>\n",
              "      <td>-0.650659</td>\n",
              "      <td>0.936247</td>\n",
              "    </tr>\n",
              "  </tbody>\n",
              "</table>\n",
              "<p>500 rows × 6 columns</p>\n",
              "</div>"
            ],
            "text/plain": [
              "        leche  congelados  vegetales  abarrotes  limpieza   gourmet\n",
              "0    0.999059   -0.915301   0.642365   1.243355  0.488275 -0.550128\n",
              "1    0.542532   -1.193712   1.413200   1.191758  1.131443 -1.435992\n",
              "2   -0.097701   -0.085899   0.205172   0.008471  0.170368 -0.232542\n",
              "3    0.310288   -0.305340   0.231690   0.401782  0.177843 -0.205246\n",
              "4   -0.373025   -0.433772   0.945006   0.110796  0.782038 -1.060575\n",
              "..        ...         ...        ...        ...       ...       ...\n",
              "495  0.162758   -0.147162   0.101668   0.201110  0.077120 -0.086438\n",
              "496 -0.486069    0.632949  -0.599191  -0.744050 -0.470874  0.573944\n",
              "497 -0.691424    0.350738  -0.012625  -0.650865  0.013632 -0.080786\n",
              "498  0.469313   -0.257534   0.038309   0.456217  0.014952  0.023058\n",
              "499  0.902321    0.051230  -0.761101   0.472014 -0.650659  0.936247\n",
              "\n",
              "[500 rows x 6 columns]"
            ]
          },
          "execution_count": 70,
          "metadata": {},
          "output_type": "execute_result"
        }
      ],
      "source": [
        "data_comeback = pd.DataFrame(pca.inverse_transform(data_trasf), columns=pd_data.columns)\n",
        "data_comeback"
      ]
    },
    {
      "cell_type": "code",
      "execution_count": null,
      "metadata": {
        "id": "_RqXSJNmJi_v"
      },
      "outputs": [],
      "source": []
    }
  ],
  "metadata": {
    "kernelspec": {
      "display_name": "Python 3",
      "language": "python",
      "name": "python3"
    },
    "language_info": {
      "codemirror_mode": {
        "name": "ipython",
        "version": 3
      },
      "file_extension": ".py",
      "mimetype": "text/x-python",
      "name": "python",
      "nbconvert_exporter": "python",
      "pygments_lexer": "ipython3",
      "version": "3.8.3"
    },
    "colab": {
      "provenance": [],
      "include_colab_link": true
    }
  },
  "nbformat": 4,
  "nbformat_minor": 0
}