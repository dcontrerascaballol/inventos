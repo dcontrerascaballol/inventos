{
  "nbformat": 4,
  "nbformat_minor": 0,
  "metadata": {
    "colab": {
      "provenance": [],
      "mount_file_id": "16QXgWJP-dXAZSAUNFaoGLqzuEyXpeIsP",
      "authorship_tag": "ABX9TyNKL6U7QyH4/t4o1OBM7dKt",
      "include_colab_link": true
    },
    "kernelspec": {
      "name": "python3",
      "display_name": "Python 3"
    },
    "language_info": {
      "name": "python"
    }
  },
  "cells": [
    {
      "cell_type": "markdown",
      "metadata": {
        "id": "view-in-github",
        "colab_type": "text"
      },
      "source": [
        "<a href=\"https://colab.research.google.com/github/dcontrerascaballol/inventos/blob/main/Copia_de_cartas.ipynb\" target=\"_parent\"><img src=\"https://colab.research.google.com/assets/colab-badge.svg\" alt=\"Open In Colab\"/></a>"
      ]
    },
    {
      "cell_type": "markdown",
      "source": [
        "### Instalación de paquetes para trabajar"
      ],
      "metadata": {
        "id": "l4gyO8dvHw-Y"
      }
    },
    {
      "cell_type": "markdown",
      "source": [
        " Se instalan paquetes para poder procesar los datos y el uso de archivos ubicados en las carpetas de trabajo."
      ],
      "metadata": {
        "id": "NHznlix1LTMY"
      }
    },
    {
      "cell_type": "code",
      "source": [
        "!pip install python-docx"
      ],
      "metadata": {
        "colab": {
          "base_uri": "https://localhost:8080/"
        },
        "id": "GBYZQylvfapm",
        "outputId": "e521d27b-d2cd-4112-a4af-72a0dd6b36fe"
      },
      "execution_count": null,
      "outputs": [
        {
          "output_type": "stream",
          "name": "stdout",
          "text": [
            "Collecting python-docx\n",
            "  Downloading python_docx-1.1.2-py3-none-any.whl.metadata (2.0 kB)\n",
            "Requirement already satisfied: lxml>=3.1.0 in /usr/local/lib/python3.10/dist-packages (from python-docx) (4.9.4)\n",
            "Requirement already satisfied: typing-extensions>=4.9.0 in /usr/local/lib/python3.10/dist-packages (from python-docx) (4.12.2)\n",
            "Downloading python_docx-1.1.2-py3-none-any.whl (244 kB)\n",
            "\u001b[?25l   \u001b[90m━━━━━━━━━━━━━━━━━━━━━━━━━━━━━━━━━━━━━━━━\u001b[0m \u001b[32m0.0/244.3 kB\u001b[0m \u001b[31m?\u001b[0m eta \u001b[36m-:--:--\u001b[0m\r\u001b[2K   \u001b[91m━━━━━━━━━━━━━━━━━━━━━━━━━━━━━━━━━━━━━━\u001b[0m\u001b[91m╸\u001b[0m\u001b[90m━\u001b[0m \u001b[32m235.5/244.3 kB\u001b[0m \u001b[31m9.2 MB/s\u001b[0m eta \u001b[36m0:00:01\u001b[0m\r\u001b[2K   \u001b[90m━━━━━━━━━━━━━━━━━━━━━━━━━━━━━━━━━━━━━━━━\u001b[0m \u001b[32m244.3/244.3 kB\u001b[0m \u001b[31m5.3 MB/s\u001b[0m eta \u001b[36m0:00:00\u001b[0m\n",
            "\u001b[?25hInstalling collected packages: python-docx\n",
            "Successfully installed python-docx-1.1.2\n"
          ]
        }
      ]
    },
    {
      "cell_type": "code",
      "execution_count": null,
      "metadata": {
        "id": "lVRYytlsewu8"
      },
      "outputs": [],
      "source": [
        "import pandas as pd\n",
        "import tempfile\n",
        "from docx import Document"
      ]
    },
    {
      "cell_type": "code",
      "source": [
        "# Ruta del documento Word genérico\n",
        "ruta_word = \"/content/drive/MyDrive/extracto2/plantilla_extracto_do_2.docx\""
      ],
      "metadata": {
        "id": "T4skPzhBhTS_"
      },
      "execution_count": null,
      "outputs": []
    },
    {
      "cell_type": "code",
      "source": [
        "datos = pd.read_excel(\"/content/drive/MyDrive/extracto2/extracto_2.xlsx\")\n",
        "print(datos.columns)"
      ],
      "metadata": {
        "id": "dwFnvEsnhXyL",
        "colab": {
          "base_uri": "https://localhost:8080/"
        },
        "outputId": "eddb860b-f6de-4529-8099-1d4820b7f665"
      },
      "execution_count": null,
      "outputs": [
        {
          "output_type": "stream",
          "name": "stdout",
          "text": [
            "Index(['nombre_sostenedor', 'rut_sostenedor', 'n_rex', 'nombre_region', 'sep',\n",
            "       'general', 'internado', 'mantenimiento', 'pie', 'proretencion',\n",
            "       'refuerzo', 'total_general'],\n",
            "      dtype='object')\n"
          ]
        }
      ]
    },
    {
      "cell_type": "code",
      "source": [
        "import os\n",
        "# Directorio donde se guardarán las cartas\n",
        "directorio_cartas = \"/content/drive/MyDrive/extracto2\"\n",
        "os.makedirs(directorio_cartas, exist_ok=True)"
      ],
      "metadata": {
        "id": "dqR-Bmdkmien"
      },
      "execution_count": null,
      "outputs": []
    },
    {
      "cell_type": "markdown",
      "source": [
        "### Se genera script para generar los extractos por sostenedor"
      ],
      "metadata": {
        "id": "aqzRHG6USB4i"
      }
    },
    {
      "cell_type": "markdown",
      "source": [
        "El script busca incoporar a la planilla de word los datos de cada sostenedor que se encuentran en el excel, así mismo, se reproduce la n-veces necesarias, este proceso genera un documento word por cada sostenedor.\n",
        "\n",
        "Se busca insertar el número de resolución, nombre de sostenedor, rut del sostenedor, nombre de la región, así como, los saldos finales por subvención y el total."
      ],
      "metadata": {
        "id": "eUp9yN5RJBNz"
      }
    },
    {
      "cell_type": "code",
      "source": [
        "\n",
        "# Función para reemplazar el texto en un documento Word\n",
        "def reemplazar_texto(doc, marcador, reemplazo):\n",
        "    for paragraph in doc.paragraphs:\n",
        "        if marcador in paragraph.text:\n",
        "            paragraph.text = paragraph.text.replace(marcador, reemplazo)\n",
        "    for table in doc.tables:\n",
        "        for row in table.rows:\n",
        "            for cell in row.cells:\n",
        "                if marcador in cell.text:\n",
        "                    cell.text = cell.text.replace(marcador, reemplazo)\n",
        "\n",
        "# Función para crear un documento personalizado\n",
        "def crear_carta(fila, ruta_word_generico, directorio_cartas):\n",
        "    doc = Document(ruta_word_generico)\n",
        "\n",
        "    # Reemplazar los marcadores en el documento\n",
        "    reemplazar_texto(doc, \"{{n_rex}}\", str(fila['n_rex']))\n",
        "    reemplazar_texto(doc, \"{{nombre_sostenedor}}\", str(fila['nombre_sostenedor']))\n",
        "    reemplazar_texto(doc, \"{{rut_sostenedor}}\", str(fila['rut_sostenedor']))\n",
        "    reemplazar_texto(doc, \"{{nombre_region}}\", str(fila['nombre_region']))\n",
        "    reemplazar_texto(doc, \"{{sep}}\", str(fila['sep']))\n",
        "    reemplazar_texto(doc, \"{{general}}\", str(fila['general']))\n",
        "    reemplazar_texto(doc, \"{{internado}}\", str(fila['internado']))\n",
        "    reemplazar_texto(doc, \"{{mantenimiento}}\", str(fila['mantenimiento']))\n",
        "    reemplazar_texto(doc, \"{{pie}}\", str(fila['pie']))\n",
        "    reemplazar_texto(doc, \"{{proretencion}}\", str(fila['proretencion']))\n",
        "    reemplazar_texto(doc, \"{{refuerzo}}\", str(fila['refuerzo']))\n",
        "    reemplazar_texto(doc, \"{{total_general}}\", str(fila['total_general']))\n",
        "\n",
        "\n",
        "    # Guardar el documento\n",
        "    file_path = os.path.join(directorio_cartas, f\"{fila['nombre_sostenedor']}.docx\")\n",
        "    doc.save(file_path)\n",
        "    return file_path\n",
        "\n",
        "\n",
        "# Crear las cartas\n",
        "archivos_cartas = []\n",
        "for index, fila in datos.iterrows():\n",
        "    carta = crear_carta(fila, ruta_word, directorio_cartas)\n",
        "    archivos_cartas.append(carta)\n",
        "\n",
        "# Guardar las rutas de las cartas creadas para su posterior uso\n",
        "with open('archivos_cartas.txt', 'w') as f:\n",
        "    for item in archivos_cartas:\n",
        "        f.write(\"%s\\n\" % item)"
      ],
      "metadata": {
        "id": "uYnfFHRPjNtf"
      },
      "execution_count": null,
      "outputs": []
    },
    {
      "cell_type": "markdown",
      "source": [
        "Nos da como resultado, el n-veces de registros en la base de datos de sostenedores, en este caso, los que deben informarse mediante el diario oficial.\n"
      ],
      "metadata": {
        "id": "vThbr2Qcqr3l"
      }
    },
    {
      "cell_type": "markdown",
      "source": [
        "## Se requiere generar un documento resumen de los sostenedores que requieren se realice una restitución de fondos"
      ],
      "metadata": {
        "id": "-F5A_Tl2RrTK"
      }
    },
    {
      "cell_type": "markdown",
      "source": [
        "Para hacer un resumen de los sostenedores, relevando, nombre, rut, región y resolución, de manera de enlistar los extractos que deben ser publicados en el diario oficial."
      ],
      "metadata": {
        "id": "IZF1DPTusQjD"
      }
    },
    {
      "cell_type": "code",
      "source": [
        "pip install python-docx pandas openpyxl"
      ],
      "metadata": {
        "colab": {
          "base_uri": "https://localhost:8080/"
        },
        "id": "T-quezLRO1lP",
        "outputId": "d345549b-ab6f-4da0-92e2-489ae3bd35fa"
      },
      "execution_count": null,
      "outputs": [
        {
          "output_type": "stream",
          "name": "stdout",
          "text": [
            "Requirement already satisfied: python-docx in /usr/local/lib/python3.10/dist-packages (1.1.2)\n",
            "Requirement already satisfied: pandas in /usr/local/lib/python3.10/dist-packages (2.1.4)\n",
            "Requirement already satisfied: openpyxl in /usr/local/lib/python3.10/dist-packages (3.1.5)\n",
            "Requirement already satisfied: lxml>=3.1.0 in /usr/local/lib/python3.10/dist-packages (from python-docx) (4.9.4)\n",
            "Requirement already satisfied: typing-extensions>=4.9.0 in /usr/local/lib/python3.10/dist-packages (from python-docx) (4.12.2)\n",
            "Requirement already satisfied: numpy<2,>=1.22.4 in /usr/local/lib/python3.10/dist-packages (from pandas) (1.26.4)\n",
            "Requirement already satisfied: python-dateutil>=2.8.2 in /usr/local/lib/python3.10/dist-packages (from pandas) (2.8.2)\n",
            "Requirement already satisfied: pytz>=2020.1 in /usr/local/lib/python3.10/dist-packages (from pandas) (2024.2)\n",
            "Requirement already satisfied: tzdata>=2022.1 in /usr/local/lib/python3.10/dist-packages (from pandas) (2024.1)\n",
            "Requirement already satisfied: et-xmlfile in /usr/local/lib/python3.10/dist-packages (from openpyxl) (1.1.0)\n",
            "Requirement already satisfied: six>=1.5 in /usr/local/lib/python3.10/dist-packages (from python-dateutil>=2.8.2->pandas) (1.16.0)\n"
          ]
        }
      ]
    },
    {
      "cell_type": "code",
      "source": [
        "datos = pd.read_excel(\"/content/drive/MyDrive/listado/extracto.xlsx\")\n",
        "print(datos.columns)"
      ],
      "metadata": {
        "colab": {
          "base_uri": "https://localhost:8080/"
        },
        "id": "7XY6xU4pxUOl",
        "outputId": "658d30fb-8967-4b53-851c-f98f42fd76d8"
      },
      "execution_count": null,
      "outputs": [
        {
          "output_type": "stream",
          "name": "stdout",
          "text": [
            "Index(['N°', 'rut', 'Último periodo', 'Saldo total determinado', 'MultiRBD',\n",
            "       'Lote', 'Medio de notificación', 'Fecha notificación ', 'Cómo Prodecer',\n",
            "       'Dirección', 'Comuna', 'nombre_region', 'nombre_sostenedor',\n",
            "       'rut_sostenedor', 'n_rex', 'Fechas_rex', 'sep', 'general', 'internado',\n",
            "       'mantenimiento', 'pie', 'proretencion', 'refuerzo', 'total_general'],\n",
            "      dtype='object')\n"
          ]
        }
      ]
    },
    {
      "cell_type": "code",
      "source": [
        "import pandas as pd\n",
        "from docx import Document\n",
        "\n",
        "# Leer los datos desde el archivo Excel\n",
        "ruta_excel = \"/content/drive/MyDrive/listado/extracto_2.xlsx\"\n",
        "datos = pd.read_excel(ruta_excel)\n",
        "\n",
        "# Ruta de la plantilla Word\n",
        "ruta_plantilla_word = \"/content/drive/MyDrive/listado/LISTADO.docx\"\n",
        "\n",
        "# Documento unificado de salida\n",
        "archivo_salida = \"/content/drive/MyDrive/listado/Documento_Unificado_final.docx\"\n",
        "\n",
        "# Crear un documento Word vacío donde se agregarán las secciones repetidas\n",
        "doc_unificado = Document()\n",
        "\n",
        "# Función para reemplazar marcadores en los párrafos del documento\n",
        "def reemplazar_marcadores_en_parrafos(doc, fila):\n",
        "    for paragraph in doc.paragraphs:\n",
        "        if paragraph.runs:  # Verificar si el párrafo tiene \"runs\"\n",
        "            full_text = ''.join([run.text for run in paragraph.runs])\n",
        "            new_text = full_text.replace(\"{{n_rex}}\", str(fila['n_rex']))\n",
        "            new_text = new_text.replace(\"{{nombre_sostenedor}}\", str(fila['nombre_sostenedor']))\n",
        "            new_text = new_text.replace(\"{{rut_sostenedor}}\", str(fila['rut_sostenedor']))\n",
        "            new_text = new_text.replace(\"{{nombre_region}}\", str(fila['nombre_region']))\n",
        "\n",
        "            # Limpiar el contenido anterior y reasignar el nuevo texto\n",
        "            for run in paragraph.runs:\n",
        "                run.text = \"\"\n",
        "            paragraph.runs[0].text = new_text  # Asignar el nuevo texto al primer run\n",
        "\n",
        "# Función para reemplazar marcadores en las tablas del documento (si existen)\n",
        "def reemplazar_marcadores_en_tablas(doc, fila):\n",
        "    for table in doc.tables:\n",
        "        for row in table.rows:\n",
        "            for cell in row.cells:\n",
        "                for paragraph in cell.paragraphs:\n",
        "                    if paragraph.runs:  # Verificar si el párrafo tiene \"runs\"\n",
        "                        full_text = ''.join([run.text for run in paragraph.runs])\n",
        "                        new_text = full_text.replace(\"{{n_rex}}\", str(fila['n_rex']))\n",
        "                        new_text = new_text.replace(\"{{nombre_sostenedor}}\", str(fila['nombre_sostenedor']))\n",
        "                        new_text = new_text.replace(\"{{rut_sostenedor}}\", str(fila['rut_sostenedor']))\n",
        "                        new_text = new_text.replace(\"{{nombre_region}}\", str(fila['nombre_region']))\n",
        "\n",
        "                        # Limpiar el contenido anterior y reasignar el nuevo texto\n",
        "                        for run in paragraph.runs:\n",
        "                            run.text = \"\"\n",
        "                        paragraph.runs[0].text = new_text  # Asignar el nuevo texto al primer run\n",
        "\n",
        "# Iterar sobre cada fila del archivo Excel\n",
        "for index, fila in datos.iterrows():\n",
        "    # Cargar la plantilla de Word\n",
        "    doc_temp = Document(ruta_plantilla_word)\n",
        "\n",
        "    # Reemplazar los marcadores con los datos de la fila actual\n",
        "    reemplazar_marcadores_en_parrafos(doc_temp, fila)\n",
        "    reemplazar_marcadores_en_tablas(doc_temp, fila)\n",
        "\n",
        "    # Agregar el contenido del documento temporal al documento unificado\n",
        "    for element in doc_temp.element.body:\n",
        "        doc_unificado.element.body.append(element)\n",
        "\n",
        "    # Añadir un salto de página después de cada sección\n",
        "    doc_unificado.add_page_break()\n",
        "\n",
        "# Eliminar el último salto de página si no es necesario\n",
        "if doc_unificado.paragraphs[-1].text == '':\n",
        "    doc_unificado.paragraphs[-1]._element.getparent().remove(doc_unificado.paragraphs[-1]._element)\n",
        "\n",
        "# Guardar el documento unificado\n",
        "doc_unificado.save(archivo_salida)\n",
        "print(f\"Documento unificado guardado en: {archivo_salida}\")\n"
      ],
      "metadata": {
        "colab": {
          "base_uri": "https://localhost:8080/"
        },
        "id": "RQeHfYD40fm_",
        "outputId": "c77667f4-dcf1-422d-b306-9b6b3370601e"
      },
      "execution_count": null,
      "outputs": [
        {
          "output_type": "stream",
          "name": "stdout",
          "text": [
            "Documento unificado guardado en: /content/drive/MyDrive/listado/Documento_Unificado_final.docx\n"
          ]
        }
      ]
    },
    {
      "cell_type": "markdown",
      "source": [
        "El producto es un documento word que contiene n-veces la plantilla de sostenedores, por temas de formato, se reuqiere de ajustes."
      ],
      "metadata": {
        "id": "ePdCijRmtSEn"
      }
    },
    {
      "cell_type": "code",
      "source": [],
      "metadata": {
        "id": "rEiIvmortoZT"
      },
      "execution_count": null,
      "outputs": []
    }
  ]
}